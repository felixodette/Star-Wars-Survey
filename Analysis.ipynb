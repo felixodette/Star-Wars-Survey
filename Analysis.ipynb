{
 "metadata": {
  "language_info": {
   "codemirror_mode": {
    "name": "ipython",
    "version": 3
   },
   "file_extension": ".py",
   "mimetype": "text/x-python",
   "name": "python",
   "nbconvert_exporter": "python",
   "pygments_lexer": "ipython3",
   "version": "3.8.5-final"
  },
  "orig_nbformat": 2,
  "kernelspec": {
   "name": "python3",
   "display_name": "Python 3",
   "language": "python"
  }
 },
 "nbformat": 4,
 "nbformat_minor": 2,
 "cells": [
  {
   "source": [
    "# Star Wars Survey\n",
    "The data has several columns, including:\n",
    "\n",
    "- RespondentID - An anonymized ID for the respondent (person taking the survey)\n",
    "- Gender - The respondent's gender\n",
    "- Age - The respondent's age\n",
    "- Household Income - The respondent's income\n",
    "- Education - The respondent's education level\n",
    "- Location (Census Region) - The respondent's location\n",
    "- Have you seen any of the 6 films in the Star Wars franchise? - Has a Yes or No response\n",
    "- Do you consider yourself to be a fan of the Star Wars film franchise? - Has a Yes or No response\n",
    "\n",
    "There are several other columns containing answers to questions about the Star Wars movies. For some questions, the respondent had to check one or more boxes. This type of data is difficult to represent in columnar format. As a result, this data set needs a lot of cleaning."
   ],
   "cell_type": "markdown",
   "metadata": {}
  },
  {
   "cell_type": "code",
   "execution_count": 1,
   "metadata": {},
   "outputs": [
    {
     "output_type": "execute_result",
     "data": {
      "text/plain": [
       "   RespondentID Have you seen any of the 6 films in the Star Wars franchise?  \\\n",
       "0           NaN                                           Response             \n",
       "1  3.292880e+09                                                Yes             \n",
       "2  3.292880e+09                                                 No             \n",
       "3  3.292765e+09                                                Yes             \n",
       "4  3.292763e+09                                                Yes             \n",
       "\n",
       "  Do you consider yourself to be a fan of the Star Wars film franchise?  \\\n",
       "0                                           Response                      \n",
       "1                                                Yes                      \n",
       "2                                                NaN                      \n",
       "3                                                 No                      \n",
       "4                                                Yes                      \n",
       "\n",
       "  Which of the following Star Wars films have you seen? Please select all that apply.  \\\n",
       "0           Star Wars: Episode I  The Phantom Menace                                    \n",
       "1           Star Wars: Episode I  The Phantom Menace                                    \n",
       "2                                                NaN                                    \n",
       "3           Star Wars: Episode I  The Phantom Menace                                    \n",
       "4           Star Wars: Episode I  The Phantom Menace                                    \n",
       "\n",
       "                                    Unnamed: 4  \\\n",
       "0  Star Wars: Episode II  Attack of the Clones   \n",
       "1  Star Wars: Episode II  Attack of the Clones   \n",
       "2                                          NaN   \n",
       "3  Star Wars: Episode II  Attack of the Clones   \n",
       "4  Star Wars: Episode II  Attack of the Clones   \n",
       "\n",
       "                                    Unnamed: 5  \\\n",
       "0  Star Wars: Episode III  Revenge of the Sith   \n",
       "1  Star Wars: Episode III  Revenge of the Sith   \n",
       "2                                          NaN   \n",
       "3  Star Wars: Episode III  Revenge of the Sith   \n",
       "4  Star Wars: Episode III  Revenge of the Sith   \n",
       "\n",
       "                          Unnamed: 6  \\\n",
       "0  Star Wars: Episode IV  A New Hope   \n",
       "1  Star Wars: Episode IV  A New Hope   \n",
       "2                                NaN   \n",
       "3                                NaN   \n",
       "4  Star Wars: Episode IV  A New Hope   \n",
       "\n",
       "                                     Unnamed: 7  \\\n",
       "0  Star Wars: Episode V The Empire Strikes Back   \n",
       "1  Star Wars: Episode V The Empire Strikes Back   \n",
       "2                                           NaN   \n",
       "3                                           NaN   \n",
       "4  Star Wars: Episode V The Empire Strikes Back   \n",
       "\n",
       "                                 Unnamed: 8  \\\n",
       "0  Star Wars: Episode VI Return of the Jedi   \n",
       "1  Star Wars: Episode VI Return of the Jedi   \n",
       "2                                       NaN   \n",
       "3                                       NaN   \n",
       "4  Star Wars: Episode VI Return of the Jedi   \n",
       "\n",
       "  Please rank the Star Wars films in order of preference with 1 being your favorite film in the franchise and 6 being your least favorite film.  \\\n",
       "0           Star Wars: Episode I  The Phantom Menace                                                                                              \n",
       "1                                                  3                                                                                              \n",
       "2                                                NaN                                                                                              \n",
       "3                                                  1                                                                                              \n",
       "4                                                  5                                                                                              \n",
       "\n",
       "   ...       Unnamed: 28       Which character shot first?  \\\n",
       "0  ...              Yoda                          Response   \n",
       "1  ...    Very favorably  I don't understand this question   \n",
       "2  ...               NaN                               NaN   \n",
       "3  ...  Unfamiliar (N/A)  I don't understand this question   \n",
       "4  ...    Very favorably  I don't understand this question   \n",
       "\n",
       "  Are you familiar with the Expanded Universe?  \\\n",
       "0                                     Response   \n",
       "1                                          Yes   \n",
       "2                                          NaN   \n",
       "3                                           No   \n",
       "4                                           No   \n",
       "\n",
       "  Do you consider yourself to be a fan of the Expanded Universe?æ  \\\n",
       "0                                           Response                 \n",
       "1                                                 No                 \n",
       "2                                                NaN                 \n",
       "3                                                NaN                 \n",
       "4                                                NaN                 \n",
       "\n",
       "  Do you consider yourself to be a fan of the Star Trek franchise?    Gender  \\\n",
       "0                                           Response                Response   \n",
       "1                                                 No                    Male   \n",
       "2                                                Yes                    Male   \n",
       "3                                                 No                    Male   \n",
       "4                                                Yes                    Male   \n",
       "\n",
       "        Age     Household Income                         Education  \\\n",
       "0  Response             Response                          Response   \n",
       "1     18-29                  NaN                High school degree   \n",
       "2     18-29         $0 - $24,999                   Bachelor degree   \n",
       "3     18-29         $0 - $24,999                High school degree   \n",
       "4     18-29  $100,000 - $149,999  Some college or Associate degree   \n",
       "\n",
       "  Location (Census Region)  \n",
       "0                 Response  \n",
       "1           South Atlantic  \n",
       "2       West South Central  \n",
       "3       West North Central  \n",
       "4       West North Central  \n",
       "\n",
       "[5 rows x 38 columns]"
      ],
      "text/html": "<div>\n<style scoped>\n    .dataframe tbody tr th:only-of-type {\n        vertical-align: middle;\n    }\n\n    .dataframe tbody tr th {\n        vertical-align: top;\n    }\n\n    .dataframe thead th {\n        text-align: right;\n    }\n</style>\n<table border=\"1\" class=\"dataframe\">\n  <thead>\n    <tr style=\"text-align: right;\">\n      <th></th>\n      <th>RespondentID</th>\n      <th>Have you seen any of the 6 films in the Star Wars franchise?</th>\n      <th>Do you consider yourself to be a fan of the Star Wars film franchise?</th>\n      <th>Which of the following Star Wars films have you seen? Please select all that apply.</th>\n      <th>Unnamed: 4</th>\n      <th>Unnamed: 5</th>\n      <th>Unnamed: 6</th>\n      <th>Unnamed: 7</th>\n      <th>Unnamed: 8</th>\n      <th>Please rank the Star Wars films in order of preference with 1 being your favorite film in the franchise and 6 being your least favorite film.</th>\n      <th>...</th>\n      <th>Unnamed: 28</th>\n      <th>Which character shot first?</th>\n      <th>Are you familiar with the Expanded Universe?</th>\n      <th>Do you consider yourself to be a fan of the Expanded Universe?æ</th>\n      <th>Do you consider yourself to be a fan of the Star Trek franchise?</th>\n      <th>Gender</th>\n      <th>Age</th>\n      <th>Household Income</th>\n      <th>Education</th>\n      <th>Location (Census Region)</th>\n    </tr>\n  </thead>\n  <tbody>\n    <tr>\n      <th>0</th>\n      <td>NaN</td>\n      <td>Response</td>\n      <td>Response</td>\n      <td>Star Wars: Episode I  The Phantom Menace</td>\n      <td>Star Wars: Episode II  Attack of the Clones</td>\n      <td>Star Wars: Episode III  Revenge of the Sith</td>\n      <td>Star Wars: Episode IV  A New Hope</td>\n      <td>Star Wars: Episode V The Empire Strikes Back</td>\n      <td>Star Wars: Episode VI Return of the Jedi</td>\n      <td>Star Wars: Episode I  The Phantom Menace</td>\n      <td>...</td>\n      <td>Yoda</td>\n      <td>Response</td>\n      <td>Response</td>\n      <td>Response</td>\n      <td>Response</td>\n      <td>Response</td>\n      <td>Response</td>\n      <td>Response</td>\n      <td>Response</td>\n      <td>Response</td>\n    </tr>\n    <tr>\n      <th>1</th>\n      <td>3.292880e+09</td>\n      <td>Yes</td>\n      <td>Yes</td>\n      <td>Star Wars: Episode I  The Phantom Menace</td>\n      <td>Star Wars: Episode II  Attack of the Clones</td>\n      <td>Star Wars: Episode III  Revenge of the Sith</td>\n      <td>Star Wars: Episode IV  A New Hope</td>\n      <td>Star Wars: Episode V The Empire Strikes Back</td>\n      <td>Star Wars: Episode VI Return of the Jedi</td>\n      <td>3</td>\n      <td>...</td>\n      <td>Very favorably</td>\n      <td>I don't understand this question</td>\n      <td>Yes</td>\n      <td>No</td>\n      <td>No</td>\n      <td>Male</td>\n      <td>18-29</td>\n      <td>NaN</td>\n      <td>High school degree</td>\n      <td>South Atlantic</td>\n    </tr>\n    <tr>\n      <th>2</th>\n      <td>3.292880e+09</td>\n      <td>No</td>\n      <td>NaN</td>\n      <td>NaN</td>\n      <td>NaN</td>\n      <td>NaN</td>\n      <td>NaN</td>\n      <td>NaN</td>\n      <td>NaN</td>\n      <td>NaN</td>\n      <td>...</td>\n      <td>NaN</td>\n      <td>NaN</td>\n      <td>NaN</td>\n      <td>NaN</td>\n      <td>Yes</td>\n      <td>Male</td>\n      <td>18-29</td>\n      <td>$0 - $24,999</td>\n      <td>Bachelor degree</td>\n      <td>West South Central</td>\n    </tr>\n    <tr>\n      <th>3</th>\n      <td>3.292765e+09</td>\n      <td>Yes</td>\n      <td>No</td>\n      <td>Star Wars: Episode I  The Phantom Menace</td>\n      <td>Star Wars: Episode II  Attack of the Clones</td>\n      <td>Star Wars: Episode III  Revenge of the Sith</td>\n      <td>NaN</td>\n      <td>NaN</td>\n      <td>NaN</td>\n      <td>1</td>\n      <td>...</td>\n      <td>Unfamiliar (N/A)</td>\n      <td>I don't understand this question</td>\n      <td>No</td>\n      <td>NaN</td>\n      <td>No</td>\n      <td>Male</td>\n      <td>18-29</td>\n      <td>$0 - $24,999</td>\n      <td>High school degree</td>\n      <td>West North Central</td>\n    </tr>\n    <tr>\n      <th>4</th>\n      <td>3.292763e+09</td>\n      <td>Yes</td>\n      <td>Yes</td>\n      <td>Star Wars: Episode I  The Phantom Menace</td>\n      <td>Star Wars: Episode II  Attack of the Clones</td>\n      <td>Star Wars: Episode III  Revenge of the Sith</td>\n      <td>Star Wars: Episode IV  A New Hope</td>\n      <td>Star Wars: Episode V The Empire Strikes Back</td>\n      <td>Star Wars: Episode VI Return of the Jedi</td>\n      <td>5</td>\n      <td>...</td>\n      <td>Very favorably</td>\n      <td>I don't understand this question</td>\n      <td>No</td>\n      <td>NaN</td>\n      <td>Yes</td>\n      <td>Male</td>\n      <td>18-29</td>\n      <td>$100,000 - $149,999</td>\n      <td>Some college or Associate degree</td>\n      <td>West North Central</td>\n    </tr>\n  </tbody>\n</table>\n<p>5 rows × 38 columns</p>\n</div>"
     },
     "metadata": {},
     "execution_count": 1
    }
   ],
   "source": [
    "# let's load the required modules\n",
    "import pandas as pd\n",
    "import numpy as np\n",
    "import matplotlib.pyplot as plt \n",
    "%matplotlib inline\n",
    "\n",
    "# then import the dataset\n",
    "star_wars = pd.read_csv('data/StarWars.csv', encoding='ISO-8859-1')\n",
    "star_wars.head(5)"
   ]
  },
  {
   "cell_type": "code",
   "execution_count": 2,
   "metadata": {},
   "outputs": [
    {
     "output_type": "execute_result",
     "data": {
      "text/plain": [
       "Index(['RespondentID',\n",
       "       'Have you seen any of the 6 films in the Star Wars franchise?',\n",
       "       'Do you consider yourself to be a fan of the Star Wars film franchise?',\n",
       "       'Which of the following Star Wars films have you seen? Please select all that apply.',\n",
       "       'Unnamed: 4', 'Unnamed: 5', 'Unnamed: 6', 'Unnamed: 7', 'Unnamed: 8',\n",
       "       'Please rank the Star Wars films in order of preference with 1 being your favorite film in the franchise and 6 being your least favorite film.',\n",
       "       'Unnamed: 10', 'Unnamed: 11', 'Unnamed: 12', 'Unnamed: 13',\n",
       "       'Unnamed: 14',\n",
       "       'Please state whether you view the following characters favorably, unfavorably, or are unfamiliar with him/her.',\n",
       "       'Unnamed: 16', 'Unnamed: 17', 'Unnamed: 18', 'Unnamed: 19',\n",
       "       'Unnamed: 20', 'Unnamed: 21', 'Unnamed: 22', 'Unnamed: 23',\n",
       "       'Unnamed: 24', 'Unnamed: 25', 'Unnamed: 26', 'Unnamed: 27',\n",
       "       'Unnamed: 28', 'Which character shot first?',\n",
       "       'Are you familiar with the Expanded Universe?',\n",
       "       'Do you consider yourself to be a fan of the Expanded Universe?æ',\n",
       "       'Do you consider yourself to be a fan of the Star Trek franchise?',\n",
       "       'Gender', 'Age', 'Household Income', 'Education',\n",
       "       'Location (Census Region)'],\n",
       "      dtype='object')"
      ]
     },
     "metadata": {},
     "execution_count": 2
    }
   ],
   "source": [
    "# let's review the columns of the dataset\n",
    "star_wars.columns"
   ]
  },
  {
   "cell_type": "code",
   "execution_count": 3,
   "metadata": {},
   "outputs": [
    {
     "output_type": "execute_result",
     "data": {
      "text/plain": [
       "   RespondentID Have you seen any of the 6 films in the Star Wars franchise?  \\\n",
       "1  3.292880e+09                                                Yes             \n",
       "2  3.292880e+09                                                 No             \n",
       "3  3.292765e+09                                                Yes             \n",
       "4  3.292763e+09                                                Yes             \n",
       "5  3.292731e+09                                                Yes             \n",
       "\n",
       "  Do you consider yourself to be a fan of the Star Wars film franchise?  \\\n",
       "1                                                Yes                      \n",
       "2                                                NaN                      \n",
       "3                                                 No                      \n",
       "4                                                Yes                      \n",
       "5                                                Yes                      \n",
       "\n",
       "  Which of the following Star Wars films have you seen? Please select all that apply.  \\\n",
       "1           Star Wars: Episode I  The Phantom Menace                                    \n",
       "2                                                NaN                                    \n",
       "3           Star Wars: Episode I  The Phantom Menace                                    \n",
       "4           Star Wars: Episode I  The Phantom Menace                                    \n",
       "5           Star Wars: Episode I  The Phantom Menace                                    \n",
       "\n",
       "                                    Unnamed: 4  \\\n",
       "1  Star Wars: Episode II  Attack of the Clones   \n",
       "2                                          NaN   \n",
       "3  Star Wars: Episode II  Attack of the Clones   \n",
       "4  Star Wars: Episode II  Attack of the Clones   \n",
       "5  Star Wars: Episode II  Attack of the Clones   \n",
       "\n",
       "                                    Unnamed: 5  \\\n",
       "1  Star Wars: Episode III  Revenge of the Sith   \n",
       "2                                          NaN   \n",
       "3  Star Wars: Episode III  Revenge of the Sith   \n",
       "4  Star Wars: Episode III  Revenge of the Sith   \n",
       "5  Star Wars: Episode III  Revenge of the Sith   \n",
       "\n",
       "                          Unnamed: 6  \\\n",
       "1  Star Wars: Episode IV  A New Hope   \n",
       "2                                NaN   \n",
       "3                                NaN   \n",
       "4  Star Wars: Episode IV  A New Hope   \n",
       "5  Star Wars: Episode IV  A New Hope   \n",
       "\n",
       "                                     Unnamed: 7  \\\n",
       "1  Star Wars: Episode V The Empire Strikes Back   \n",
       "2                                           NaN   \n",
       "3                                           NaN   \n",
       "4  Star Wars: Episode V The Empire Strikes Back   \n",
       "5  Star Wars: Episode V The Empire Strikes Back   \n",
       "\n",
       "                                 Unnamed: 8  \\\n",
       "1  Star Wars: Episode VI Return of the Jedi   \n",
       "2                                       NaN   \n",
       "3                                       NaN   \n",
       "4  Star Wars: Episode VI Return of the Jedi   \n",
       "5  Star Wars: Episode VI Return of the Jedi   \n",
       "\n",
       "  Please rank the Star Wars films in order of preference with 1 being your favorite film in the franchise and 6 being your least favorite film.  \\\n",
       "1                                                  3                                                                                              \n",
       "2                                                NaN                                                                                              \n",
       "3                                                  1                                                                                              \n",
       "4                                                  5                                                                                              \n",
       "5                                                  5                                                                                              \n",
       "\n",
       "   ...         Unnamed: 28       Which character shot first?  \\\n",
       "1  ...      Very favorably  I don't understand this question   \n",
       "2  ...                 NaN                               NaN   \n",
       "3  ...    Unfamiliar (N/A)  I don't understand this question   \n",
       "4  ...      Very favorably  I don't understand this question   \n",
       "5  ...  Somewhat favorably                            Greedo   \n",
       "\n",
       "  Are you familiar with the Expanded Universe?  \\\n",
       "1                                          Yes   \n",
       "2                                          NaN   \n",
       "3                                           No   \n",
       "4                                           No   \n",
       "5                                          Yes   \n",
       "\n",
       "  Do you consider yourself to be a fan of the Expanded Universe?æ  \\\n",
       "1                                                 No                 \n",
       "2                                                NaN                 \n",
       "3                                                NaN                 \n",
       "4                                                NaN                 \n",
       "5                                                 No                 \n",
       "\n",
       "  Do you consider yourself to be a fan of the Star Trek franchise? Gender  \\\n",
       "1                                                 No                 Male   \n",
       "2                                                Yes                 Male   \n",
       "3                                                 No                 Male   \n",
       "4                                                Yes                 Male   \n",
       "5                                                 No                 Male   \n",
       "\n",
       "     Age     Household Income                         Education  \\\n",
       "1  18-29                  NaN                High school degree   \n",
       "2  18-29         $0 - $24,999                   Bachelor degree   \n",
       "3  18-29         $0 - $24,999                High school degree   \n",
       "4  18-29  $100,000 - $149,999  Some college or Associate degree   \n",
       "5  18-29  $100,000 - $149,999  Some college or Associate degree   \n",
       "\n",
       "  Location (Census Region)  \n",
       "1           South Atlantic  \n",
       "2       West South Central  \n",
       "3       West North Central  \n",
       "4       West North Central  \n",
       "5       West North Central  \n",
       "\n",
       "[5 rows x 38 columns]"
      ],
      "text/html": "<div>\n<style scoped>\n    .dataframe tbody tr th:only-of-type {\n        vertical-align: middle;\n    }\n\n    .dataframe tbody tr th {\n        vertical-align: top;\n    }\n\n    .dataframe thead th {\n        text-align: right;\n    }\n</style>\n<table border=\"1\" class=\"dataframe\">\n  <thead>\n    <tr style=\"text-align: right;\">\n      <th></th>\n      <th>RespondentID</th>\n      <th>Have you seen any of the 6 films in the Star Wars franchise?</th>\n      <th>Do you consider yourself to be a fan of the Star Wars film franchise?</th>\n      <th>Which of the following Star Wars films have you seen? Please select all that apply.</th>\n      <th>Unnamed: 4</th>\n      <th>Unnamed: 5</th>\n      <th>Unnamed: 6</th>\n      <th>Unnamed: 7</th>\n      <th>Unnamed: 8</th>\n      <th>Please rank the Star Wars films in order of preference with 1 being your favorite film in the franchise and 6 being your least favorite film.</th>\n      <th>...</th>\n      <th>Unnamed: 28</th>\n      <th>Which character shot first?</th>\n      <th>Are you familiar with the Expanded Universe?</th>\n      <th>Do you consider yourself to be a fan of the Expanded Universe?æ</th>\n      <th>Do you consider yourself to be a fan of the Star Trek franchise?</th>\n      <th>Gender</th>\n      <th>Age</th>\n      <th>Household Income</th>\n      <th>Education</th>\n      <th>Location (Census Region)</th>\n    </tr>\n  </thead>\n  <tbody>\n    <tr>\n      <th>1</th>\n      <td>3.292880e+09</td>\n      <td>Yes</td>\n      <td>Yes</td>\n      <td>Star Wars: Episode I  The Phantom Menace</td>\n      <td>Star Wars: Episode II  Attack of the Clones</td>\n      <td>Star Wars: Episode III  Revenge of the Sith</td>\n      <td>Star Wars: Episode IV  A New Hope</td>\n      <td>Star Wars: Episode V The Empire Strikes Back</td>\n      <td>Star Wars: Episode VI Return of the Jedi</td>\n      <td>3</td>\n      <td>...</td>\n      <td>Very favorably</td>\n      <td>I don't understand this question</td>\n      <td>Yes</td>\n      <td>No</td>\n      <td>No</td>\n      <td>Male</td>\n      <td>18-29</td>\n      <td>NaN</td>\n      <td>High school degree</td>\n      <td>South Atlantic</td>\n    </tr>\n    <tr>\n      <th>2</th>\n      <td>3.292880e+09</td>\n      <td>No</td>\n      <td>NaN</td>\n      <td>NaN</td>\n      <td>NaN</td>\n      <td>NaN</td>\n      <td>NaN</td>\n      <td>NaN</td>\n      <td>NaN</td>\n      <td>NaN</td>\n      <td>...</td>\n      <td>NaN</td>\n      <td>NaN</td>\n      <td>NaN</td>\n      <td>NaN</td>\n      <td>Yes</td>\n      <td>Male</td>\n      <td>18-29</td>\n      <td>$0 - $24,999</td>\n      <td>Bachelor degree</td>\n      <td>West South Central</td>\n    </tr>\n    <tr>\n      <th>3</th>\n      <td>3.292765e+09</td>\n      <td>Yes</td>\n      <td>No</td>\n      <td>Star Wars: Episode I  The Phantom Menace</td>\n      <td>Star Wars: Episode II  Attack of the Clones</td>\n      <td>Star Wars: Episode III  Revenge of the Sith</td>\n      <td>NaN</td>\n      <td>NaN</td>\n      <td>NaN</td>\n      <td>1</td>\n      <td>...</td>\n      <td>Unfamiliar (N/A)</td>\n      <td>I don't understand this question</td>\n      <td>No</td>\n      <td>NaN</td>\n      <td>No</td>\n      <td>Male</td>\n      <td>18-29</td>\n      <td>$0 - $24,999</td>\n      <td>High school degree</td>\n      <td>West North Central</td>\n    </tr>\n    <tr>\n      <th>4</th>\n      <td>3.292763e+09</td>\n      <td>Yes</td>\n      <td>Yes</td>\n      <td>Star Wars: Episode I  The Phantom Menace</td>\n      <td>Star Wars: Episode II  Attack of the Clones</td>\n      <td>Star Wars: Episode III  Revenge of the Sith</td>\n      <td>Star Wars: Episode IV  A New Hope</td>\n      <td>Star Wars: Episode V The Empire Strikes Back</td>\n      <td>Star Wars: Episode VI Return of the Jedi</td>\n      <td>5</td>\n      <td>...</td>\n      <td>Very favorably</td>\n      <td>I don't understand this question</td>\n      <td>No</td>\n      <td>NaN</td>\n      <td>Yes</td>\n      <td>Male</td>\n      <td>18-29</td>\n      <td>$100,000 - $149,999</td>\n      <td>Some college or Associate degree</td>\n      <td>West North Central</td>\n    </tr>\n    <tr>\n      <th>5</th>\n      <td>3.292731e+09</td>\n      <td>Yes</td>\n      <td>Yes</td>\n      <td>Star Wars: Episode I  The Phantom Menace</td>\n      <td>Star Wars: Episode II  Attack of the Clones</td>\n      <td>Star Wars: Episode III  Revenge of the Sith</td>\n      <td>Star Wars: Episode IV  A New Hope</td>\n      <td>Star Wars: Episode V The Empire Strikes Back</td>\n      <td>Star Wars: Episode VI Return of the Jedi</td>\n      <td>5</td>\n      <td>...</td>\n      <td>Somewhat favorably</td>\n      <td>Greedo</td>\n      <td>Yes</td>\n      <td>No</td>\n      <td>No</td>\n      <td>Male</td>\n      <td>18-29</td>\n      <td>$100,000 - $149,999</td>\n      <td>Some college or Associate degree</td>\n      <td>West North Central</td>\n    </tr>\n  </tbody>\n</table>\n<p>5 rows × 38 columns</p>\n</div>"
     },
     "metadata": {},
     "execution_count": 3
    }
   ],
   "source": [
    "# let's remove rows where respondent ID is NaN\n",
    "star_wars = star_wars[star_wars['RespondentID'].notnull()]\n",
    "star_wars.head(5)"
   ]
  },
  {
   "source": [
    "Look at the next two columns, which are:\n",
    "\n",
    "- Have you seen any of the 6 films in the Star Wars franchise?\n",
    "- Do you consider yourself to be a fan of the Star Wars film franchise?\n",
    "\n",
    "Both represent Yes/No questions. They can also be NaN where a respondent chooses not to answer a question. Let's find out all unique values in these columns."
   ],
   "cell_type": "markdown",
   "metadata": {}
  },
  {
   "cell_type": "code",
   "execution_count": 4,
   "metadata": {},
   "outputs": [
    {
     "output_type": "stream",
     "name": "stdout",
     "text": [
      "Yes    936\nNo     250\nName: Have you seen any of the 6 films in the Star Wars franchise?, dtype: int64 \n\nYes    552\nNaN    350\nNo     284\nName: Do you consider yourself to be a fan of the Star Wars film franchise?, dtype: int64\n"
     ]
    }
   ],
   "source": [
    "print(star_wars['Have you seen any of the 6 films in the Star Wars franchise?'].value_counts(dropna=False),'\\n')\n",
    "print(star_wars['Do you consider yourself to be a fan of the Star Wars film franchise?'].value_counts(dropna=False))"
   ]
  },
  {
   "cell_type": "code",
   "execution_count": 5,
   "metadata": {},
   "outputs": [
    {
     "output_type": "execute_result",
     "data": {
      "text/plain": [
       "   RespondentID  Have you seen any of the 6 films in the Star Wars franchise?  \\\n",
       "1  3.292880e+09                                               True              \n",
       "2  3.292880e+09                                              False              \n",
       "3  3.292765e+09                                               True              \n",
       "4  3.292763e+09                                               True              \n",
       "5  3.292731e+09                                               True              \n",
       "\n",
       "  Do you consider yourself to be a fan of the Star Wars film franchise?  \\\n",
       "1                                               True                      \n",
       "2                                                NaN                      \n",
       "3                                              False                      \n",
       "4                                               True                      \n",
       "5                                               True                      \n",
       "\n",
       "  Which of the following Star Wars films have you seen? Please select all that apply.  \\\n",
       "1           Star Wars: Episode I  The Phantom Menace                                    \n",
       "2                                                NaN                                    \n",
       "3           Star Wars: Episode I  The Phantom Menace                                    \n",
       "4           Star Wars: Episode I  The Phantom Menace                                    \n",
       "5           Star Wars: Episode I  The Phantom Menace                                    \n",
       "\n",
       "                                    Unnamed: 4  \\\n",
       "1  Star Wars: Episode II  Attack of the Clones   \n",
       "2                                          NaN   \n",
       "3  Star Wars: Episode II  Attack of the Clones   \n",
       "4  Star Wars: Episode II  Attack of the Clones   \n",
       "5  Star Wars: Episode II  Attack of the Clones   \n",
       "\n",
       "                                    Unnamed: 5  \\\n",
       "1  Star Wars: Episode III  Revenge of the Sith   \n",
       "2                                          NaN   \n",
       "3  Star Wars: Episode III  Revenge of the Sith   \n",
       "4  Star Wars: Episode III  Revenge of the Sith   \n",
       "5  Star Wars: Episode III  Revenge of the Sith   \n",
       "\n",
       "                          Unnamed: 6  \\\n",
       "1  Star Wars: Episode IV  A New Hope   \n",
       "2                                NaN   \n",
       "3                                NaN   \n",
       "4  Star Wars: Episode IV  A New Hope   \n",
       "5  Star Wars: Episode IV  A New Hope   \n",
       "\n",
       "                                     Unnamed: 7  \\\n",
       "1  Star Wars: Episode V The Empire Strikes Back   \n",
       "2                                           NaN   \n",
       "3                                           NaN   \n",
       "4  Star Wars: Episode V The Empire Strikes Back   \n",
       "5  Star Wars: Episode V The Empire Strikes Back   \n",
       "\n",
       "                                 Unnamed: 8  \\\n",
       "1  Star Wars: Episode VI Return of the Jedi   \n",
       "2                                       NaN   \n",
       "3                                       NaN   \n",
       "4  Star Wars: Episode VI Return of the Jedi   \n",
       "5  Star Wars: Episode VI Return of the Jedi   \n",
       "\n",
       "  Please rank the Star Wars films in order of preference with 1 being your favorite film in the franchise and 6 being your least favorite film.  \\\n",
       "1                                                  3                                                                                              \n",
       "2                                                NaN                                                                                              \n",
       "3                                                  1                                                                                              \n",
       "4                                                  5                                                                                              \n",
       "5                                                  5                                                                                              \n",
       "\n",
       "   ...         Unnamed: 28       Which character shot first?  \\\n",
       "1  ...      Very favorably  I don't understand this question   \n",
       "2  ...                 NaN                               NaN   \n",
       "3  ...    Unfamiliar (N/A)  I don't understand this question   \n",
       "4  ...      Very favorably  I don't understand this question   \n",
       "5  ...  Somewhat favorably                            Greedo   \n",
       "\n",
       "  Are you familiar with the Expanded Universe?  \\\n",
       "1                                          Yes   \n",
       "2                                          NaN   \n",
       "3                                           No   \n",
       "4                                           No   \n",
       "5                                          Yes   \n",
       "\n",
       "  Do you consider yourself to be a fan of the Expanded Universe?æ  \\\n",
       "1                                                 No                 \n",
       "2                                                NaN                 \n",
       "3                                                NaN                 \n",
       "4                                                NaN                 \n",
       "5                                                 No                 \n",
       "\n",
       "  Do you consider yourself to be a fan of the Star Trek franchise? Gender  \\\n",
       "1                                              False                 Male   \n",
       "2                                               True                 Male   \n",
       "3                                              False                 Male   \n",
       "4                                               True                 Male   \n",
       "5                                              False                 Male   \n",
       "\n",
       "     Age     Household Income                         Education  \\\n",
       "1  18-29                  NaN                High school degree   \n",
       "2  18-29         $0 - $24,999                   Bachelor degree   \n",
       "3  18-29         $0 - $24,999                High school degree   \n",
       "4  18-29  $100,000 - $149,999  Some college or Associate degree   \n",
       "5  18-29  $100,000 - $149,999  Some college or Associate degree   \n",
       "\n",
       "  Location (Census Region)  \n",
       "1           South Atlantic  \n",
       "2       West South Central  \n",
       "3       West North Central  \n",
       "4       West North Central  \n",
       "5       West North Central  \n",
       "\n",
       "[5 rows x 38 columns]"
      ],
      "text/html": "<div>\n<style scoped>\n    .dataframe tbody tr th:only-of-type {\n        vertical-align: middle;\n    }\n\n    .dataframe tbody tr th {\n        vertical-align: top;\n    }\n\n    .dataframe thead th {\n        text-align: right;\n    }\n</style>\n<table border=\"1\" class=\"dataframe\">\n  <thead>\n    <tr style=\"text-align: right;\">\n      <th></th>\n      <th>RespondentID</th>\n      <th>Have you seen any of the 6 films in the Star Wars franchise?</th>\n      <th>Do you consider yourself to be a fan of the Star Wars film franchise?</th>\n      <th>Which of the following Star Wars films have you seen? Please select all that apply.</th>\n      <th>Unnamed: 4</th>\n      <th>Unnamed: 5</th>\n      <th>Unnamed: 6</th>\n      <th>Unnamed: 7</th>\n      <th>Unnamed: 8</th>\n      <th>Please rank the Star Wars films in order of preference with 1 being your favorite film in the franchise and 6 being your least favorite film.</th>\n      <th>...</th>\n      <th>Unnamed: 28</th>\n      <th>Which character shot first?</th>\n      <th>Are you familiar with the Expanded Universe?</th>\n      <th>Do you consider yourself to be a fan of the Expanded Universe?æ</th>\n      <th>Do you consider yourself to be a fan of the Star Trek franchise?</th>\n      <th>Gender</th>\n      <th>Age</th>\n      <th>Household Income</th>\n      <th>Education</th>\n      <th>Location (Census Region)</th>\n    </tr>\n  </thead>\n  <tbody>\n    <tr>\n      <th>1</th>\n      <td>3.292880e+09</td>\n      <td>True</td>\n      <td>True</td>\n      <td>Star Wars: Episode I  The Phantom Menace</td>\n      <td>Star Wars: Episode II  Attack of the Clones</td>\n      <td>Star Wars: Episode III  Revenge of the Sith</td>\n      <td>Star Wars: Episode IV  A New Hope</td>\n      <td>Star Wars: Episode V The Empire Strikes Back</td>\n      <td>Star Wars: Episode VI Return of the Jedi</td>\n      <td>3</td>\n      <td>...</td>\n      <td>Very favorably</td>\n      <td>I don't understand this question</td>\n      <td>Yes</td>\n      <td>No</td>\n      <td>False</td>\n      <td>Male</td>\n      <td>18-29</td>\n      <td>NaN</td>\n      <td>High school degree</td>\n      <td>South Atlantic</td>\n    </tr>\n    <tr>\n      <th>2</th>\n      <td>3.292880e+09</td>\n      <td>False</td>\n      <td>NaN</td>\n      <td>NaN</td>\n      <td>NaN</td>\n      <td>NaN</td>\n      <td>NaN</td>\n      <td>NaN</td>\n      <td>NaN</td>\n      <td>NaN</td>\n      <td>...</td>\n      <td>NaN</td>\n      <td>NaN</td>\n      <td>NaN</td>\n      <td>NaN</td>\n      <td>True</td>\n      <td>Male</td>\n      <td>18-29</td>\n      <td>$0 - $24,999</td>\n      <td>Bachelor degree</td>\n      <td>West South Central</td>\n    </tr>\n    <tr>\n      <th>3</th>\n      <td>3.292765e+09</td>\n      <td>True</td>\n      <td>False</td>\n      <td>Star Wars: Episode I  The Phantom Menace</td>\n      <td>Star Wars: Episode II  Attack of the Clones</td>\n      <td>Star Wars: Episode III  Revenge of the Sith</td>\n      <td>NaN</td>\n      <td>NaN</td>\n      <td>NaN</td>\n      <td>1</td>\n      <td>...</td>\n      <td>Unfamiliar (N/A)</td>\n      <td>I don't understand this question</td>\n      <td>No</td>\n      <td>NaN</td>\n      <td>False</td>\n      <td>Male</td>\n      <td>18-29</td>\n      <td>$0 - $24,999</td>\n      <td>High school degree</td>\n      <td>West North Central</td>\n    </tr>\n    <tr>\n      <th>4</th>\n      <td>3.292763e+09</td>\n      <td>True</td>\n      <td>True</td>\n      <td>Star Wars: Episode I  The Phantom Menace</td>\n      <td>Star Wars: Episode II  Attack of the Clones</td>\n      <td>Star Wars: Episode III  Revenge of the Sith</td>\n      <td>Star Wars: Episode IV  A New Hope</td>\n      <td>Star Wars: Episode V The Empire Strikes Back</td>\n      <td>Star Wars: Episode VI Return of the Jedi</td>\n      <td>5</td>\n      <td>...</td>\n      <td>Very favorably</td>\n      <td>I don't understand this question</td>\n      <td>No</td>\n      <td>NaN</td>\n      <td>True</td>\n      <td>Male</td>\n      <td>18-29</td>\n      <td>$100,000 - $149,999</td>\n      <td>Some college or Associate degree</td>\n      <td>West North Central</td>\n    </tr>\n    <tr>\n      <th>5</th>\n      <td>3.292731e+09</td>\n      <td>True</td>\n      <td>True</td>\n      <td>Star Wars: Episode I  The Phantom Menace</td>\n      <td>Star Wars: Episode II  Attack of the Clones</td>\n      <td>Star Wars: Episode III  Revenge of the Sith</td>\n      <td>Star Wars: Episode IV  A New Hope</td>\n      <td>Star Wars: Episode V The Empire Strikes Back</td>\n      <td>Star Wars: Episode VI Return of the Jedi</td>\n      <td>5</td>\n      <td>...</td>\n      <td>Somewhat favorably</td>\n      <td>Greedo</td>\n      <td>Yes</td>\n      <td>No</td>\n      <td>False</td>\n      <td>Male</td>\n      <td>18-29</td>\n      <td>$100,000 - $149,999</td>\n      <td>Some college or Associate degree</td>\n      <td>West North Central</td>\n    </tr>\n  </tbody>\n</table>\n<p>5 rows × 38 columns</p>\n</div>"
     },
     "metadata": {},
     "execution_count": 5
    }
   ],
   "source": [
    "# let's change the answers on the two questions to boolean\n",
    "yes_no = {'Yes': True, 'No': False}\n",
    "questions = ['Have you seen any of the 6 films in the Star Wars franchise?','Do you consider yourself to be a fan of the Star Wars film franchise?', 'Do you consider yourself to be a fan of the Star Trek franchise?']\n",
    "\n",
    "for q in questions:\n",
    "    star_wars[q] = star_wars[q].map(yes_no)\n",
    "star_wars.head()"
   ]
  },
  {
   "source": [
    "The next six columns represent a single checkbox question. The respondent checked off a series of boxes in response to the question, Which of the following Star Wars films have you seen? Please select all that apply.\n",
    "\n",
    "The columns for this question are:\n",
    "\n",
    "- Which of the following Star Wars films have you seen? Please select all that apply. - Whether or not the respondent saw Star Wars: Episode I The Phantom Menace.\n",
    "- Unnamed: 4 - Whether or not the respondent saw Star Wars: Episode II Attack of the Clones.\n",
    "- Unnamed: 5 - Whether or not the respondent saw Star Wars: Episode III Revenge of the Sith.\n",
    "- Unnamed: 6 - Whether or not the respondent saw Star Wars: Episode IV A New Hope.\n",
    "- Unnamed: 7 - Whether or not the respondent saw Star Wars: Episode V The Empire Strikes Back.\n",
    "- Unnamed: 8 - Whether or not the respondent saw Star Wars: Episode VI Return of the Jedi.\n",
    "\n",
    "For each of these columns, if the value in a cell is the name of the movie, that means the respondent saw the movie. If the value is NaN, the respondent either didn't answer or didn't see the movie. We'll assume that they didn't see the movie.\n",
    "\n",
    "We'll need to convert each of these columns to a Boolean, then rename the column something more intuitive. We can convert the values the same way we did earlier, except that we'll need to include the movie title and NaN in the mapping dictionary."
   ],
   "cell_type": "markdown",
   "metadata": {}
  },
  {
   "cell_type": "code",
   "execution_count": 6,
   "metadata": {},
   "outputs": [
    {
     "output_type": "execute_result",
     "data": {
      "text/plain": [
       "Index(['RespondentID',\n",
       "       'Have you seen any of the 6 films in the Star Wars franchise?',\n",
       "       'Do you consider yourself to be a fan of the Star Wars film franchise?',\n",
       "       'Which of the following Star Wars films have you seen? Please select all that apply.',\n",
       "       'Unnamed: 4', 'Unnamed: 5', 'Unnamed: 6', 'Unnamed: 7', 'Unnamed: 8',\n",
       "       'Please rank the Star Wars films in order of preference with 1 being your favorite film in the franchise and 6 being your least favorite film.',\n",
       "       'Unnamed: 10', 'Unnamed: 11', 'Unnamed: 12', 'Unnamed: 13',\n",
       "       'Unnamed: 14',\n",
       "       'Please state whether you view the following characters favorably, unfavorably, or are unfamiliar with him/her.',\n",
       "       'Unnamed: 16', 'Unnamed: 17', 'Unnamed: 18', 'Unnamed: 19',\n",
       "       'Unnamed: 20', 'Unnamed: 21', 'Unnamed: 22', 'Unnamed: 23',\n",
       "       'Unnamed: 24', 'Unnamed: 25', 'Unnamed: 26', 'Unnamed: 27',\n",
       "       'Unnamed: 28', 'Which character shot first?',\n",
       "       'Are you familiar with the Expanded Universe?',\n",
       "       'Do you consider yourself to be a fan of the Expanded Universe?æ',\n",
       "       'Do you consider yourself to be a fan of the Star Trek franchise?',\n",
       "       'Gender', 'Age', 'Household Income', 'Education',\n",
       "       'Location (Census Region)'],\n",
       "      dtype='object')"
      ]
     },
     "metadata": {},
     "execution_count": 6
    }
   ],
   "source": [
    "star_wars.columns"
   ]
  },
  {
   "cell_type": "code",
   "execution_count": 7,
   "metadata": {},
   "outputs": [
    {
     "output_type": "execute_result",
     "data": {
      "text/plain": [
       "   RespondentID  Have you seen any of the 6 films in the Star Wars franchise?  \\\n",
       "1  3.292880e+09                                               True              \n",
       "2  3.292880e+09                                              False              \n",
       "3  3.292765e+09                                               True              \n",
       "4  3.292763e+09                                               True              \n",
       "5  3.292731e+09                                               True              \n",
       "\n",
       "  Do you consider yourself to be a fan of the Star Wars film franchise?  \\\n",
       "1                                               True                      \n",
       "2                                                NaN                      \n",
       "3                                              False                      \n",
       "4                                               True                      \n",
       "5                                               True                      \n",
       "\n",
       "   Which of the following Star Wars films have you seen? Please select all that apply.  \\\n",
       "1                                               True                                     \n",
       "2                                              False                                     \n",
       "3                                               True                                     \n",
       "4                                               True                                     \n",
       "5                                               True                                     \n",
       "\n",
       "   Unnamed: 4  Unnamed: 5  Unnamed: 6  Unnamed: 7  Unnamed: 8  \\\n",
       "1        True        True        True        True        True   \n",
       "2       False       False       False       False       False   \n",
       "3        True        True       False       False       False   \n",
       "4        True        True        True        True        True   \n",
       "5        True        True        True        True        True   \n",
       "\n",
       "  Please rank the Star Wars films in order of preference with 1 being your favorite film in the franchise and 6 being your least favorite film.  \\\n",
       "1                                                  3                                                                                              \n",
       "2                                                NaN                                                                                              \n",
       "3                                                  1                                                                                              \n",
       "4                                                  5                                                                                              \n",
       "5                                                  5                                                                                              \n",
       "\n",
       "   ...         Unnamed: 28       Which character shot first?  \\\n",
       "1  ...      Very favorably  I don't understand this question   \n",
       "2  ...                 NaN                               NaN   \n",
       "3  ...    Unfamiliar (N/A)  I don't understand this question   \n",
       "4  ...      Very favorably  I don't understand this question   \n",
       "5  ...  Somewhat favorably                            Greedo   \n",
       "\n",
       "  Are you familiar with the Expanded Universe?  \\\n",
       "1                                          Yes   \n",
       "2                                          NaN   \n",
       "3                                           No   \n",
       "4                                           No   \n",
       "5                                          Yes   \n",
       "\n",
       "  Do you consider yourself to be a fan of the Expanded Universe?æ  \\\n",
       "1                                                 No                 \n",
       "2                                                NaN                 \n",
       "3                                                NaN                 \n",
       "4                                                NaN                 \n",
       "5                                                 No                 \n",
       "\n",
       "  Do you consider yourself to be a fan of the Star Trek franchise? Gender  \\\n",
       "1                                              False                 Male   \n",
       "2                                               True                 Male   \n",
       "3                                              False                 Male   \n",
       "4                                               True                 Male   \n",
       "5                                              False                 Male   \n",
       "\n",
       "     Age     Household Income                         Education  \\\n",
       "1  18-29                  NaN                High school degree   \n",
       "2  18-29         $0 - $24,999                   Bachelor degree   \n",
       "3  18-29         $0 - $24,999                High school degree   \n",
       "4  18-29  $100,000 - $149,999  Some college or Associate degree   \n",
       "5  18-29  $100,000 - $149,999  Some college or Associate degree   \n",
       "\n",
       "  Location (Census Region)  \n",
       "1           South Atlantic  \n",
       "2       West South Central  \n",
       "3       West North Central  \n",
       "4       West North Central  \n",
       "5       West North Central  \n",
       "\n",
       "[5 rows x 38 columns]"
      ],
      "text/html": "<div>\n<style scoped>\n    .dataframe tbody tr th:only-of-type {\n        vertical-align: middle;\n    }\n\n    .dataframe tbody tr th {\n        vertical-align: top;\n    }\n\n    .dataframe thead th {\n        text-align: right;\n    }\n</style>\n<table border=\"1\" class=\"dataframe\">\n  <thead>\n    <tr style=\"text-align: right;\">\n      <th></th>\n      <th>RespondentID</th>\n      <th>Have you seen any of the 6 films in the Star Wars franchise?</th>\n      <th>Do you consider yourself to be a fan of the Star Wars film franchise?</th>\n      <th>Which of the following Star Wars films have you seen? Please select all that apply.</th>\n      <th>Unnamed: 4</th>\n      <th>Unnamed: 5</th>\n      <th>Unnamed: 6</th>\n      <th>Unnamed: 7</th>\n      <th>Unnamed: 8</th>\n      <th>Please rank the Star Wars films in order of preference with 1 being your favorite film in the franchise and 6 being your least favorite film.</th>\n      <th>...</th>\n      <th>Unnamed: 28</th>\n      <th>Which character shot first?</th>\n      <th>Are you familiar with the Expanded Universe?</th>\n      <th>Do you consider yourself to be a fan of the Expanded Universe?æ</th>\n      <th>Do you consider yourself to be a fan of the Star Trek franchise?</th>\n      <th>Gender</th>\n      <th>Age</th>\n      <th>Household Income</th>\n      <th>Education</th>\n      <th>Location (Census Region)</th>\n    </tr>\n  </thead>\n  <tbody>\n    <tr>\n      <th>1</th>\n      <td>3.292880e+09</td>\n      <td>True</td>\n      <td>True</td>\n      <td>True</td>\n      <td>True</td>\n      <td>True</td>\n      <td>True</td>\n      <td>True</td>\n      <td>True</td>\n      <td>3</td>\n      <td>...</td>\n      <td>Very favorably</td>\n      <td>I don't understand this question</td>\n      <td>Yes</td>\n      <td>No</td>\n      <td>False</td>\n      <td>Male</td>\n      <td>18-29</td>\n      <td>NaN</td>\n      <td>High school degree</td>\n      <td>South Atlantic</td>\n    </tr>\n    <tr>\n      <th>2</th>\n      <td>3.292880e+09</td>\n      <td>False</td>\n      <td>NaN</td>\n      <td>False</td>\n      <td>False</td>\n      <td>False</td>\n      <td>False</td>\n      <td>False</td>\n      <td>False</td>\n      <td>NaN</td>\n      <td>...</td>\n      <td>NaN</td>\n      <td>NaN</td>\n      <td>NaN</td>\n      <td>NaN</td>\n      <td>True</td>\n      <td>Male</td>\n      <td>18-29</td>\n      <td>$0 - $24,999</td>\n      <td>Bachelor degree</td>\n      <td>West South Central</td>\n    </tr>\n    <tr>\n      <th>3</th>\n      <td>3.292765e+09</td>\n      <td>True</td>\n      <td>False</td>\n      <td>True</td>\n      <td>True</td>\n      <td>True</td>\n      <td>False</td>\n      <td>False</td>\n      <td>False</td>\n      <td>1</td>\n      <td>...</td>\n      <td>Unfamiliar (N/A)</td>\n      <td>I don't understand this question</td>\n      <td>No</td>\n      <td>NaN</td>\n      <td>False</td>\n      <td>Male</td>\n      <td>18-29</td>\n      <td>$0 - $24,999</td>\n      <td>High school degree</td>\n      <td>West North Central</td>\n    </tr>\n    <tr>\n      <th>4</th>\n      <td>3.292763e+09</td>\n      <td>True</td>\n      <td>True</td>\n      <td>True</td>\n      <td>True</td>\n      <td>True</td>\n      <td>True</td>\n      <td>True</td>\n      <td>True</td>\n      <td>5</td>\n      <td>...</td>\n      <td>Very favorably</td>\n      <td>I don't understand this question</td>\n      <td>No</td>\n      <td>NaN</td>\n      <td>True</td>\n      <td>Male</td>\n      <td>18-29</td>\n      <td>$100,000 - $149,999</td>\n      <td>Some college or Associate degree</td>\n      <td>West North Central</td>\n    </tr>\n    <tr>\n      <th>5</th>\n      <td>3.292731e+09</td>\n      <td>True</td>\n      <td>True</td>\n      <td>True</td>\n      <td>True</td>\n      <td>True</td>\n      <td>True</td>\n      <td>True</td>\n      <td>True</td>\n      <td>5</td>\n      <td>...</td>\n      <td>Somewhat favorably</td>\n      <td>Greedo</td>\n      <td>Yes</td>\n      <td>No</td>\n      <td>False</td>\n      <td>Male</td>\n      <td>18-29</td>\n      <td>$100,000 - $149,999</td>\n      <td>Some college or Associate degree</td>\n      <td>West North Central</td>\n    </tr>\n  </tbody>\n</table>\n<p>5 rows × 38 columns</p>\n</div>"
     },
     "metadata": {},
     "execution_count": 7
    }
   ],
   "source": [
    "# let's convert columns 4 to 9 contents to boolean\n",
    "movie_mapping = {\n",
    "    \"Star Wars: Episode I  The Phantom Menace\": True,\n",
    "    np.nan: False,\n",
    "    \"Star Wars: Episode II  Attack of the Clones\": True,\n",
    "    \"Star Wars: Episode III  Revenge of the Sith\": True,\n",
    "    \"Star Wars: Episode IV  A New Hope\": True,\n",
    "    \"Star Wars: Episode V The Empire Strikes Back\": True,\n",
    "    \"Star Wars: Episode VI Return of the Jedi\": True\n",
    "}\n",
    "\n",
    "for col in star_wars.columns[3:9]:\n",
    "    star_wars[col] = star_wars[col].map(movie_mapping)\n",
    "\n",
    "star_wars.head()"
   ]
  },
  {
   "cell_type": "code",
   "execution_count": 8,
   "metadata": {},
   "outputs": [
    {
     "output_type": "execute_result",
     "data": {
      "text/plain": [
       "   RespondentID  Have you seen any of the 6 films in the Star Wars franchise?  \\\n",
       "1  3.292880e+09                                               True              \n",
       "2  3.292880e+09                                              False              \n",
       "3  3.292765e+09                                               True              \n",
       "4  3.292763e+09                                               True              \n",
       "5  3.292731e+09                                               True              \n",
       "\n",
       "  Do you consider yourself to be a fan of the Star Wars film franchise?  \\\n",
       "1                                               True                      \n",
       "2                                                NaN                      \n",
       "3                                              False                      \n",
       "4                                               True                      \n",
       "5                                               True                      \n",
       "\n",
       "   seen_1  seen_2  seen_3  seen_4  seen_5  seen_6  \\\n",
       "1    True    True    True    True    True    True   \n",
       "2   False   False   False   False   False   False   \n",
       "3    True    True    True   False   False   False   \n",
       "4    True    True    True    True    True    True   \n",
       "5    True    True    True    True    True    True   \n",
       "\n",
       "  Please rank the Star Wars films in order of preference with 1 being your favorite film in the franchise and 6 being your least favorite film.  \\\n",
       "1                                                  3                                                                                              \n",
       "2                                                NaN                                                                                              \n",
       "3                                                  1                                                                                              \n",
       "4                                                  5                                                                                              \n",
       "5                                                  5                                                                                              \n",
       "\n",
       "   ...         Unnamed: 28       Which character shot first?  \\\n",
       "1  ...      Very favorably  I don't understand this question   \n",
       "2  ...                 NaN                               NaN   \n",
       "3  ...    Unfamiliar (N/A)  I don't understand this question   \n",
       "4  ...      Very favorably  I don't understand this question   \n",
       "5  ...  Somewhat favorably                            Greedo   \n",
       "\n",
       "  Are you familiar with the Expanded Universe?  \\\n",
       "1                                          Yes   \n",
       "2                                          NaN   \n",
       "3                                           No   \n",
       "4                                           No   \n",
       "5                                          Yes   \n",
       "\n",
       "  Do you consider yourself to be a fan of the Expanded Universe?æ  \\\n",
       "1                                                 No                 \n",
       "2                                                NaN                 \n",
       "3                                                NaN                 \n",
       "4                                                NaN                 \n",
       "5                                                 No                 \n",
       "\n",
       "  Do you consider yourself to be a fan of the Star Trek franchise? Gender  \\\n",
       "1                                              False                 Male   \n",
       "2                                               True                 Male   \n",
       "3                                              False                 Male   \n",
       "4                                               True                 Male   \n",
       "5                                              False                 Male   \n",
       "\n",
       "     Age     Household Income                         Education  \\\n",
       "1  18-29                  NaN                High school degree   \n",
       "2  18-29         $0 - $24,999                   Bachelor degree   \n",
       "3  18-29         $0 - $24,999                High school degree   \n",
       "4  18-29  $100,000 - $149,999  Some college or Associate degree   \n",
       "5  18-29  $100,000 - $149,999  Some college or Associate degree   \n",
       "\n",
       "  Location (Census Region)  \n",
       "1           South Atlantic  \n",
       "2       West South Central  \n",
       "3       West North Central  \n",
       "4       West North Central  \n",
       "5       West North Central  \n",
       "\n",
       "[5 rows x 38 columns]"
      ],
      "text/html": "<div>\n<style scoped>\n    .dataframe tbody tr th:only-of-type {\n        vertical-align: middle;\n    }\n\n    .dataframe tbody tr th {\n        vertical-align: top;\n    }\n\n    .dataframe thead th {\n        text-align: right;\n    }\n</style>\n<table border=\"1\" class=\"dataframe\">\n  <thead>\n    <tr style=\"text-align: right;\">\n      <th></th>\n      <th>RespondentID</th>\n      <th>Have you seen any of the 6 films in the Star Wars franchise?</th>\n      <th>Do you consider yourself to be a fan of the Star Wars film franchise?</th>\n      <th>seen_1</th>\n      <th>seen_2</th>\n      <th>seen_3</th>\n      <th>seen_4</th>\n      <th>seen_5</th>\n      <th>seen_6</th>\n      <th>Please rank the Star Wars films in order of preference with 1 being your favorite film in the franchise and 6 being your least favorite film.</th>\n      <th>...</th>\n      <th>Unnamed: 28</th>\n      <th>Which character shot first?</th>\n      <th>Are you familiar with the Expanded Universe?</th>\n      <th>Do you consider yourself to be a fan of the Expanded Universe?æ</th>\n      <th>Do you consider yourself to be a fan of the Star Trek franchise?</th>\n      <th>Gender</th>\n      <th>Age</th>\n      <th>Household Income</th>\n      <th>Education</th>\n      <th>Location (Census Region)</th>\n    </tr>\n  </thead>\n  <tbody>\n    <tr>\n      <th>1</th>\n      <td>3.292880e+09</td>\n      <td>True</td>\n      <td>True</td>\n      <td>True</td>\n      <td>True</td>\n      <td>True</td>\n      <td>True</td>\n      <td>True</td>\n      <td>True</td>\n      <td>3</td>\n      <td>...</td>\n      <td>Very favorably</td>\n      <td>I don't understand this question</td>\n      <td>Yes</td>\n      <td>No</td>\n      <td>False</td>\n      <td>Male</td>\n      <td>18-29</td>\n      <td>NaN</td>\n      <td>High school degree</td>\n      <td>South Atlantic</td>\n    </tr>\n    <tr>\n      <th>2</th>\n      <td>3.292880e+09</td>\n      <td>False</td>\n      <td>NaN</td>\n      <td>False</td>\n      <td>False</td>\n      <td>False</td>\n      <td>False</td>\n      <td>False</td>\n      <td>False</td>\n      <td>NaN</td>\n      <td>...</td>\n      <td>NaN</td>\n      <td>NaN</td>\n      <td>NaN</td>\n      <td>NaN</td>\n      <td>True</td>\n      <td>Male</td>\n      <td>18-29</td>\n      <td>$0 - $24,999</td>\n      <td>Bachelor degree</td>\n      <td>West South Central</td>\n    </tr>\n    <tr>\n      <th>3</th>\n      <td>3.292765e+09</td>\n      <td>True</td>\n      <td>False</td>\n      <td>True</td>\n      <td>True</td>\n      <td>True</td>\n      <td>False</td>\n      <td>False</td>\n      <td>False</td>\n      <td>1</td>\n      <td>...</td>\n      <td>Unfamiliar (N/A)</td>\n      <td>I don't understand this question</td>\n      <td>No</td>\n      <td>NaN</td>\n      <td>False</td>\n      <td>Male</td>\n      <td>18-29</td>\n      <td>$0 - $24,999</td>\n      <td>High school degree</td>\n      <td>West North Central</td>\n    </tr>\n    <tr>\n      <th>4</th>\n      <td>3.292763e+09</td>\n      <td>True</td>\n      <td>True</td>\n      <td>True</td>\n      <td>True</td>\n      <td>True</td>\n      <td>True</td>\n      <td>True</td>\n      <td>True</td>\n      <td>5</td>\n      <td>...</td>\n      <td>Very favorably</td>\n      <td>I don't understand this question</td>\n      <td>No</td>\n      <td>NaN</td>\n      <td>True</td>\n      <td>Male</td>\n      <td>18-29</td>\n      <td>$100,000 - $149,999</td>\n      <td>Some college or Associate degree</td>\n      <td>West North Central</td>\n    </tr>\n    <tr>\n      <th>5</th>\n      <td>3.292731e+09</td>\n      <td>True</td>\n      <td>True</td>\n      <td>True</td>\n      <td>True</td>\n      <td>True</td>\n      <td>True</td>\n      <td>True</td>\n      <td>True</td>\n      <td>5</td>\n      <td>...</td>\n      <td>Somewhat favorably</td>\n      <td>Greedo</td>\n      <td>Yes</td>\n      <td>No</td>\n      <td>False</td>\n      <td>Male</td>\n      <td>18-29</td>\n      <td>$100,000 - $149,999</td>\n      <td>Some college or Associate degree</td>\n      <td>West North Central</td>\n    </tr>\n  </tbody>\n</table>\n<p>5 rows × 38 columns</p>\n</div>"
     },
     "metadata": {},
     "execution_count": 8
    }
   ],
   "source": [
    "# then rename the unnamed columns to more intuitive labels\n",
    "star_wars = star_wars.rename(columns={\n",
    "        \"Which of the following Star Wars films have you seen? Please select all that apply.\": \"seen_1\",\n",
    "        \"Unnamed: 4\": \"seen_2\",\n",
    "        \"Unnamed: 5\": \"seen_3\",\n",
    "        \"Unnamed: 6\": \"seen_4\",\n",
    "        \"Unnamed: 7\": \"seen_5\",\n",
    "        \"Unnamed: 8\": \"seen_6\"\n",
    "        })\n",
    "\n",
    "star_wars.head()"
   ]
  },
  {
   "source": [
    "The next six columns ask the respondent to rank the Star Wars movies in order of least favorite to most favorite. 1 means the film was the most favorite, and 6 means it was the least favorite. Each of the following columns can contain the value 1, 2, 3, 4, 5, 6, or NaN:\n",
    "\n",
    "- Please rank the Star Wars films in order of preference with 1 being your favorite film in the franchise and 6 being your least favorite film. - How much the respondent liked Star Wars: Episode I The Phantom Menace\n",
    "- Unnamed: 10 - How much the respondent liked Star Wars: Episode II Attack of the Clones\n",
    "- Unnamed: 11 - How much the respondent liked Star Wars: Episode III Revenge of the Sith\n",
    "- Unnamed: 12 - How much the respondent liked Star Wars: Episode IV A New Hope\n",
    "- Unnamed: 13 - How much the respondent liked Star Wars: Episode V The Empire Strikes Back\n",
    "- Unnamed: 14 - How much the respondent liked Star Wars: Episode VI Return of the Jedi\n",
    "\n",
    "Fortunately, these columns don't require a lot of cleanup. We'll need to convert each column to a numeric type, though, then rename the columns so that we can tell what they represent more easily."
   ],
   "cell_type": "markdown",
   "metadata": {}
  },
  {
   "cell_type": "code",
   "execution_count": 9,
   "metadata": {},
   "outputs": [
    {
     "output_type": "execute_result",
     "data": {
      "text/plain": [
       "   RespondentID  Have you seen any of the 6 films in the Star Wars franchise?  \\\n",
       "1  3.292880e+09                                               True              \n",
       "2  3.292880e+09                                              False              \n",
       "3  3.292765e+09                                               True              \n",
       "4  3.292763e+09                                               True              \n",
       "5  3.292731e+09                                               True              \n",
       "\n",
       "  Do you consider yourself to be a fan of the Star Wars film franchise?  \\\n",
       "1                                               True                      \n",
       "2                                                NaN                      \n",
       "3                                              False                      \n",
       "4                                               True                      \n",
       "5                                               True                      \n",
       "\n",
       "   seen_1  seen_2  seen_3  seen_4  seen_5  seen_6  ranking_1  ...  \\\n",
       "1    True    True    True    True    True    True        3.0  ...   \n",
       "2   False   False   False   False   False   False        NaN  ...   \n",
       "3    True    True    True   False   False   False        1.0  ...   \n",
       "4    True    True    True    True    True    True        5.0  ...   \n",
       "5    True    True    True    True    True    True        5.0  ...   \n",
       "\n",
       "          Unnamed: 28       Which character shot first?  \\\n",
       "1      Very favorably  I don't understand this question   \n",
       "2                 NaN                               NaN   \n",
       "3    Unfamiliar (N/A)  I don't understand this question   \n",
       "4      Very favorably  I don't understand this question   \n",
       "5  Somewhat favorably                            Greedo   \n",
       "\n",
       "   Are you familiar with the Expanded Universe?  \\\n",
       "1                                           Yes   \n",
       "2                                           NaN   \n",
       "3                                            No   \n",
       "4                                            No   \n",
       "5                                           Yes   \n",
       "\n",
       "   Do you consider yourself to be a fan of the Expanded Universe?æ  \\\n",
       "1                                                 No                  \n",
       "2                                                NaN                  \n",
       "3                                                NaN                  \n",
       "4                                                NaN                  \n",
       "5                                                 No                  \n",
       "\n",
       "   Do you consider yourself to be a fan of the Star Trek franchise? Gender  \\\n",
       "1                                              False                  Male   \n",
       "2                                               True                  Male   \n",
       "3                                              False                  Male   \n",
       "4                                               True                  Male   \n",
       "5                                              False                  Male   \n",
       "\n",
       "     Age     Household Income                         Education  \\\n",
       "1  18-29                  NaN                High school degree   \n",
       "2  18-29         $0 - $24,999                   Bachelor degree   \n",
       "3  18-29         $0 - $24,999                High school degree   \n",
       "4  18-29  $100,000 - $149,999  Some college or Associate degree   \n",
       "5  18-29  $100,000 - $149,999  Some college or Associate degree   \n",
       "\n",
       "  Location (Census Region)  \n",
       "1           South Atlantic  \n",
       "2       West South Central  \n",
       "3       West North Central  \n",
       "4       West North Central  \n",
       "5       West North Central  \n",
       "\n",
       "[5 rows x 38 columns]"
      ],
      "text/html": "<div>\n<style scoped>\n    .dataframe tbody tr th:only-of-type {\n        vertical-align: middle;\n    }\n\n    .dataframe tbody tr th {\n        vertical-align: top;\n    }\n\n    .dataframe thead th {\n        text-align: right;\n    }\n</style>\n<table border=\"1\" class=\"dataframe\">\n  <thead>\n    <tr style=\"text-align: right;\">\n      <th></th>\n      <th>RespondentID</th>\n      <th>Have you seen any of the 6 films in the Star Wars franchise?</th>\n      <th>Do you consider yourself to be a fan of the Star Wars film franchise?</th>\n      <th>seen_1</th>\n      <th>seen_2</th>\n      <th>seen_3</th>\n      <th>seen_4</th>\n      <th>seen_5</th>\n      <th>seen_6</th>\n      <th>ranking_1</th>\n      <th>...</th>\n      <th>Unnamed: 28</th>\n      <th>Which character shot first?</th>\n      <th>Are you familiar with the Expanded Universe?</th>\n      <th>Do you consider yourself to be a fan of the Expanded Universe?æ</th>\n      <th>Do you consider yourself to be a fan of the Star Trek franchise?</th>\n      <th>Gender</th>\n      <th>Age</th>\n      <th>Household Income</th>\n      <th>Education</th>\n      <th>Location (Census Region)</th>\n    </tr>\n  </thead>\n  <tbody>\n    <tr>\n      <th>1</th>\n      <td>3.292880e+09</td>\n      <td>True</td>\n      <td>True</td>\n      <td>True</td>\n      <td>True</td>\n      <td>True</td>\n      <td>True</td>\n      <td>True</td>\n      <td>True</td>\n      <td>3.0</td>\n      <td>...</td>\n      <td>Very favorably</td>\n      <td>I don't understand this question</td>\n      <td>Yes</td>\n      <td>No</td>\n      <td>False</td>\n      <td>Male</td>\n      <td>18-29</td>\n      <td>NaN</td>\n      <td>High school degree</td>\n      <td>South Atlantic</td>\n    </tr>\n    <tr>\n      <th>2</th>\n      <td>3.292880e+09</td>\n      <td>False</td>\n      <td>NaN</td>\n      <td>False</td>\n      <td>False</td>\n      <td>False</td>\n      <td>False</td>\n      <td>False</td>\n      <td>False</td>\n      <td>NaN</td>\n      <td>...</td>\n      <td>NaN</td>\n      <td>NaN</td>\n      <td>NaN</td>\n      <td>NaN</td>\n      <td>True</td>\n      <td>Male</td>\n      <td>18-29</td>\n      <td>$0 - $24,999</td>\n      <td>Bachelor degree</td>\n      <td>West South Central</td>\n    </tr>\n    <tr>\n      <th>3</th>\n      <td>3.292765e+09</td>\n      <td>True</td>\n      <td>False</td>\n      <td>True</td>\n      <td>True</td>\n      <td>True</td>\n      <td>False</td>\n      <td>False</td>\n      <td>False</td>\n      <td>1.0</td>\n      <td>...</td>\n      <td>Unfamiliar (N/A)</td>\n      <td>I don't understand this question</td>\n      <td>No</td>\n      <td>NaN</td>\n      <td>False</td>\n      <td>Male</td>\n      <td>18-29</td>\n      <td>$0 - $24,999</td>\n      <td>High school degree</td>\n      <td>West North Central</td>\n    </tr>\n    <tr>\n      <th>4</th>\n      <td>3.292763e+09</td>\n      <td>True</td>\n      <td>True</td>\n      <td>True</td>\n      <td>True</td>\n      <td>True</td>\n      <td>True</td>\n      <td>True</td>\n      <td>True</td>\n      <td>5.0</td>\n      <td>...</td>\n      <td>Very favorably</td>\n      <td>I don't understand this question</td>\n      <td>No</td>\n      <td>NaN</td>\n      <td>True</td>\n      <td>Male</td>\n      <td>18-29</td>\n      <td>$100,000 - $149,999</td>\n      <td>Some college or Associate degree</td>\n      <td>West North Central</td>\n    </tr>\n    <tr>\n      <th>5</th>\n      <td>3.292731e+09</td>\n      <td>True</td>\n      <td>True</td>\n      <td>True</td>\n      <td>True</td>\n      <td>True</td>\n      <td>True</td>\n      <td>True</td>\n      <td>True</td>\n      <td>5.0</td>\n      <td>...</td>\n      <td>Somewhat favorably</td>\n      <td>Greedo</td>\n      <td>Yes</td>\n      <td>No</td>\n      <td>False</td>\n      <td>Male</td>\n      <td>18-29</td>\n      <td>$100,000 - $149,999</td>\n      <td>Some college or Associate degree</td>\n      <td>West North Central</td>\n    </tr>\n  </tbody>\n</table>\n<p>5 rows × 38 columns</p>\n</div>"
     },
     "metadata": {},
     "execution_count": 9
    }
   ],
   "source": [
    "# to convert the named columns to float type\n",
    "star_wars[star_wars.columns[9:15]] = star_wars[star_wars.columns[9:15]].astype(float)\n",
    "\n",
    "# give the column names meaningful labels\n",
    "star_wars = star_wars.rename(columns={\n",
    "        \"Please rank the Star Wars films in order of preference with 1 being your favorite film in the franchise and 6 being your least favorite film.\": \"ranking_1\",\n",
    "        \"Unnamed: 10\": \"ranking_2\",\n",
    "        \"Unnamed: 11\": \"ranking_3\",\n",
    "        \"Unnamed: 12\": \"ranking_4\",\n",
    "        \"Unnamed: 13\": \"ranking_5\",\n",
    "        \"Unnamed: 14\": \"ranking_6\"\n",
    "        })\n",
    "star_wars.head()"
   ]
  },
  {
   "source": [
    "Now that we've cleaned up the ranking columns, we can find the highest-ranked movie more quickly."
   ],
   "cell_type": "markdown",
   "metadata": {}
  },
  {
   "cell_type": "code",
   "execution_count": 10,
   "metadata": {},
   "outputs": [
    {
     "output_type": "execute_result",
     "data": {
      "text/plain": [
       "ranking_1    3.732934\n",
       "ranking_2    4.087321\n",
       "ranking_3    4.341317\n",
       "ranking_4    3.272727\n",
       "ranking_5    2.513158\n",
       "ranking_6    3.047847\n",
       "dtype: float64"
      ]
     },
     "metadata": {},
     "execution_count": 10
    }
   ],
   "source": [
    "# find the mean of the ranking columns\n",
    "star_wars[star_wars.columns[9:15]].mean()"
   ]
  },
  {
   "cell_type": "code",
   "execution_count": 11,
   "metadata": {},
   "outputs": [
    {
     "output_type": "execute_result",
     "data": {
      "text/plain": [
       "<BarContainer object of 6 artists>"
      ]
     },
     "metadata": {},
     "execution_count": 11
    },
    {
     "output_type": "display_data",
     "data": {
      "text/plain": "<Figure size 432x288 with 1 Axes>",
      "image/svg+xml": "<?xml version=\"1.0\" encoding=\"utf-8\" standalone=\"no\"?>\n<!DOCTYPE svg PUBLIC \"-//W3C//DTD SVG 1.1//EN\"\n  \"http://www.w3.org/Graphics/SVG/1.1/DTD/svg11.dtd\">\n<!-- Created with matplotlib (https://matplotlib.org/) -->\n<svg height=\"248.518125pt\" version=\"1.1\" viewBox=\"0 0 362.5625 248.518125\" width=\"362.5625pt\" xmlns=\"http://www.w3.org/2000/svg\" xmlns:xlink=\"http://www.w3.org/1999/xlink\">\n <metadata>\n  <rdf:RDF xmlns:cc=\"http://creativecommons.org/ns#\" xmlns:dc=\"http://purl.org/dc/elements/1.1/\" xmlns:rdf=\"http://www.w3.org/1999/02/22-rdf-syntax-ns#\">\n   <cc:Work>\n    <dc:type rdf:resource=\"http://purl.org/dc/dcmitype/StillImage\"/>\n    <dc:date>2021-01-19T18:58:40.933975</dc:date>\n    <dc:format>image/svg+xml</dc:format>\n    <dc:creator>\n     <cc:Agent>\n      <dc:title>Matplotlib v3.3.1, https://matplotlib.org/</dc:title>\n     </cc:Agent>\n    </dc:creator>\n   </cc:Work>\n  </rdf:RDF>\n </metadata>\n <defs>\n  <style type=\"text/css\">*{stroke-linecap:butt;stroke-linejoin:round;}</style>\n </defs>\n <g id=\"figure_1\">\n  <g id=\"patch_1\">\n   <path d=\"M 0 248.518125 \nL 362.5625 248.518125 \nL 362.5625 0 \nL 0 0 \nz\n\" style=\"fill:none;\"/>\n  </g>\n  <g id=\"axes_1\">\n   <g id=\"patch_2\">\n    <path d=\"M 20.5625 224.64 \nL 355.3625 224.64 \nL 355.3625 7.2 \nL 20.5625 7.2 \nz\n\" style=\"fill:#ffffff;\"/>\n   </g>\n   <g id=\"patch_3\">\n    <path clip-path=\"url(#p295fcb644d)\" d=\"M 35.780682 224.64 \nL 77.761873 224.64 \nL 77.761873 46.574849 \nL 35.780682 46.574849 \nz\n\" style=\"fill:#1f77b4;\"/>\n   </g>\n   <g id=\"patch_4\">\n    <path clip-path=\"url(#p295fcb644d)\" d=\"M 88.257171 224.64 \nL 130.238362 224.64 \nL 130.238362 29.670218 \nL 88.257171 29.670218 \nz\n\" style=\"fill:#1f77b4;\"/>\n   </g>\n   <g id=\"patch_5\">\n    <path clip-path=\"url(#p295fcb644d)\" d=\"M 140.73366 224.64 \nL 182.714851 224.64 \nL 182.714851 17.554286 \nL 140.73366 17.554286 \nz\n\" style=\"fill:#1f77b4;\"/>\n   </g>\n   <g id=\"patch_6\">\n    <path clip-path=\"url(#p295fcb644d)\" d=\"M 193.210149 224.64 \nL 235.19134 224.64 \nL 235.19134 68.527233 \nL 193.210149 68.527233 \nz\n\" style=\"fill:#1f77b4;\"/>\n   </g>\n   <g id=\"patch_7\">\n    <path clip-path=\"url(#p295fcb644d)\" d=\"M 245.686638 224.64 \nL 287.667829 224.64 \nL 287.667829 104.759546 \nL 245.686638 104.759546 \nz\n\" style=\"fill:#1f77b4;\"/>\n   </g>\n   <g id=\"patch_8\">\n    <path clip-path=\"url(#p295fcb644d)\" d=\"M 298.163127 224.64 \nL 340.144318 224.64 \nL 340.144318 79.25428 \nL 298.163127 79.25428 \nz\n\" style=\"fill:#1f77b4;\"/>\n   </g>\n   <g id=\"matplotlib.axis_1\">\n    <g id=\"xtick_1\">\n     <g id=\"line2d_1\">\n      <defs>\n       <path d=\"M 0 0 \nL 0 3.5 \n\" id=\"mbb4fd07995\" style=\"stroke:#000000;stroke-width:0.8;\"/>\n      </defs>\n      <g>\n       <use style=\"stroke:#000000;stroke-width:0.8;\" x=\"56.771277\" xlink:href=\"#mbb4fd07995\" y=\"224.64\"/>\n      </g>\n     </g>\n     <g id=\"text_1\">\n      <!-- 0 -->\n      <g transform=\"translate(53.590027 239.238437)scale(0.1 -0.1)\">\n       <defs>\n        <path d=\"M 31.78125 66.40625 \nQ 24.171875 66.40625 20.328125 58.90625 \nQ 16.5 51.421875 16.5 36.375 \nQ 16.5 21.390625 20.328125 13.890625 \nQ 24.171875 6.390625 31.78125 6.390625 \nQ 39.453125 6.390625 43.28125 13.890625 \nQ 47.125 21.390625 47.125 36.375 \nQ 47.125 51.421875 43.28125 58.90625 \nQ 39.453125 66.40625 31.78125 66.40625 \nz\nM 31.78125 74.21875 \nQ 44.046875 74.21875 50.515625 64.515625 \nQ 56.984375 54.828125 56.984375 36.375 \nQ 56.984375 17.96875 50.515625 8.265625 \nQ 44.046875 -1.421875 31.78125 -1.421875 \nQ 19.53125 -1.421875 13.0625 8.265625 \nQ 6.59375 17.96875 6.59375 36.375 \nQ 6.59375 54.828125 13.0625 64.515625 \nQ 19.53125 74.21875 31.78125 74.21875 \nz\n\" id=\"DejaVuSans-48\"/>\n       </defs>\n       <use xlink:href=\"#DejaVuSans-48\"/>\n      </g>\n     </g>\n    </g>\n    <g id=\"xtick_2\">\n     <g id=\"line2d_2\">\n      <g>\n       <use style=\"stroke:#000000;stroke-width:0.8;\" x=\"109.247766\" xlink:href=\"#mbb4fd07995\" y=\"224.64\"/>\n      </g>\n     </g>\n     <g id=\"text_2\">\n      <!-- 1 -->\n      <g transform=\"translate(106.066516 239.238437)scale(0.1 -0.1)\">\n       <defs>\n        <path d=\"M 12.40625 8.296875 \nL 28.515625 8.296875 \nL 28.515625 63.921875 \nL 10.984375 60.40625 \nL 10.984375 69.390625 \nL 28.421875 72.90625 \nL 38.28125 72.90625 \nL 38.28125 8.296875 \nL 54.390625 8.296875 \nL 54.390625 0 \nL 12.40625 0 \nz\n\" id=\"DejaVuSans-49\"/>\n       </defs>\n       <use xlink:href=\"#DejaVuSans-49\"/>\n      </g>\n     </g>\n    </g>\n    <g id=\"xtick_3\">\n     <g id=\"line2d_3\">\n      <g>\n       <use style=\"stroke:#000000;stroke-width:0.8;\" x=\"161.724255\" xlink:href=\"#mbb4fd07995\" y=\"224.64\"/>\n      </g>\n     </g>\n     <g id=\"text_3\">\n      <!-- 2 -->\n      <g transform=\"translate(158.543005 239.238437)scale(0.1 -0.1)\">\n       <defs>\n        <path d=\"M 19.1875 8.296875 \nL 53.609375 8.296875 \nL 53.609375 0 \nL 7.328125 0 \nL 7.328125 8.296875 \nQ 12.9375 14.109375 22.625 23.890625 \nQ 32.328125 33.6875 34.8125 36.53125 \nQ 39.546875 41.84375 41.421875 45.53125 \nQ 43.3125 49.21875 43.3125 52.78125 \nQ 43.3125 58.59375 39.234375 62.25 \nQ 35.15625 65.921875 28.609375 65.921875 \nQ 23.96875 65.921875 18.8125 64.3125 \nQ 13.671875 62.703125 7.8125 59.421875 \nL 7.8125 69.390625 \nQ 13.765625 71.78125 18.9375 73 \nQ 24.125 74.21875 28.421875 74.21875 \nQ 39.75 74.21875 46.484375 68.546875 \nQ 53.21875 62.890625 53.21875 53.421875 \nQ 53.21875 48.921875 51.53125 44.890625 \nQ 49.859375 40.875 45.40625 35.40625 \nQ 44.1875 33.984375 37.640625 27.21875 \nQ 31.109375 20.453125 19.1875 8.296875 \nz\n\" id=\"DejaVuSans-50\"/>\n       </defs>\n       <use xlink:href=\"#DejaVuSans-50\"/>\n      </g>\n     </g>\n    </g>\n    <g id=\"xtick_4\">\n     <g id=\"line2d_4\">\n      <g>\n       <use style=\"stroke:#000000;stroke-width:0.8;\" x=\"214.200745\" xlink:href=\"#mbb4fd07995\" y=\"224.64\"/>\n      </g>\n     </g>\n     <g id=\"text_4\">\n      <!-- 3 -->\n      <g transform=\"translate(211.019495 239.238437)scale(0.1 -0.1)\">\n       <defs>\n        <path d=\"M 40.578125 39.3125 \nQ 47.65625 37.796875 51.625 33 \nQ 55.609375 28.21875 55.609375 21.1875 \nQ 55.609375 10.40625 48.1875 4.484375 \nQ 40.765625 -1.421875 27.09375 -1.421875 \nQ 22.515625 -1.421875 17.65625 -0.515625 \nQ 12.796875 0.390625 7.625 2.203125 \nL 7.625 11.71875 \nQ 11.71875 9.328125 16.59375 8.109375 \nQ 21.484375 6.890625 26.8125 6.890625 \nQ 36.078125 6.890625 40.9375 10.546875 \nQ 45.796875 14.203125 45.796875 21.1875 \nQ 45.796875 27.640625 41.28125 31.265625 \nQ 36.765625 34.90625 28.71875 34.90625 \nL 20.21875 34.90625 \nL 20.21875 43.015625 \nL 29.109375 43.015625 \nQ 36.375 43.015625 40.234375 45.921875 \nQ 44.09375 48.828125 44.09375 54.296875 \nQ 44.09375 59.90625 40.109375 62.90625 \nQ 36.140625 65.921875 28.71875 65.921875 \nQ 24.65625 65.921875 20.015625 65.03125 \nQ 15.375 64.15625 9.8125 62.3125 \nL 9.8125 71.09375 \nQ 15.4375 72.65625 20.34375 73.4375 \nQ 25.25 74.21875 29.59375 74.21875 \nQ 40.828125 74.21875 47.359375 69.109375 \nQ 53.90625 64.015625 53.90625 55.328125 \nQ 53.90625 49.265625 50.4375 45.09375 \nQ 46.96875 40.921875 40.578125 39.3125 \nz\n\" id=\"DejaVuSans-51\"/>\n       </defs>\n       <use xlink:href=\"#DejaVuSans-51\"/>\n      </g>\n     </g>\n    </g>\n    <g id=\"xtick_5\">\n     <g id=\"line2d_5\">\n      <g>\n       <use style=\"stroke:#000000;stroke-width:0.8;\" x=\"266.677234\" xlink:href=\"#mbb4fd07995\" y=\"224.64\"/>\n      </g>\n     </g>\n     <g id=\"text_5\">\n      <!-- 4 -->\n      <g transform=\"translate(263.495984 239.238437)scale(0.1 -0.1)\">\n       <defs>\n        <path d=\"M 37.796875 64.3125 \nL 12.890625 25.390625 \nL 37.796875 25.390625 \nz\nM 35.203125 72.90625 \nL 47.609375 72.90625 \nL 47.609375 25.390625 \nL 58.015625 25.390625 \nL 58.015625 17.1875 \nL 47.609375 17.1875 \nL 47.609375 0 \nL 37.796875 0 \nL 37.796875 17.1875 \nL 4.890625 17.1875 \nL 4.890625 26.703125 \nz\n\" id=\"DejaVuSans-52\"/>\n       </defs>\n       <use xlink:href=\"#DejaVuSans-52\"/>\n      </g>\n     </g>\n    </g>\n    <g id=\"xtick_6\">\n     <g id=\"line2d_6\">\n      <g>\n       <use style=\"stroke:#000000;stroke-width:0.8;\" x=\"319.153723\" xlink:href=\"#mbb4fd07995\" y=\"224.64\"/>\n      </g>\n     </g>\n     <g id=\"text_6\">\n      <!-- 5 -->\n      <g transform=\"translate(315.972473 239.238437)scale(0.1 -0.1)\">\n       <defs>\n        <path d=\"M 10.796875 72.90625 \nL 49.515625 72.90625 \nL 49.515625 64.59375 \nL 19.828125 64.59375 \nL 19.828125 46.734375 \nQ 21.96875 47.46875 24.109375 47.828125 \nQ 26.265625 48.1875 28.421875 48.1875 \nQ 40.625 48.1875 47.75 41.5 \nQ 54.890625 34.8125 54.890625 23.390625 \nQ 54.890625 11.625 47.5625 5.09375 \nQ 40.234375 -1.421875 26.90625 -1.421875 \nQ 22.3125 -1.421875 17.546875 -0.640625 \nQ 12.796875 0.140625 7.71875 1.703125 \nL 7.71875 11.625 \nQ 12.109375 9.234375 16.796875 8.0625 \nQ 21.484375 6.890625 26.703125 6.890625 \nQ 35.15625 6.890625 40.078125 11.328125 \nQ 45.015625 15.765625 45.015625 23.390625 \nQ 45.015625 31 40.078125 35.4375 \nQ 35.15625 39.890625 26.703125 39.890625 \nQ 22.75 39.890625 18.8125 39.015625 \nQ 14.890625 38.140625 10.796875 36.28125 \nz\n\" id=\"DejaVuSans-53\"/>\n       </defs>\n       <use xlink:href=\"#DejaVuSans-53\"/>\n      </g>\n     </g>\n    </g>\n   </g>\n   <g id=\"matplotlib.axis_2\">\n    <g id=\"ytick_1\">\n     <g id=\"line2d_7\">\n      <defs>\n       <path d=\"M 0 0 \nL -3.5 0 \n\" id=\"mdca2e79659\" style=\"stroke:#000000;stroke-width:0.8;\"/>\n      </defs>\n      <g>\n       <use style=\"stroke:#000000;stroke-width:0.8;\" x=\"20.5625\" xlink:href=\"#mdca2e79659\" y=\"224.64\"/>\n      </g>\n     </g>\n     <g id=\"text_7\">\n      <!-- 0 -->\n      <g transform=\"translate(7.2 228.439219)scale(0.1 -0.1)\">\n       <use xlink:href=\"#DejaVuSans-48\"/>\n      </g>\n     </g>\n    </g>\n    <g id=\"ytick_2\">\n     <g id=\"line2d_8\">\n      <g>\n       <use style=\"stroke:#000000;stroke-width:0.8;\" x=\"20.5625\" xlink:href=\"#mdca2e79659\" y=\"176.938877\"/>\n      </g>\n     </g>\n     <g id=\"text_8\">\n      <!-- 1 -->\n      <g transform=\"translate(7.2 180.738096)scale(0.1 -0.1)\">\n       <use xlink:href=\"#DejaVuSans-49\"/>\n      </g>\n     </g>\n    </g>\n    <g id=\"ytick_3\">\n     <g id=\"line2d_9\">\n      <g>\n       <use style=\"stroke:#000000;stroke-width:0.8;\" x=\"20.5625\" xlink:href=\"#mdca2e79659\" y=\"129.237754\"/>\n      </g>\n     </g>\n     <g id=\"text_9\">\n      <!-- 2 -->\n      <g transform=\"translate(7.2 133.036972)scale(0.1 -0.1)\">\n       <use xlink:href=\"#DejaVuSans-50\"/>\n      </g>\n     </g>\n    </g>\n    <g id=\"ytick_4\">\n     <g id=\"line2d_10\">\n      <g>\n       <use style=\"stroke:#000000;stroke-width:0.8;\" x=\"20.5625\" xlink:href=\"#mdca2e79659\" y=\"81.536631\"/>\n      </g>\n     </g>\n     <g id=\"text_10\">\n      <!-- 3 -->\n      <g transform=\"translate(7.2 85.335849)scale(0.1 -0.1)\">\n       <use xlink:href=\"#DejaVuSans-51\"/>\n      </g>\n     </g>\n    </g>\n    <g id=\"ytick_5\">\n     <g id=\"line2d_11\">\n      <g>\n       <use style=\"stroke:#000000;stroke-width:0.8;\" x=\"20.5625\" xlink:href=\"#mdca2e79659\" y=\"33.835507\"/>\n      </g>\n     </g>\n     <g id=\"text_11\">\n      <!-- 4 -->\n      <g transform=\"translate(7.2 37.634726)scale(0.1 -0.1)\">\n       <use xlink:href=\"#DejaVuSans-52\"/>\n      </g>\n     </g>\n    </g>\n   </g>\n   <g id=\"patch_9\">\n    <path d=\"M 20.5625 224.64 \nL 20.5625 7.2 \n\" style=\"fill:none;stroke:#000000;stroke-linecap:square;stroke-linejoin:miter;stroke-width:0.8;\"/>\n   </g>\n   <g id=\"patch_10\">\n    <path d=\"M 355.3625 224.64 \nL 355.3625 7.2 \n\" style=\"fill:none;stroke:#000000;stroke-linecap:square;stroke-linejoin:miter;stroke-width:0.8;\"/>\n   </g>\n   <g id=\"patch_11\">\n    <path d=\"M 20.5625 224.64 \nL 355.3625 224.64 \n\" style=\"fill:none;stroke:#000000;stroke-linecap:square;stroke-linejoin:miter;stroke-width:0.8;\"/>\n   </g>\n   <g id=\"patch_12\">\n    <path d=\"M 20.5625 7.2 \nL 355.3625 7.2 \n\" style=\"fill:none;stroke:#000000;stroke-linecap:square;stroke-linejoin:miter;stroke-width:0.8;\"/>\n   </g>\n  </g>\n </g>\n <defs>\n  <clipPath id=\"p295fcb644d\">\n   <rect height=\"217.44\" width=\"334.8\" x=\"20.5625\" y=\"7.2\"/>\n  </clipPath>\n </defs>\n</svg>\n",
      "image/png": "[encoded data removed]"
     },
     "metadata": {
      "needs_background": "light"
     }
    }
   ],
   "source": [
    "plt.bar(range(6), star_wars[star_wars.columns[9:15]].mean())"
   ]
  },
  {
   "source": [
    "# Rankings\n",
    "So far, we've cleaned up the data, renamed several columns, and computed the average ranking of each movie. As I suspected, it looks like the \"original\" movies are rated much higher than the newer ones.\n"
   ],
   "cell_type": "markdown",
   "metadata": {}
  },
  {
   "source": [
    "Let's figure out how many people have seen each movie just by taking the sum of the seen columns."
   ],
   "cell_type": "markdown",
   "metadata": {}
  },
  {
   "cell_type": "code",
   "execution_count": 12,
   "metadata": {},
   "outputs": [
    {
     "output_type": "execute_result",
     "data": {
      "text/plain": [
       "seen_1    673\n",
       "seen_2    571\n",
       "seen_3    550\n",
       "seen_4    607\n",
       "seen_5    758\n",
       "seen_6    738\n",
       "dtype: int64"
      ]
     },
     "metadata": {},
     "execution_count": 12
    }
   ],
   "source": [
    "# number of people who have watched respective movies\n",
    "star_wars[star_wars.columns[3:9]].sum()"
   ]
  },
  {
   "cell_type": "code",
   "execution_count": 13,
   "metadata": {},
   "outputs": [
    {
     "output_type": "execute_result",
     "data": {
      "text/plain": [
       "<BarContainer object of 6 artists>"
      ]
     },
     "metadata": {},
     "execution_count": 13
    },
    {
     "output_type": "display_data",
     "data": {
      "text/plain": "<Figure size 432x288 with 1 Axes>",
      "image/svg+xml": "<?xml version=\"1.0\" encoding=\"utf-8\" standalone=\"no\"?>\n<!DOCTYPE svg PUBLIC \"-//W3C//DTD SVG 1.1//EN\"\n  \"http://www.w3.org/Graphics/SVG/1.1/DTD/svg11.dtd\">\n<!-- Created with matplotlib (https://matplotlib.org/) -->\n<svg height=\"248.518125pt\" version=\"1.1\" viewBox=\"0 0 375.2875 248.518125\" width=\"375.2875pt\" xmlns=\"http://www.w3.org/2000/svg\" xmlns:xlink=\"http://www.w3.org/1999/xlink\">\n <metadata>\n  <rdf:RDF xmlns:cc=\"http://creativecommons.org/ns#\" xmlns:dc=\"http://purl.org/dc/elements/1.1/\" xmlns:rdf=\"http://www.w3.org/1999/02/22-rdf-syntax-ns#\">\n   <cc:Work>\n    <dc:type rdf:resource=\"http://purl.org/dc/dcmitype/StillImage\"/>\n    <dc:date>2021-01-19T18:58:44.631594</dc:date>\n    <dc:format>image/svg+xml</dc:format>\n    <dc:creator>\n     <cc:Agent>\n      <dc:title>Matplotlib v3.3.1, https://matplotlib.org/</dc:title>\n     </cc:Agent>\n    </dc:creator>\n   </cc:Work>\n  </rdf:RDF>\n </metadata>\n <defs>\n  <style type=\"text/css\">*{stroke-linecap:butt;stroke-linejoin:round;}</style>\n </defs>\n <g id=\"figure_1\">\n  <g id=\"patch_1\">\n   <path d=\"M 0 248.518125 \nL 375.2875 248.518125 \nL 375.2875 0 \nL 0 0 \nz\n\" style=\"fill:none;\"/>\n  </g>\n  <g id=\"axes_1\">\n   <g id=\"patch_2\">\n    <path d=\"M 33.2875 224.64 \nL 368.0875 224.64 \nL 368.0875 7.2 \nL 33.2875 7.2 \nz\n\" style=\"fill:#ffffff;\"/>\n   </g>\n   <g id=\"patch_3\">\n    <path clip-path=\"url(#pafb8c465ca)\" d=\"M 48.505682 224.64 \nL 90.486873 224.64 \nL 90.486873 40.776299 \nL 48.505682 40.776299 \nz\n\" style=\"fill:#1f77b4;\"/>\n   </g>\n   <g id=\"patch_4\">\n    <path clip-path=\"url(#pafb8c465ca)\" d=\"M 100.982171 224.64 \nL 142.963362 224.64 \nL 142.963362 68.642714 \nL 100.982171 68.642714 \nz\n\" style=\"fill:#1f77b4;\"/>\n   </g>\n   <g id=\"patch_5\">\n    <path clip-path=\"url(#pafb8c465ca)\" d=\"M 153.45866 224.64 \nL 195.439851 224.64 \nL 195.439851 74.379917 \nL 153.45866 74.379917 \nz\n\" style=\"fill:#1f77b4;\"/>\n   </g>\n   <g id=\"patch_6\">\n    <path clip-path=\"url(#pafb8c465ca)\" d=\"M 205.935149 224.64 \nL 247.91634 224.64 \nL 247.91634 58.807508 \nL 205.935149 58.807508 \nz\n\" style=\"fill:#1f77b4;\"/>\n   </g>\n   <g id=\"patch_7\">\n    <path clip-path=\"url(#pafb8c465ca)\" d=\"M 258.411638 224.64 \nL 300.392829 224.64 \nL 300.392829 17.554286 \nL 258.411638 17.554286 \nz\n\" style=\"fill:#1f77b4;\"/>\n   </g>\n   <g id=\"patch_8\">\n    <path clip-path=\"url(#pafb8c465ca)\" d=\"M 310.888127 224.64 \nL 352.869318 224.64 \nL 352.869318 23.018289 \nL 310.888127 23.018289 \nz\n\" style=\"fill:#1f77b4;\"/>\n   </g>\n   <g id=\"matplotlib.axis_1\">\n    <g id=\"xtick_1\">\n     <g id=\"line2d_1\">\n      <defs>\n       <path d=\"M 0 0 \nL 0 3.5 \n\" id=\"m4b73ec4230\" style=\"stroke:#000000;stroke-width:0.8;\"/>\n      </defs>\n      <g>\n       <use style=\"stroke:#000000;stroke-width:0.8;\" x=\"69.496277\" xlink:href=\"#m4b73ec4230\" y=\"224.64\"/>\n      </g>\n     </g>\n     <g id=\"text_1\">\n      <!-- 0 -->\n      <g transform=\"translate(66.315027 239.238437)scale(0.1 -0.1)\">\n       <defs>\n        <path d=\"M 31.78125 66.40625 \nQ 24.171875 66.40625 20.328125 58.90625 \nQ 16.5 51.421875 16.5 36.375 \nQ 16.5 21.390625 20.328125 13.890625 \nQ 24.171875 6.390625 31.78125 6.390625 \nQ 39.453125 6.390625 43.28125 13.890625 \nQ 47.125 21.390625 47.125 36.375 \nQ 47.125 51.421875 43.28125 58.90625 \nQ 39.453125 66.40625 31.78125 66.40625 \nz\nM 31.78125 74.21875 \nQ 44.046875 74.21875 50.515625 64.515625 \nQ 56.984375 54.828125 56.984375 36.375 \nQ 56.984375 17.96875 50.515625 8.265625 \nQ 44.046875 -1.421875 31.78125 -1.421875 \nQ 19.53125 -1.421875 13.0625 8.265625 \nQ 6.59375 17.96875 6.59375 36.375 \nQ 6.59375 54.828125 13.0625 64.515625 \nQ 19.53125 74.21875 31.78125 74.21875 \nz\n\" id=\"DejaVuSans-48\"/>\n       </defs>\n       <use xlink:href=\"#DejaVuSans-48\"/>\n      </g>\n     </g>\n    </g>\n    <g id=\"xtick_2\">\n     <g id=\"line2d_2\">\n      <g>\n       <use style=\"stroke:#000000;stroke-width:0.8;\" x=\"121.972766\" xlink:href=\"#m4b73ec4230\" y=\"224.64\"/>\n      </g>\n     </g>\n     <g id=\"text_2\">\n      <!-- 1 -->\n      <g transform=\"translate(118.791516 239.238437)scale(0.1 -0.1)\">\n       <defs>\n        <path d=\"M 12.40625 8.296875 \nL 28.515625 8.296875 \nL 28.515625 63.921875 \nL 10.984375 60.40625 \nL 10.984375 69.390625 \nL 28.421875 72.90625 \nL 38.28125 72.90625 \nL 38.28125 8.296875 \nL 54.390625 8.296875 \nL 54.390625 0 \nL 12.40625 0 \nz\n\" id=\"DejaVuSans-49\"/>\n       </defs>\n       <use xlink:href=\"#DejaVuSans-49\"/>\n      </g>\n     </g>\n    </g>\n    <g id=\"xtick_3\">\n     <g id=\"line2d_3\">\n      <g>\n       <use style=\"stroke:#000000;stroke-width:0.8;\" x=\"174.449255\" xlink:href=\"#m4b73ec4230\" y=\"224.64\"/>\n      </g>\n     </g>\n     <g id=\"text_3\">\n      <!-- 2 -->\n      <g transform=\"translate(171.268005 239.238437)scale(0.1 -0.1)\">\n       <defs>\n        <path d=\"M 19.1875 8.296875 \nL 53.609375 8.296875 \nL 53.609375 0 \nL 7.328125 0 \nL 7.328125 8.296875 \nQ 12.9375 14.109375 22.625 23.890625 \nQ 32.328125 33.6875 34.8125 36.53125 \nQ 39.546875 41.84375 41.421875 45.53125 \nQ 43.3125 49.21875 43.3125 52.78125 \nQ 43.3125 58.59375 39.234375 62.25 \nQ 35.15625 65.921875 28.609375 65.921875 \nQ 23.96875 65.921875 18.8125 64.3125 \nQ 13.671875 62.703125 7.8125 59.421875 \nL 7.8125 69.390625 \nQ 13.765625 71.78125 18.9375 73 \nQ 24.125 74.21875 28.421875 74.21875 \nQ 39.75 74.21875 46.484375 68.546875 \nQ 53.21875 62.890625 53.21875 53.421875 \nQ 53.21875 48.921875 51.53125 44.890625 \nQ 49.859375 40.875 45.40625 35.40625 \nQ 44.1875 33.984375 37.640625 27.21875 \nQ 31.109375 20.453125 19.1875 8.296875 \nz\n\" id=\"DejaVuSans-50\"/>\n       </defs>\n       <use xlink:href=\"#DejaVuSans-50\"/>\n      </g>\n     </g>\n    </g>\n    <g id=\"xtick_4\">\n     <g id=\"line2d_4\">\n      <g>\n       <use style=\"stroke:#000000;stroke-width:0.8;\" x=\"226.925745\" xlink:href=\"#m4b73ec4230\" y=\"224.64\"/>\n      </g>\n     </g>\n     <g id=\"text_4\">\n      <!-- 3 -->\n      <g transform=\"translate(223.744495 239.238437)scale(0.1 -0.1)\">\n       <defs>\n        <path d=\"M 40.578125 39.3125 \nQ 47.65625 37.796875 51.625 33 \nQ 55.609375 28.21875 55.609375 21.1875 \nQ 55.609375 10.40625 48.1875 4.484375 \nQ 40.765625 -1.421875 27.09375 -1.421875 \nQ 22.515625 -1.421875 17.65625 -0.515625 \nQ 12.796875 0.390625 7.625 2.203125 \nL 7.625 11.71875 \nQ 11.71875 9.328125 16.59375 8.109375 \nQ 21.484375 6.890625 26.8125 6.890625 \nQ 36.078125 6.890625 40.9375 10.546875 \nQ 45.796875 14.203125 45.796875 21.1875 \nQ 45.796875 27.640625 41.28125 31.265625 \nQ 36.765625 34.90625 28.71875 34.90625 \nL 20.21875 34.90625 \nL 20.21875 43.015625 \nL 29.109375 43.015625 \nQ 36.375 43.015625 40.234375 45.921875 \nQ 44.09375 48.828125 44.09375 54.296875 \nQ 44.09375 59.90625 40.109375 62.90625 \nQ 36.140625 65.921875 28.71875 65.921875 \nQ 24.65625 65.921875 20.015625 65.03125 \nQ 15.375 64.15625 9.8125 62.3125 \nL 9.8125 71.09375 \nQ 15.4375 72.65625 20.34375 73.4375 \nQ 25.25 74.21875 29.59375 74.21875 \nQ 40.828125 74.21875 47.359375 69.109375 \nQ 53.90625 64.015625 53.90625 55.328125 \nQ 53.90625 49.265625 50.4375 45.09375 \nQ 46.96875 40.921875 40.578125 39.3125 \nz\n\" id=\"DejaVuSans-51\"/>\n       </defs>\n       <use xlink:href=\"#DejaVuSans-51\"/>\n      </g>\n     </g>\n    </g>\n    <g id=\"xtick_5\">\n     <g id=\"line2d_5\">\n      <g>\n       <use style=\"stroke:#000000;stroke-width:0.8;\" x=\"279.402234\" xlink:href=\"#m4b73ec4230\" y=\"224.64\"/>\n      </g>\n     </g>\n     <g id=\"text_5\">\n      <!-- 4 -->\n      <g transform=\"translate(276.220984 239.238437)scale(0.1 -0.1)\">\n       <defs>\n        <path d=\"M 37.796875 64.3125 \nL 12.890625 25.390625 \nL 37.796875 25.390625 \nz\nM 35.203125 72.90625 \nL 47.609375 72.90625 \nL 47.609375 25.390625 \nL 58.015625 25.390625 \nL 58.015625 17.1875 \nL 47.609375 17.1875 \nL 47.609375 0 \nL 37.796875 0 \nL 37.796875 17.1875 \nL 4.890625 17.1875 \nL 4.890625 26.703125 \nz\n\" id=\"DejaVuSans-52\"/>\n       </defs>\n       <use xlink:href=\"#DejaVuSans-52\"/>\n      </g>\n     </g>\n    </g>\n    <g id=\"xtick_6\">\n     <g id=\"line2d_6\">\n      <g>\n       <use style=\"stroke:#000000;stroke-width:0.8;\" x=\"331.878723\" xlink:href=\"#m4b73ec4230\" y=\"224.64\"/>\n      </g>\n     </g>\n     <g id=\"text_6\">\n      <!-- 5 -->\n      <g transform=\"translate(328.697473 239.238437)scale(0.1 -0.1)\">\n       <defs>\n        <path d=\"M 10.796875 72.90625 \nL 49.515625 72.90625 \nL 49.515625 64.59375 \nL 19.828125 64.59375 \nL 19.828125 46.734375 \nQ 21.96875 47.46875 24.109375 47.828125 \nQ 26.265625 48.1875 28.421875 48.1875 \nQ 40.625 48.1875 47.75 41.5 \nQ 54.890625 34.8125 54.890625 23.390625 \nQ 54.890625 11.625 47.5625 5.09375 \nQ 40.234375 -1.421875 26.90625 -1.421875 \nQ 22.3125 -1.421875 17.546875 -0.640625 \nQ 12.796875 0.140625 7.71875 1.703125 \nL 7.71875 11.625 \nQ 12.109375 9.234375 16.796875 8.0625 \nQ 21.484375 6.890625 26.703125 6.890625 \nQ 35.15625 6.890625 40.078125 11.328125 \nQ 45.015625 15.765625 45.015625 23.390625 \nQ 45.015625 31 40.078125 35.4375 \nQ 35.15625 39.890625 26.703125 39.890625 \nQ 22.75 39.890625 18.8125 39.015625 \nQ 14.890625 38.140625 10.796875 36.28125 \nz\n\" id=\"DejaVuSans-53\"/>\n       </defs>\n       <use xlink:href=\"#DejaVuSans-53\"/>\n      </g>\n     </g>\n    </g>\n   </g>\n   <g id=\"matplotlib.axis_2\">\n    <g id=\"ytick_1\">\n     <g id=\"line2d_7\">\n      <defs>\n       <path d=\"M 0 0 \nL -3.5 0 \n\" id=\"mc29087cbee\" style=\"stroke:#000000;stroke-width:0.8;\"/>\n      </defs>\n      <g>\n       <use style=\"stroke:#000000;stroke-width:0.8;\" x=\"33.2875\" xlink:href=\"#mc29087cbee\" y=\"224.64\"/>\n      </g>\n     </g>\n     <g id=\"text_7\">\n      <!-- 0 -->\n      <g transform=\"translate(19.925 228.439219)scale(0.1 -0.1)\">\n       <use xlink:href=\"#DejaVuSans-48\"/>\n      </g>\n     </g>\n    </g>\n    <g id=\"ytick_2\">\n     <g id=\"line2d_8\">\n      <g>\n       <use style=\"stroke:#000000;stroke-width:0.8;\" x=\"33.2875\" xlink:href=\"#mc29087cbee\" y=\"197.319985\"/>\n      </g>\n     </g>\n     <g id=\"text_8\">\n      <!-- 100 -->\n      <g transform=\"translate(7.2 201.119204)scale(0.1 -0.1)\">\n       <use xlink:href=\"#DejaVuSans-49\"/>\n       <use x=\"63.623047\" xlink:href=\"#DejaVuSans-48\"/>\n       <use x=\"127.246094\" xlink:href=\"#DejaVuSans-48\"/>\n      </g>\n     </g>\n    </g>\n    <g id=\"ytick_3\">\n     <g id=\"line2d_9\">\n      <g>\n       <use style=\"stroke:#000000;stroke-width:0.8;\" x=\"33.2875\" xlink:href=\"#mc29087cbee\" y=\"169.99997\"/>\n      </g>\n     </g>\n     <g id=\"text_9\">\n      <!-- 200 -->\n      <g transform=\"translate(7.2 173.799189)scale(0.1 -0.1)\">\n       <use xlink:href=\"#DejaVuSans-50\"/>\n       <use x=\"63.623047\" xlink:href=\"#DejaVuSans-48\"/>\n       <use x=\"127.246094\" xlink:href=\"#DejaVuSans-48\"/>\n      </g>\n     </g>\n    </g>\n    <g id=\"ytick_4\">\n     <g id=\"line2d_10\">\n      <g>\n       <use style=\"stroke:#000000;stroke-width:0.8;\" x=\"33.2875\" xlink:href=\"#mc29087cbee\" y=\"142.679955\"/>\n      </g>\n     </g>\n     <g id=\"text_10\">\n      <!-- 300 -->\n      <g transform=\"translate(7.2 146.479174)scale(0.1 -0.1)\">\n       <use xlink:href=\"#DejaVuSans-51\"/>\n       <use x=\"63.623047\" xlink:href=\"#DejaVuSans-48\"/>\n       <use x=\"127.246094\" xlink:href=\"#DejaVuSans-48\"/>\n      </g>\n     </g>\n    </g>\n    <g id=\"ytick_5\">\n     <g id=\"line2d_11\">\n      <g>\n       <use style=\"stroke:#000000;stroke-width:0.8;\" x=\"33.2875\" xlink:href=\"#mc29087cbee\" y=\"115.35994\"/>\n      </g>\n     </g>\n     <g id=\"text_11\">\n      <!-- 400 -->\n      <g transform=\"translate(7.2 119.159158)scale(0.1 -0.1)\">\n       <use xlink:href=\"#DejaVuSans-52\"/>\n       <use x=\"63.623047\" xlink:href=\"#DejaVuSans-48\"/>\n       <use x=\"127.246094\" xlink:href=\"#DejaVuSans-48\"/>\n      </g>\n     </g>\n    </g>\n    <g id=\"ytick_6\">\n     <g id=\"line2d_12\">\n      <g>\n       <use style=\"stroke:#000000;stroke-width:0.8;\" x=\"33.2875\" xlink:href=\"#mc29087cbee\" y=\"88.039925\"/>\n      </g>\n     </g>\n     <g id=\"text_12\">\n      <!-- 500 -->\n      <g transform=\"translate(7.2 91.839143)scale(0.1 -0.1)\">\n       <use xlink:href=\"#DejaVuSans-53\"/>\n       <use x=\"63.623047\" xlink:href=\"#DejaVuSans-48\"/>\n       <use x=\"127.246094\" xlink:href=\"#DejaVuSans-48\"/>\n      </g>\n     </g>\n    </g>\n    <g id=\"ytick_7\">\n     <g id=\"line2d_13\">\n      <g>\n       <use style=\"stroke:#000000;stroke-width:0.8;\" x=\"33.2875\" xlink:href=\"#mc29087cbee\" y=\"60.71991\"/>\n      </g>\n     </g>\n     <g id=\"text_13\">\n      <!-- 600 -->\n      <g transform=\"translate(7.2 64.519128)scale(0.1 -0.1)\">\n       <defs>\n        <path d=\"M 33.015625 40.375 \nQ 26.375 40.375 22.484375 35.828125 \nQ 18.609375 31.296875 18.609375 23.390625 \nQ 18.609375 15.53125 22.484375 10.953125 \nQ 26.375 6.390625 33.015625 6.390625 \nQ 39.65625 6.390625 43.53125 10.953125 \nQ 47.40625 15.53125 47.40625 23.390625 \nQ 47.40625 31.296875 43.53125 35.828125 \nQ 39.65625 40.375 33.015625 40.375 \nz\nM 52.59375 71.296875 \nL 52.59375 62.3125 \nQ 48.875 64.0625 45.09375 64.984375 \nQ 41.3125 65.921875 37.59375 65.921875 \nQ 27.828125 65.921875 22.671875 59.328125 \nQ 17.53125 52.734375 16.796875 39.40625 \nQ 19.671875 43.65625 24.015625 45.921875 \nQ 28.375 48.1875 33.59375 48.1875 \nQ 44.578125 48.1875 50.953125 41.515625 \nQ 57.328125 34.859375 57.328125 23.390625 \nQ 57.328125 12.15625 50.6875 5.359375 \nQ 44.046875 -1.421875 33.015625 -1.421875 \nQ 20.359375 -1.421875 13.671875 8.265625 \nQ 6.984375 17.96875 6.984375 36.375 \nQ 6.984375 53.65625 15.1875 63.9375 \nQ 23.390625 74.21875 37.203125 74.21875 \nQ 40.921875 74.21875 44.703125 73.484375 \nQ 48.484375 72.75 52.59375 71.296875 \nz\n\" id=\"DejaVuSans-54\"/>\n       </defs>\n       <use xlink:href=\"#DejaVuSans-54\"/>\n       <use x=\"63.623047\" xlink:href=\"#DejaVuSans-48\"/>\n       <use x=\"127.246094\" xlink:href=\"#DejaVuSans-48\"/>\n      </g>\n     </g>\n    </g>\n    <g id=\"ytick_8\">\n     <g id=\"line2d_14\">\n      <g>\n       <use style=\"stroke:#000000;stroke-width:0.8;\" x=\"33.2875\" xlink:href=\"#mc29087cbee\" y=\"33.399894\"/>\n      </g>\n     </g>\n     <g id=\"text_14\">\n      <!-- 700 -->\n      <g transform=\"translate(7.2 37.199113)scale(0.1 -0.1)\">\n       <defs>\n        <path d=\"M 8.203125 72.90625 \nL 55.078125 72.90625 \nL 55.078125 68.703125 \nL 28.609375 0 \nL 18.3125 0 \nL 43.21875 64.59375 \nL 8.203125 64.59375 \nz\n\" id=\"DejaVuSans-55\"/>\n       </defs>\n       <use xlink:href=\"#DejaVuSans-55\"/>\n       <use x=\"63.623047\" xlink:href=\"#DejaVuSans-48\"/>\n       <use x=\"127.246094\" xlink:href=\"#DejaVuSans-48\"/>\n      </g>\n     </g>\n    </g>\n   </g>\n   <g id=\"patch_9\">\n    <path d=\"M 33.2875 224.64 \nL 33.2875 7.2 \n\" style=\"fill:none;stroke:#000000;stroke-linecap:square;stroke-linejoin:miter;stroke-width:0.8;\"/>\n   </g>\n   <g id=\"patch_10\">\n    <path d=\"M 368.0875 224.64 \nL 368.0875 7.2 \n\" style=\"fill:none;stroke:#000000;stroke-linecap:square;stroke-linejoin:miter;stroke-width:0.8;\"/>\n   </g>\n   <g id=\"patch_11\">\n    <path d=\"M 33.2875 224.64 \nL 368.0875 224.64 \n\" style=\"fill:none;stroke:#000000;stroke-linecap:square;stroke-linejoin:miter;stroke-width:0.8;\"/>\n   </g>\n   <g id=\"patch_12\">\n    <path d=\"M 33.2875 7.2 \nL 368.0875 7.2 \n\" style=\"fill:none;stroke:#000000;stroke-linecap:square;stroke-linejoin:miter;stroke-width:0.8;\"/>\n   </g>\n  </g>\n </g>\n <defs>\n  <clipPath id=\"pafb8c465ca\">\n   <rect height=\"217.44\" width=\"334.8\" x=\"33.2875\" y=\"7.2\"/>\n  </clipPath>\n </defs>\n</svg>\n",
      "image/png": "[encoded data removed]"
     },
     "metadata": {
      "needs_background": "light"
     }
    }
   ],
   "source": [
    "# plot of the people who have watched the respective movies\n",
    "plt.bar(range(6), star_wars[star_wars.columns[3:9]].sum())"
   ]
  },
  {
   "source": [
    "# View counts\n",
    "It appears that the original movies were seen by more respondents than the newer movies. This reinforces what we saw in the rankings, where the earlier movies seem to be more popular."
   ],
   "cell_type": "markdown",
   "metadata": {}
  },
  {
   "source": [
    "We know which movies the survey population as a whole has ranked the highest. Now let's examine how certain segments of the survey population responded. There are several columns that segment our data into two groups. Here are a few examples:\n",
    "\n",
    "- Do you consider yourself to be a fan of the Star Wars film franchise? - True or False\n",
    "- Do you consider yourself to be a fan of the Star Trek franchise? - Yes or No\n",
    "- Gender - Male or Female"
   ],
   "cell_type": "markdown",
   "metadata": {}
  },
  {
   "cell_type": "code",
   "execution_count": 22,
   "metadata": {},
   "outputs": [],
   "source": [
    "# split data into male and female datasets\n",
    "males = star_wars[star_wars['Gender'] == 'Male']\n",
    "females = star_wars[star_wars['Gender'] == 'Female']\n",
    "\n",
    "# split data into franchise fan datasets\n",
    "star_wars_fan = star_wars[star_wars['Do you consider yourself to be a fan of the Star Wars film franchise?'] == True]\n",
    "star_trek_fan = star_wars[star_wars['Do you consider yourself to be a fan of the Star Trek franchise?'] == True]"
   ]
  },
  {
   "cell_type": "code",
   "execution_count": 23,
   "metadata": {},
   "outputs": [
    {
     "output_type": "execute_result",
     "data": {
      "text/plain": [
       "seen_1    361\n",
       "seen_2    323\n",
       "seen_3    317\n",
       "seen_4    342\n",
       "seen_5    392\n",
       "seen_6    387\n",
       "dtype: int64"
      ]
     },
     "metadata": {},
     "execution_count": 23
    }
   ],
   "source": [
    "# number of males that watched the movies\n",
    "males[males.columns[3:9]].sum()"
   ]
  },
  {
   "cell_type": "code",
   "execution_count": 24,
   "metadata": {},
   "outputs": [
    {
     "output_type": "execute_result",
     "data": {
      "text/plain": [
       "<BarContainer object of 6 artists>"
      ]
     },
     "metadata": {},
     "execution_count": 24
    },
    {
     "output_type": "display_data",
     "data": {
      "text/plain": "<Figure size 432x288 with 1 Axes>",
      "image/svg+xml": "<?xml version=\"1.0\" encoding=\"utf-8\" standalone=\"no\"?>\n<!DOCTYPE svg PUBLIC \"-//W3C//DTD SVG 1.1//EN\"\n  \"http://www.w3.org/Graphics/SVG/1.1/DTD/svg11.dtd\">\n<!-- Created with matplotlib (https://matplotlib.org/) -->\n<svg height=\"248.518125pt\" version=\"1.1\" viewBox=\"0 0 375.2875 248.518125\" width=\"375.2875pt\" xmlns=\"http://www.w3.org/2000/svg\" xmlns:xlink=\"http://www.w3.org/1999/xlink\">\n <metadata>\n  <rdf:RDF xmlns:cc=\"http://creativecommons.org/ns#\" xmlns:dc=\"http://purl.org/dc/elements/1.1/\" xmlns:rdf=\"http://www.w3.org/1999/02/22-rdf-syntax-ns#\">\n   <cc:Work>\n    <dc:type rdf:resource=\"http://purl.org/dc/dcmitype/StillImage\"/>\n    <dc:date>2021-01-19T18:59:12.972088</dc:date>\n    <dc:format>image/svg+xml</dc:format>\n    <dc:creator>\n     <cc:Agent>\n      <dc:title>Matplotlib v3.3.1, https://matplotlib.org/</dc:title>\n     </cc:Agent>\n    </dc:creator>\n   </cc:Work>\n  </rdf:RDF>\n </metadata>\n <defs>\n  <style type=\"text/css\">*{stroke-linecap:butt;stroke-linejoin:round;}</style>\n </defs>\n <g id=\"figure_1\">\n  <g id=\"patch_1\">\n   <path d=\"M 0 248.518125 \nL 375.2875 248.518125 \nL 375.2875 0 \nL 0 0 \nz\n\" style=\"fill:none;\"/>\n  </g>\n  <g id=\"axes_1\">\n   <g id=\"patch_2\">\n    <path d=\"M 33.2875 224.64 \nL 368.0875 224.64 \nL 368.0875 7.2 \nL 33.2875 7.2 \nz\n\" style=\"fill:#ffffff;\"/>\n   </g>\n   <g id=\"patch_3\">\n    <path clip-path=\"url(#p4d59ead7f3)\" d=\"M 48.505682 224.64 \nL 90.486873 224.64 \nL 90.486873 33.930962 \nL 48.505682 33.930962 \nz\n\" style=\"fill:#1f77b4;\"/>\n   </g>\n   <g id=\"patch_4\">\n    <path clip-path=\"url(#p4d59ead7f3)\" d=\"M 100.982171 224.64 \nL 142.963362 224.64 \nL 142.963362 54.005598 \nL 100.982171 54.005598 \nz\n\" style=\"fill:#1f77b4;\"/>\n   </g>\n   <g id=\"patch_5\">\n    <path clip-path=\"url(#p4d59ead7f3)\" d=\"M 153.45866 224.64 \nL 195.439851 224.64 \nL 195.439851 57.175277 \nL 153.45866 57.175277 \nz\n\" style=\"fill:#1f77b4;\"/>\n   </g>\n   <g id=\"patch_6\">\n    <path clip-path=\"url(#p4d59ead7f3)\" d=\"M 205.935149 224.64 \nL 247.91634 224.64 \nL 247.91634 43.96828 \nL 205.935149 43.96828 \nz\n\" style=\"fill:#1f77b4;\"/>\n   </g>\n   <g id=\"patch_7\">\n    <path clip-path=\"url(#p4d59ead7f3)\" d=\"M 258.411638 224.64 \nL 300.392829 224.64 \nL 300.392829 17.554286 \nL 258.411638 17.554286 \nz\n\" style=\"fill:#1f77b4;\"/>\n   </g>\n   <g id=\"patch_8\">\n    <path clip-path=\"url(#p4d59ead7f3)\" d=\"M 310.888127 224.64 \nL 352.869318 224.64 \nL 352.869318 20.195685 \nL 310.888127 20.195685 \nz\n\" style=\"fill:#1f77b4;\"/>\n   </g>\n   <g id=\"matplotlib.axis_1\">\n    <g id=\"xtick_1\">\n     <g id=\"line2d_1\">\n      <defs>\n       <path d=\"M 0 0 \nL 0 3.5 \n\" id=\"m82cb8e8d7f\" style=\"stroke:#000000;stroke-width:0.8;\"/>\n      </defs>\n      <g>\n       <use style=\"stroke:#000000;stroke-width:0.8;\" x=\"69.496277\" xlink:href=\"#m82cb8e8d7f\" y=\"224.64\"/>\n      </g>\n     </g>\n     <g id=\"text_1\">\n      <!-- 0 -->\n      <g transform=\"translate(66.315027 239.238438)scale(0.1 -0.1)\">\n       <defs>\n        <path d=\"M 31.78125 66.40625 \nQ 24.171875 66.40625 20.328125 58.90625 \nQ 16.5 51.421875 16.5 36.375 \nQ 16.5 21.390625 20.328125 13.890625 \nQ 24.171875 6.390625 31.78125 6.390625 \nQ 39.453125 6.390625 43.28125 13.890625 \nQ 47.125 21.390625 47.125 36.375 \nQ 47.125 51.421875 43.28125 58.90625 \nQ 39.453125 66.40625 31.78125 66.40625 \nz\nM 31.78125 74.21875 \nQ 44.046875 74.21875 50.515625 64.515625 \nQ 56.984375 54.828125 56.984375 36.375 \nQ 56.984375 17.96875 50.515625 8.265625 \nQ 44.046875 -1.421875 31.78125 -1.421875 \nQ 19.53125 -1.421875 13.0625 8.265625 \nQ 6.59375 17.96875 6.59375 36.375 \nQ 6.59375 54.828125 13.0625 64.515625 \nQ 19.53125 74.21875 31.78125 74.21875 \nz\n\" id=\"DejaVuSans-48\"/>\n       </defs>\n       <use xlink:href=\"#DejaVuSans-48\"/>\n      </g>\n     </g>\n    </g>\n    <g id=\"xtick_2\">\n     <g id=\"line2d_2\">\n      <g>\n       <use style=\"stroke:#000000;stroke-width:0.8;\" x=\"121.972766\" xlink:href=\"#m82cb8e8d7f\" y=\"224.64\"/>\n      </g>\n     </g>\n     <g id=\"text_2\">\n      <!-- 1 -->\n      <g transform=\"translate(118.791516 239.238438)scale(0.1 -0.1)\">\n       <defs>\n        <path d=\"M 12.40625 8.296875 \nL 28.515625 8.296875 \nL 28.515625 63.921875 \nL 10.984375 60.40625 \nL 10.984375 69.390625 \nL 28.421875 72.90625 \nL 38.28125 72.90625 \nL 38.28125 8.296875 \nL 54.390625 8.296875 \nL 54.390625 0 \nL 12.40625 0 \nz\n\" id=\"DejaVuSans-49\"/>\n       </defs>\n       <use xlink:href=\"#DejaVuSans-49\"/>\n      </g>\n     </g>\n    </g>\n    <g id=\"xtick_3\">\n     <g id=\"line2d_3\">\n      <g>\n       <use style=\"stroke:#000000;stroke-width:0.8;\" x=\"174.449255\" xlink:href=\"#m82cb8e8d7f\" y=\"224.64\"/>\n      </g>\n     </g>\n     <g id=\"text_3\">\n      <!-- 2 -->\n      <g transform=\"translate(171.268005 239.238438)scale(0.1 -0.1)\">\n       <defs>\n        <path d=\"M 19.1875 8.296875 \nL 53.609375 8.296875 \nL 53.609375 0 \nL 7.328125 0 \nL 7.328125 8.296875 \nQ 12.9375 14.109375 22.625 23.890625 \nQ 32.328125 33.6875 34.8125 36.53125 \nQ 39.546875 41.84375 41.421875 45.53125 \nQ 43.3125 49.21875 43.3125 52.78125 \nQ 43.3125 58.59375 39.234375 62.25 \nQ 35.15625 65.921875 28.609375 65.921875 \nQ 23.96875 65.921875 18.8125 64.3125 \nQ 13.671875 62.703125 7.8125 59.421875 \nL 7.8125 69.390625 \nQ 13.765625 71.78125 18.9375 73 \nQ 24.125 74.21875 28.421875 74.21875 \nQ 39.75 74.21875 46.484375 68.546875 \nQ 53.21875 62.890625 53.21875 53.421875 \nQ 53.21875 48.921875 51.53125 44.890625 \nQ 49.859375 40.875 45.40625 35.40625 \nQ 44.1875 33.984375 37.640625 27.21875 \nQ 31.109375 20.453125 19.1875 8.296875 \nz\n\" id=\"DejaVuSans-50\"/>\n       </defs>\n       <use xlink:href=\"#DejaVuSans-50\"/>\n      </g>\n     </g>\n    </g>\n    <g id=\"xtick_4\">\n     <g id=\"line2d_4\">\n      <g>\n       <use style=\"stroke:#000000;stroke-width:0.8;\" x=\"226.925745\" xlink:href=\"#m82cb8e8d7f\" y=\"224.64\"/>\n      </g>\n     </g>\n     <g id=\"text_4\">\n      <!-- 3 -->\n      <g transform=\"translate(223.744495 239.238438)scale(0.1 -0.1)\">\n       <defs>\n        <path d=\"M 40.578125 39.3125 \nQ 47.65625 37.796875 51.625 33 \nQ 55.609375 28.21875 55.609375 21.1875 \nQ 55.609375 10.40625 48.1875 4.484375 \nQ 40.765625 -1.421875 27.09375 -1.421875 \nQ 22.515625 -1.421875 17.65625 -0.515625 \nQ 12.796875 0.390625 7.625 2.203125 \nL 7.625 11.71875 \nQ 11.71875 9.328125 16.59375 8.109375 \nQ 21.484375 6.890625 26.8125 6.890625 \nQ 36.078125 6.890625 40.9375 10.546875 \nQ 45.796875 14.203125 45.796875 21.1875 \nQ 45.796875 27.640625 41.28125 31.265625 \nQ 36.765625 34.90625 28.71875 34.90625 \nL 20.21875 34.90625 \nL 20.21875 43.015625 \nL 29.109375 43.015625 \nQ 36.375 43.015625 40.234375 45.921875 \nQ 44.09375 48.828125 44.09375 54.296875 \nQ 44.09375 59.90625 40.109375 62.90625 \nQ 36.140625 65.921875 28.71875 65.921875 \nQ 24.65625 65.921875 20.015625 65.03125 \nQ 15.375 64.15625 9.8125 62.3125 \nL 9.8125 71.09375 \nQ 15.4375 72.65625 20.34375 73.4375 \nQ 25.25 74.21875 29.59375 74.21875 \nQ 40.828125 74.21875 47.359375 69.109375 \nQ 53.90625 64.015625 53.90625 55.328125 \nQ 53.90625 49.265625 50.4375 45.09375 \nQ 46.96875 40.921875 40.578125 39.3125 \nz\n\" id=\"DejaVuSans-51\"/>\n       </defs>\n       <use xlink:href=\"#DejaVuSans-51\"/>\n      </g>\n     </g>\n    </g>\n    <g id=\"xtick_5\">\n     <g id=\"line2d_5\">\n      <g>\n       <use style=\"stroke:#000000;stroke-width:0.8;\" x=\"279.402234\" xlink:href=\"#m82cb8e8d7f\" y=\"224.64\"/>\n      </g>\n     </g>\n     <g id=\"text_5\">\n      <!-- 4 -->\n      <g transform=\"translate(276.220984 239.238438)scale(0.1 -0.1)\">\n       <defs>\n        <path d=\"M 37.796875 64.3125 \nL 12.890625 25.390625 \nL 37.796875 25.390625 \nz\nM 35.203125 72.90625 \nL 47.609375 72.90625 \nL 47.609375 25.390625 \nL 58.015625 25.390625 \nL 58.015625 17.1875 \nL 47.609375 17.1875 \nL 47.609375 0 \nL 37.796875 0 \nL 37.796875 17.1875 \nL 4.890625 17.1875 \nL 4.890625 26.703125 \nz\n\" id=\"DejaVuSans-52\"/>\n       </defs>\n       <use xlink:href=\"#DejaVuSans-52\"/>\n      </g>\n     </g>\n    </g>\n    <g id=\"xtick_6\">\n     <g id=\"line2d_6\">\n      <g>\n       <use style=\"stroke:#000000;stroke-width:0.8;\" x=\"331.878723\" xlink:href=\"#m82cb8e8d7f\" y=\"224.64\"/>\n      </g>\n     </g>\n     <g id=\"text_6\">\n      <!-- 5 -->\n      <g transform=\"translate(328.697473 239.238438)scale(0.1 -0.1)\">\n       <defs>\n        <path d=\"M 10.796875 72.90625 \nL 49.515625 72.90625 \nL 49.515625 64.59375 \nL 19.828125 64.59375 \nL 19.828125 46.734375 \nQ 21.96875 47.46875 24.109375 47.828125 \nQ 26.265625 48.1875 28.421875 48.1875 \nQ 40.625 48.1875 47.75 41.5 \nQ 54.890625 34.8125 54.890625 23.390625 \nQ 54.890625 11.625 47.5625 5.09375 \nQ 40.234375 -1.421875 26.90625 -1.421875 \nQ 22.3125 -1.421875 17.546875 -0.640625 \nQ 12.796875 0.140625 7.71875 1.703125 \nL 7.71875 11.625 \nQ 12.109375 9.234375 16.796875 8.0625 \nQ 21.484375 6.890625 26.703125 6.890625 \nQ 35.15625 6.890625 40.078125 11.328125 \nQ 45.015625 15.765625 45.015625 23.390625 \nQ 45.015625 31 40.078125 35.4375 \nQ 35.15625 39.890625 26.703125 39.890625 \nQ 22.75 39.890625 18.8125 39.015625 \nQ 14.890625 38.140625 10.796875 36.28125 \nz\n\" id=\"DejaVuSans-53\"/>\n       </defs>\n       <use xlink:href=\"#DejaVuSans-53\"/>\n      </g>\n     </g>\n    </g>\n   </g>\n   <g id=\"matplotlib.axis_2\">\n    <g id=\"ytick_1\">\n     <g id=\"line2d_7\">\n      <defs>\n       <path d=\"M 0 0 \nL -3.5 0 \n\" id=\"mfc13bc4fa6\" style=\"stroke:#000000;stroke-width:0.8;\"/>\n      </defs>\n      <g>\n       <use style=\"stroke:#000000;stroke-width:0.8;\" x=\"33.2875\" xlink:href=\"#mfc13bc4fa6\" y=\"224.64\"/>\n      </g>\n     </g>\n     <g id=\"text_7\">\n      <!-- 0 -->\n      <g transform=\"translate(19.925 228.439219)scale(0.1 -0.1)\">\n       <use xlink:href=\"#DejaVuSans-48\"/>\n      </g>\n     </g>\n    </g>\n    <g id=\"ytick_2\">\n     <g id=\"line2d_8\">\n      <g>\n       <use style=\"stroke:#000000;stroke-width:0.8;\" x=\"33.2875\" xlink:href=\"#mfc13bc4fa6\" y=\"198.226006\"/>\n      </g>\n     </g>\n     <g id=\"text_8\">\n      <!-- 50 -->\n      <g transform=\"translate(13.5625 202.025225)scale(0.1 -0.1)\">\n       <use xlink:href=\"#DejaVuSans-53\"/>\n       <use x=\"63.623047\" xlink:href=\"#DejaVuSans-48\"/>\n      </g>\n     </g>\n    </g>\n    <g id=\"ytick_3\">\n     <g id=\"line2d_9\">\n      <g>\n       <use style=\"stroke:#000000;stroke-width:0.8;\" x=\"33.2875\" xlink:href=\"#mfc13bc4fa6\" y=\"171.812012\"/>\n      </g>\n     </g>\n     <g id=\"text_9\">\n      <!-- 100 -->\n      <g transform=\"translate(7.2 175.61123)scale(0.1 -0.1)\">\n       <use xlink:href=\"#DejaVuSans-49\"/>\n       <use x=\"63.623047\" xlink:href=\"#DejaVuSans-48\"/>\n       <use x=\"127.246094\" xlink:href=\"#DejaVuSans-48\"/>\n      </g>\n     </g>\n    </g>\n    <g id=\"ytick_4\">\n     <g id=\"line2d_10\">\n      <g>\n       <use style=\"stroke:#000000;stroke-width:0.8;\" x=\"33.2875\" xlink:href=\"#mfc13bc4fa6\" y=\"145.398017\"/>\n      </g>\n     </g>\n     <g id=\"text_10\">\n      <!-- 150 -->\n      <g transform=\"translate(7.2 149.197236)scale(0.1 -0.1)\">\n       <use xlink:href=\"#DejaVuSans-49\"/>\n       <use x=\"63.623047\" xlink:href=\"#DejaVuSans-53\"/>\n       <use x=\"127.246094\" xlink:href=\"#DejaVuSans-48\"/>\n      </g>\n     </g>\n    </g>\n    <g id=\"ytick_5\">\n     <g id=\"line2d_11\">\n      <g>\n       <use style=\"stroke:#000000;stroke-width:0.8;\" x=\"33.2875\" xlink:href=\"#mfc13bc4fa6\" y=\"118.984023\"/>\n      </g>\n     </g>\n     <g id=\"text_11\">\n      <!-- 200 -->\n      <g transform=\"translate(7.2 122.783242)scale(0.1 -0.1)\">\n       <use xlink:href=\"#DejaVuSans-50\"/>\n       <use x=\"63.623047\" xlink:href=\"#DejaVuSans-48\"/>\n       <use x=\"127.246094\" xlink:href=\"#DejaVuSans-48\"/>\n      </g>\n     </g>\n    </g>\n    <g id=\"ytick_6\">\n     <g id=\"line2d_12\">\n      <g>\n       <use style=\"stroke:#000000;stroke-width:0.8;\" x=\"33.2875\" xlink:href=\"#mfc13bc4fa6\" y=\"92.570029\"/>\n      </g>\n     </g>\n     <g id=\"text_12\">\n      <!-- 250 -->\n      <g transform=\"translate(7.2 96.369248)scale(0.1 -0.1)\">\n       <use xlink:href=\"#DejaVuSans-50\"/>\n       <use x=\"63.623047\" xlink:href=\"#DejaVuSans-53\"/>\n       <use x=\"127.246094\" xlink:href=\"#DejaVuSans-48\"/>\n      </g>\n     </g>\n    </g>\n    <g id=\"ytick_7\">\n     <g id=\"line2d_13\">\n      <g>\n       <use style=\"stroke:#000000;stroke-width:0.8;\" x=\"33.2875\" xlink:href=\"#mfc13bc4fa6\" y=\"66.156035\"/>\n      </g>\n     </g>\n     <g id=\"text_13\">\n      <!-- 300 -->\n      <g transform=\"translate(7.2 69.955254)scale(0.1 -0.1)\">\n       <use xlink:href=\"#DejaVuSans-51\"/>\n       <use x=\"63.623047\" xlink:href=\"#DejaVuSans-48\"/>\n       <use x=\"127.246094\" xlink:href=\"#DejaVuSans-48\"/>\n      </g>\n     </g>\n    </g>\n    <g id=\"ytick_8\">\n     <g id=\"line2d_14\">\n      <g>\n       <use style=\"stroke:#000000;stroke-width:0.8;\" x=\"33.2875\" xlink:href=\"#mfc13bc4fa6\" y=\"39.742041\"/>\n      </g>\n     </g>\n     <g id=\"text_14\">\n      <!-- 350 -->\n      <g transform=\"translate(7.2 43.54126)scale(0.1 -0.1)\">\n       <use xlink:href=\"#DejaVuSans-51\"/>\n       <use x=\"63.623047\" xlink:href=\"#DejaVuSans-53\"/>\n       <use x=\"127.246094\" xlink:href=\"#DejaVuSans-48\"/>\n      </g>\n     </g>\n    </g>\n    <g id=\"ytick_9\">\n     <g id=\"line2d_15\">\n      <g>\n       <use style=\"stroke:#000000;stroke-width:0.8;\" x=\"33.2875\" xlink:href=\"#mfc13bc4fa6\" y=\"13.328047\"/>\n      </g>\n     </g>\n     <g id=\"text_15\">\n      <!-- 400 -->\n      <g transform=\"translate(7.2 17.127265)scale(0.1 -0.1)\">\n       <use xlink:href=\"#DejaVuSans-52\"/>\n       <use x=\"63.623047\" xlink:href=\"#DejaVuSans-48\"/>\n       <use x=\"127.246094\" xlink:href=\"#DejaVuSans-48\"/>\n      </g>\n     </g>\n    </g>\n   </g>\n   <g id=\"patch_9\">\n    <path d=\"M 33.2875 224.64 \nL 33.2875 7.2 \n\" style=\"fill:none;stroke:#000000;stroke-linecap:square;stroke-linejoin:miter;stroke-width:0.8;\"/>\n   </g>\n   <g id=\"patch_10\">\n    <path d=\"M 368.0875 224.64 \nL 368.0875 7.2 \n\" style=\"fill:none;stroke:#000000;stroke-linecap:square;stroke-linejoin:miter;stroke-width:0.8;\"/>\n   </g>\n   <g id=\"patch_11\">\n    <path d=\"M 33.2875 224.64 \nL 368.0875 224.64 \n\" style=\"fill:none;stroke:#000000;stroke-linecap:square;stroke-linejoin:miter;stroke-width:0.8;\"/>\n   </g>\n   <g id=\"patch_12\">\n    <path d=\"M 33.2875 7.2 \nL 368.0875 7.2 \n\" style=\"fill:none;stroke:#000000;stroke-linecap:square;stroke-linejoin:miter;stroke-width:0.8;\"/>\n   </g>\n  </g>\n </g>\n <defs>\n  <clipPath id=\"p4d59ead7f3\">\n   <rect height=\"217.44\" width=\"334.8\" x=\"33.2875\" y=\"7.2\"/>\n  </clipPath>\n </defs>\n</svg>\n",
      "image/png": "[encoded data removed]"
     },
     "metadata": {
      "needs_background": "light"
     }
    }
   ],
   "source": [
    "# plot males that watched the movies\n",
    "plt.bar(range(6), males[males.columns[3:9]].sum())"
   ]
  },
  {
   "cell_type": "code",
   "execution_count": 25,
   "metadata": {},
   "outputs": [
    {
     "output_type": "execute_result",
     "data": {
      "text/plain": [
       "seen_1    298\n",
       "seen_2    237\n",
       "seen_3    222\n",
       "seen_4    255\n",
       "seen_5    353\n",
       "seen_6    338\n",
       "dtype: int64"
      ]
     },
     "metadata": {},
     "execution_count": 25
    }
   ],
   "source": [
    "# number of females that watched the movies\n",
    "females[females.columns[3:9]].sum()"
   ]
  },
  {
   "cell_type": "code",
   "execution_count": 26,
   "metadata": {},
   "outputs": [
    {
     "output_type": "execute_result",
     "data": {
      "text/plain": [
       "<BarContainer object of 6 artists>"
      ]
     },
     "metadata": {},
     "execution_count": 26
    },
    {
     "output_type": "display_data",
     "data": {
      "text/plain": "<Figure size 432x288 with 1 Axes>",
      "image/svg+xml": "<?xml version=\"1.0\" encoding=\"utf-8\" standalone=\"no\"?>\n<!DOCTYPE svg PUBLIC \"-//W3C//DTD SVG 1.1//EN\"\n  \"http://www.w3.org/Graphics/SVG/1.1/DTD/svg11.dtd\">\n<!-- Created with matplotlib (https://matplotlib.org/) -->\n<svg height=\"248.518125pt\" version=\"1.1\" viewBox=\"0 0 375.2875 248.518125\" width=\"375.2875pt\" xmlns=\"http://www.w3.org/2000/svg\" xmlns:xlink=\"http://www.w3.org/1999/xlink\">\n <metadata>\n  <rdf:RDF xmlns:cc=\"http://creativecommons.org/ns#\" xmlns:dc=\"http://purl.org/dc/elements/1.1/\" xmlns:rdf=\"http://www.w3.org/1999/02/22-rdf-syntax-ns#\">\n   <cc:Work>\n    <dc:type rdf:resource=\"http://purl.org/dc/dcmitype/StillImage\"/>\n    <dc:date>2021-01-19T18:59:14.233298</dc:date>\n    <dc:format>image/svg+xml</dc:format>\n    <dc:creator>\n     <cc:Agent>\n      <dc:title>Matplotlib v3.3.1, https://matplotlib.org/</dc:title>\n     </cc:Agent>\n    </dc:creator>\n   </cc:Work>\n  </rdf:RDF>\n </metadata>\n <defs>\n  <style type=\"text/css\">*{stroke-linecap:butt;stroke-linejoin:round;}</style>\n </defs>\n <g id=\"figure_1\">\n  <g id=\"patch_1\">\n   <path d=\"M 0 248.518125 \nL 375.2875 248.518125 \nL 375.2875 0 \nL 0 0 \nz\n\" style=\"fill:none;\"/>\n  </g>\n  <g id=\"axes_1\">\n   <g id=\"patch_2\">\n    <path d=\"M 33.2875 224.64 \nL 368.0875 224.64 \nL 368.0875 7.2 \nL 33.2875 7.2 \nz\n\" style=\"fill:#ffffff;\"/>\n   </g>\n   <g id=\"patch_3\">\n    <path clip-path=\"url(#p2c3d9c88aa)\" d=\"M 48.505682 224.64 \nL 90.486873 224.64 \nL 90.486873 49.819765 \nL 48.505682 49.819765 \nz\n\" style=\"fill:#1f77b4;\"/>\n   </g>\n   <g id=\"patch_4\">\n    <path clip-path=\"url(#p2c3d9c88aa)\" d=\"M 100.982171 224.64 \nL 142.963362 224.64 \nL 142.963362 85.605115 \nL 100.982171 85.605115 \nz\n\" style=\"fill:#1f77b4;\"/>\n   </g>\n   <g id=\"patch_5\">\n    <path clip-path=\"url(#p2c3d9c88aa)\" d=\"M 153.45866 224.64 \nL 195.439851 224.64 \nL 195.439851 94.404792 \nL 153.45866 94.404792 \nz\n\" style=\"fill:#1f77b4;\"/>\n   </g>\n   <g id=\"patch_6\">\n    <path clip-path=\"url(#p2c3d9c88aa)\" d=\"M 205.935149 224.64 \nL 247.91634 224.64 \nL 247.91634 75.045504 \nL 205.935149 75.045504 \nz\n\" style=\"fill:#1f77b4;\"/>\n   </g>\n   <g id=\"patch_7\">\n    <path clip-path=\"url(#p2c3d9c88aa)\" d=\"M 258.411638 224.64 \nL 300.392829 224.64 \nL 300.392829 17.554286 \nL 258.411638 17.554286 \nz\n\" style=\"fill:#1f77b4;\"/>\n   </g>\n   <g id=\"patch_8\">\n    <path clip-path=\"url(#p2c3d9c88aa)\" d=\"M 310.888127 224.64 \nL 352.869318 224.64 \nL 352.869318 26.353962 \nL 310.888127 26.353962 \nz\n\" style=\"fill:#1f77b4;\"/>\n   </g>\n   <g id=\"matplotlib.axis_1\">\n    <g id=\"xtick_1\">\n     <g id=\"line2d_1\">\n      <defs>\n       <path d=\"M 0 0 \nL 0 3.5 \n\" id=\"m82d61dde93\" style=\"stroke:#000000;stroke-width:0.8;\"/>\n      </defs>\n      <g>\n       <use style=\"stroke:#000000;stroke-width:0.8;\" x=\"69.496277\" xlink:href=\"#m82d61dde93\" y=\"224.64\"/>\n      </g>\n     </g>\n     <g id=\"text_1\">\n      <!-- 0 -->\n      <g transform=\"translate(66.315027 239.238438)scale(0.1 -0.1)\">\n       <defs>\n        <path d=\"M 31.78125 66.40625 \nQ 24.171875 66.40625 20.328125 58.90625 \nQ 16.5 51.421875 16.5 36.375 \nQ 16.5 21.390625 20.328125 13.890625 \nQ 24.171875 6.390625 31.78125 6.390625 \nQ 39.453125 6.390625 43.28125 13.890625 \nQ 47.125 21.390625 47.125 36.375 \nQ 47.125 51.421875 43.28125 58.90625 \nQ 39.453125 66.40625 31.78125 66.40625 \nz\nM 31.78125 74.21875 \nQ 44.046875 74.21875 50.515625 64.515625 \nQ 56.984375 54.828125 56.984375 36.375 \nQ 56.984375 17.96875 50.515625 8.265625 \nQ 44.046875 -1.421875 31.78125 -1.421875 \nQ 19.53125 -1.421875 13.0625 8.265625 \nQ 6.59375 17.96875 6.59375 36.375 \nQ 6.59375 54.828125 13.0625 64.515625 \nQ 19.53125 74.21875 31.78125 74.21875 \nz\n\" id=\"DejaVuSans-48\"/>\n       </defs>\n       <use xlink:href=\"#DejaVuSans-48\"/>\n      </g>\n     </g>\n    </g>\n    <g id=\"xtick_2\">\n     <g id=\"line2d_2\">\n      <g>\n       <use style=\"stroke:#000000;stroke-width:0.8;\" x=\"121.972766\" xlink:href=\"#m82d61dde93\" y=\"224.64\"/>\n      </g>\n     </g>\n     <g id=\"text_2\">\n      <!-- 1 -->\n      <g transform=\"translate(118.791516 239.238438)scale(0.1 -0.1)\">\n       <defs>\n        <path d=\"M 12.40625 8.296875 \nL 28.515625 8.296875 \nL 28.515625 63.921875 \nL 10.984375 60.40625 \nL 10.984375 69.390625 \nL 28.421875 72.90625 \nL 38.28125 72.90625 \nL 38.28125 8.296875 \nL 54.390625 8.296875 \nL 54.390625 0 \nL 12.40625 0 \nz\n\" id=\"DejaVuSans-49\"/>\n       </defs>\n       <use xlink:href=\"#DejaVuSans-49\"/>\n      </g>\n     </g>\n    </g>\n    <g id=\"xtick_3\">\n     <g id=\"line2d_3\">\n      <g>\n       <use style=\"stroke:#000000;stroke-width:0.8;\" x=\"174.449255\" xlink:href=\"#m82d61dde93\" y=\"224.64\"/>\n      </g>\n     </g>\n     <g id=\"text_3\">\n      <!-- 2 -->\n      <g transform=\"translate(171.268005 239.238438)scale(0.1 -0.1)\">\n       <defs>\n        <path d=\"M 19.1875 8.296875 \nL 53.609375 8.296875 \nL 53.609375 0 \nL 7.328125 0 \nL 7.328125 8.296875 \nQ 12.9375 14.109375 22.625 23.890625 \nQ 32.328125 33.6875 34.8125 36.53125 \nQ 39.546875 41.84375 41.421875 45.53125 \nQ 43.3125 49.21875 43.3125 52.78125 \nQ 43.3125 58.59375 39.234375 62.25 \nQ 35.15625 65.921875 28.609375 65.921875 \nQ 23.96875 65.921875 18.8125 64.3125 \nQ 13.671875 62.703125 7.8125 59.421875 \nL 7.8125 69.390625 \nQ 13.765625 71.78125 18.9375 73 \nQ 24.125 74.21875 28.421875 74.21875 \nQ 39.75 74.21875 46.484375 68.546875 \nQ 53.21875 62.890625 53.21875 53.421875 \nQ 53.21875 48.921875 51.53125 44.890625 \nQ 49.859375 40.875 45.40625 35.40625 \nQ 44.1875 33.984375 37.640625 27.21875 \nQ 31.109375 20.453125 19.1875 8.296875 \nz\n\" id=\"DejaVuSans-50\"/>\n       </defs>\n       <use xlink:href=\"#DejaVuSans-50\"/>\n      </g>\n     </g>\n    </g>\n    <g id=\"xtick_4\">\n     <g id=\"line2d_4\">\n      <g>\n       <use style=\"stroke:#000000;stroke-width:0.8;\" x=\"226.925745\" xlink:href=\"#m82d61dde93\" y=\"224.64\"/>\n      </g>\n     </g>\n     <g id=\"text_4\">\n      <!-- 3 -->\n      <g transform=\"translate(223.744495 239.238438)scale(0.1 -0.1)\">\n       <defs>\n        <path d=\"M 40.578125 39.3125 \nQ 47.65625 37.796875 51.625 33 \nQ 55.609375 28.21875 55.609375 21.1875 \nQ 55.609375 10.40625 48.1875 4.484375 \nQ 40.765625 -1.421875 27.09375 -1.421875 \nQ 22.515625 -1.421875 17.65625 -0.515625 \nQ 12.796875 0.390625 7.625 2.203125 \nL 7.625 11.71875 \nQ 11.71875 9.328125 16.59375 8.109375 \nQ 21.484375 6.890625 26.8125 6.890625 \nQ 36.078125 6.890625 40.9375 10.546875 \nQ 45.796875 14.203125 45.796875 21.1875 \nQ 45.796875 27.640625 41.28125 31.265625 \nQ 36.765625 34.90625 28.71875 34.90625 \nL 20.21875 34.90625 \nL 20.21875 43.015625 \nL 29.109375 43.015625 \nQ 36.375 43.015625 40.234375 45.921875 \nQ 44.09375 48.828125 44.09375 54.296875 \nQ 44.09375 59.90625 40.109375 62.90625 \nQ 36.140625 65.921875 28.71875 65.921875 \nQ 24.65625 65.921875 20.015625 65.03125 \nQ 15.375 64.15625 9.8125 62.3125 \nL 9.8125 71.09375 \nQ 15.4375 72.65625 20.34375 73.4375 \nQ 25.25 74.21875 29.59375 74.21875 \nQ 40.828125 74.21875 47.359375 69.109375 \nQ 53.90625 64.015625 53.90625 55.328125 \nQ 53.90625 49.265625 50.4375 45.09375 \nQ 46.96875 40.921875 40.578125 39.3125 \nz\n\" id=\"DejaVuSans-51\"/>\n       </defs>\n       <use xlink:href=\"#DejaVuSans-51\"/>\n      </g>\n     </g>\n    </g>\n    <g id=\"xtick_5\">\n     <g id=\"line2d_5\">\n      <g>\n       <use style=\"stroke:#000000;stroke-width:0.8;\" x=\"279.402234\" xlink:href=\"#m82d61dde93\" y=\"224.64\"/>\n      </g>\n     </g>\n     <g id=\"text_5\">\n      <!-- 4 -->\n      <g transform=\"translate(276.220984 239.238438)scale(0.1 -0.1)\">\n       <defs>\n        <path d=\"M 37.796875 64.3125 \nL 12.890625 25.390625 \nL 37.796875 25.390625 \nz\nM 35.203125 72.90625 \nL 47.609375 72.90625 \nL 47.609375 25.390625 \nL 58.015625 25.390625 \nL 58.015625 17.1875 \nL 47.609375 17.1875 \nL 47.609375 0 \nL 37.796875 0 \nL 37.796875 17.1875 \nL 4.890625 17.1875 \nL 4.890625 26.703125 \nz\n\" id=\"DejaVuSans-52\"/>\n       </defs>\n       <use xlink:href=\"#DejaVuSans-52\"/>\n      </g>\n     </g>\n    </g>\n    <g id=\"xtick_6\">\n     <g id=\"line2d_6\">\n      <g>\n       <use style=\"stroke:#000000;stroke-width:0.8;\" x=\"331.878723\" xlink:href=\"#m82d61dde93\" y=\"224.64\"/>\n      </g>\n     </g>\n     <g id=\"text_6\">\n      <!-- 5 -->\n      <g transform=\"translate(328.697473 239.238438)scale(0.1 -0.1)\">\n       <defs>\n        <path d=\"M 10.796875 72.90625 \nL 49.515625 72.90625 \nL 49.515625 64.59375 \nL 19.828125 64.59375 \nL 19.828125 46.734375 \nQ 21.96875 47.46875 24.109375 47.828125 \nQ 26.265625 48.1875 28.421875 48.1875 \nQ 40.625 48.1875 47.75 41.5 \nQ 54.890625 34.8125 54.890625 23.390625 \nQ 54.890625 11.625 47.5625 5.09375 \nQ 40.234375 -1.421875 26.90625 -1.421875 \nQ 22.3125 -1.421875 17.546875 -0.640625 \nQ 12.796875 0.140625 7.71875 1.703125 \nL 7.71875 11.625 \nQ 12.109375 9.234375 16.796875 8.0625 \nQ 21.484375 6.890625 26.703125 6.890625 \nQ 35.15625 6.890625 40.078125 11.328125 \nQ 45.015625 15.765625 45.015625 23.390625 \nQ 45.015625 31 40.078125 35.4375 \nQ 35.15625 39.890625 26.703125 39.890625 \nQ 22.75 39.890625 18.8125 39.015625 \nQ 14.890625 38.140625 10.796875 36.28125 \nz\n\" id=\"DejaVuSans-53\"/>\n       </defs>\n       <use xlink:href=\"#DejaVuSans-53\"/>\n      </g>\n     </g>\n    </g>\n   </g>\n   <g id=\"matplotlib.axis_2\">\n    <g id=\"ytick_1\">\n     <g id=\"line2d_7\">\n      <defs>\n       <path d=\"M 0 0 \nL -3.5 0 \n\" id=\"m0b81c84aff\" style=\"stroke:#000000;stroke-width:0.8;\"/>\n      </defs>\n      <g>\n       <use style=\"stroke:#000000;stroke-width:0.8;\" x=\"33.2875\" xlink:href=\"#m0b81c84aff\" y=\"224.64\"/>\n      </g>\n     </g>\n     <g id=\"text_7\">\n      <!-- 0 -->\n      <g transform=\"translate(19.925 228.439219)scale(0.1 -0.1)\">\n       <use xlink:href=\"#DejaVuSans-48\"/>\n      </g>\n     </g>\n    </g>\n    <g id=\"ytick_2\">\n     <g id=\"line2d_8\">\n      <g>\n       <use style=\"stroke:#000000;stroke-width:0.8;\" x=\"33.2875\" xlink:href=\"#m0b81c84aff\" y=\"195.307746\"/>\n      </g>\n     </g>\n     <g id=\"text_8\">\n      <!-- 50 -->\n      <g transform=\"translate(13.5625 199.106965)scale(0.1 -0.1)\">\n       <use xlink:href=\"#DejaVuSans-53\"/>\n       <use x=\"63.623047\" xlink:href=\"#DejaVuSans-48\"/>\n      </g>\n     </g>\n    </g>\n    <g id=\"ytick_3\">\n     <g id=\"line2d_9\">\n      <g>\n       <use style=\"stroke:#000000;stroke-width:0.8;\" x=\"33.2875\" xlink:href=\"#m0b81c84aff\" y=\"165.975492\"/>\n      </g>\n     </g>\n     <g id=\"text_9\">\n      <!-- 100 -->\n      <g transform=\"translate(7.2 169.77471)scale(0.1 -0.1)\">\n       <use xlink:href=\"#DejaVuSans-49\"/>\n       <use x=\"63.623047\" xlink:href=\"#DejaVuSans-48\"/>\n       <use x=\"127.246094\" xlink:href=\"#DejaVuSans-48\"/>\n      </g>\n     </g>\n    </g>\n    <g id=\"ytick_4\">\n     <g id=\"line2d_10\">\n      <g>\n       <use style=\"stroke:#000000;stroke-width:0.8;\" x=\"33.2875\" xlink:href=\"#m0b81c84aff\" y=\"136.643238\"/>\n      </g>\n     </g>\n     <g id=\"text_10\">\n      <!-- 150 -->\n      <g transform=\"translate(7.2 140.442456)scale(0.1 -0.1)\">\n       <use xlink:href=\"#DejaVuSans-49\"/>\n       <use x=\"63.623047\" xlink:href=\"#DejaVuSans-53\"/>\n       <use x=\"127.246094\" xlink:href=\"#DejaVuSans-48\"/>\n      </g>\n     </g>\n    </g>\n    <g id=\"ytick_5\">\n     <g id=\"line2d_11\">\n      <g>\n       <use style=\"stroke:#000000;stroke-width:0.8;\" x=\"33.2875\" xlink:href=\"#m0b81c84aff\" y=\"107.310983\"/>\n      </g>\n     </g>\n     <g id=\"text_11\">\n      <!-- 200 -->\n      <g transform=\"translate(7.2 111.110202)scale(0.1 -0.1)\">\n       <use xlink:href=\"#DejaVuSans-50\"/>\n       <use x=\"63.623047\" xlink:href=\"#DejaVuSans-48\"/>\n       <use x=\"127.246094\" xlink:href=\"#DejaVuSans-48\"/>\n      </g>\n     </g>\n    </g>\n    <g id=\"ytick_6\">\n     <g id=\"line2d_12\">\n      <g>\n       <use style=\"stroke:#000000;stroke-width:0.8;\" x=\"33.2875\" xlink:href=\"#m0b81c84aff\" y=\"77.978729\"/>\n      </g>\n     </g>\n     <g id=\"text_12\">\n      <!-- 250 -->\n      <g transform=\"translate(7.2 81.777948)scale(0.1 -0.1)\">\n       <use xlink:href=\"#DejaVuSans-50\"/>\n       <use x=\"63.623047\" xlink:href=\"#DejaVuSans-53\"/>\n       <use x=\"127.246094\" xlink:href=\"#DejaVuSans-48\"/>\n      </g>\n     </g>\n    </g>\n    <g id=\"ytick_7\">\n     <g id=\"line2d_13\">\n      <g>\n       <use style=\"stroke:#000000;stroke-width:0.8;\" x=\"33.2875\" xlink:href=\"#m0b81c84aff\" y=\"48.646475\"/>\n      </g>\n     </g>\n     <g id=\"text_13\">\n      <!-- 300 -->\n      <g transform=\"translate(7.2 52.445694)scale(0.1 -0.1)\">\n       <use xlink:href=\"#DejaVuSans-51\"/>\n       <use x=\"63.623047\" xlink:href=\"#DejaVuSans-48\"/>\n       <use x=\"127.246094\" xlink:href=\"#DejaVuSans-48\"/>\n      </g>\n     </g>\n    </g>\n    <g id=\"ytick_8\">\n     <g id=\"line2d_14\">\n      <g>\n       <use style=\"stroke:#000000;stroke-width:0.8;\" x=\"33.2875\" xlink:href=\"#m0b81c84aff\" y=\"19.314221\"/>\n      </g>\n     </g>\n     <g id=\"text_14\">\n      <!-- 350 -->\n      <g transform=\"translate(7.2 23.11344)scale(0.1 -0.1)\">\n       <use xlink:href=\"#DejaVuSans-51\"/>\n       <use x=\"63.623047\" xlink:href=\"#DejaVuSans-53\"/>\n       <use x=\"127.246094\" xlink:href=\"#DejaVuSans-48\"/>\n      </g>\n     </g>\n    </g>\n   </g>\n   <g id=\"patch_9\">\n    <path d=\"M 33.2875 224.64 \nL 33.2875 7.2 \n\" style=\"fill:none;stroke:#000000;stroke-linecap:square;stroke-linejoin:miter;stroke-width:0.8;\"/>\n   </g>\n   <g id=\"patch_10\">\n    <path d=\"M 368.0875 224.64 \nL 368.0875 7.2 \n\" style=\"fill:none;stroke:#000000;stroke-linecap:square;stroke-linejoin:miter;stroke-width:0.8;\"/>\n   </g>\n   <g id=\"patch_11\">\n    <path d=\"M 33.2875 224.64 \nL 368.0875 224.64 \n\" style=\"fill:none;stroke:#000000;stroke-linecap:square;stroke-linejoin:miter;stroke-width:0.8;\"/>\n   </g>\n   <g id=\"patch_12\">\n    <path d=\"M 33.2875 7.2 \nL 368.0875 7.2 \n\" style=\"fill:none;stroke:#000000;stroke-linecap:square;stroke-linejoin:miter;stroke-width:0.8;\"/>\n   </g>\n  </g>\n </g>\n <defs>\n  <clipPath id=\"p2c3d9c88aa\">\n   <rect height=\"217.44\" width=\"334.8\" x=\"33.2875\" y=\"7.2\"/>\n  </clipPath>\n </defs>\n</svg>\n",
      "image/png": "[encoded data removed]"
     },
     "metadata": {
      "needs_background": "light"
     }
    }
   ],
   "source": [
    "# plot of female viewers\n",
    "plt.bar(range(6), females[females.columns[3:9]].sum())"
   ]
  },
  {
   "source": [
    "## Male/Female differences in favorite Star Wars movie and most seen movie\n",
    "Interestingly, more males watches episodes 1-3, but males liked them far less than females did."
   ],
   "cell_type": "markdown",
   "metadata": {}
  },
  {
   "cell_type": "code",
   "execution_count": 32,
   "metadata": {},
   "outputs": [
    {
     "output_type": "execute_result",
     "data": {
      "text/plain": [
       "seen_1    500\n",
       "seen_2    463\n",
       "seen_3    450\n",
       "seen_4    483\n",
       "seen_5    538\n",
       "seen_6    537\n",
       "dtype: int64"
      ]
     },
     "metadata": {},
     "execution_count": 32
    }
   ],
   "source": [
    "# number of star wars franchise fans who watched the movies\n",
    "star_wars_fan[star_wars_fan.columns[3:9]].sum()"
   ]
  },
  {
   "cell_type": "code",
   "execution_count": 27,
   "metadata": {},
   "outputs": [
    {
     "output_type": "execute_result",
     "data": {
      "text/plain": [
       "<BarContainer object of 6 artists>"
      ]
     },
     "metadata": {},
     "execution_count": 27
    },
    {
     "output_type": "display_data",
     "data": {
      "text/plain": "<Figure size 432x288 with 1 Axes>",
      "image/svg+xml": "<?xml version=\"1.0\" encoding=\"utf-8\" standalone=\"no\"?>\n<!DOCTYPE svg PUBLIC \"-//W3C//DTD SVG 1.1//EN\"\n  \"http://www.w3.org/Graphics/SVG/1.1/DTD/svg11.dtd\">\n<!-- Created with matplotlib (https://matplotlib.org/) -->\n<svg height=\"248.518125pt\" version=\"1.1\" viewBox=\"0 0 375.2875 248.518125\" width=\"375.2875pt\" xmlns=\"http://www.w3.org/2000/svg\" xmlns:xlink=\"http://www.w3.org/1999/xlink\">\n <metadata>\n  <rdf:RDF xmlns:cc=\"http://creativecommons.org/ns#\" xmlns:dc=\"http://purl.org/dc/elements/1.1/\" xmlns:rdf=\"http://www.w3.org/1999/02/22-rdf-syntax-ns#\">\n   <cc:Work>\n    <dc:type rdf:resource=\"http://purl.org/dc/dcmitype/StillImage\"/>\n    <dc:date>2021-01-19T18:59:14.845533</dc:date>\n    <dc:format>image/svg+xml</dc:format>\n    <dc:creator>\n     <cc:Agent>\n      <dc:title>Matplotlib v3.3.1, https://matplotlib.org/</dc:title>\n     </cc:Agent>\n    </dc:creator>\n   </cc:Work>\n  </rdf:RDF>\n </metadata>\n <defs>\n  <style type=\"text/css\">*{stroke-linecap:butt;stroke-linejoin:round;}</style>\n </defs>\n <g id=\"figure_1\">\n  <g id=\"patch_1\">\n   <path d=\"M 0 248.518125 \nL 375.2875 248.518125 \nL 375.2875 0 \nL 0 0 \nz\n\" style=\"fill:none;\"/>\n  </g>\n  <g id=\"axes_1\">\n   <g id=\"patch_2\">\n    <path d=\"M 33.2875 224.64 \nL 368.0875 224.64 \nL 368.0875 7.2 \nL 33.2875 7.2 \nz\n\" style=\"fill:#ffffff;\"/>\n   </g>\n   <g id=\"patch_3\">\n    <path clip-path=\"url(#p0ce1e6b46c)\" d=\"M 48.505682 224.64 \nL 90.486873 224.64 \nL 90.486873 32.181158 \nL 48.505682 32.181158 \nz\n\" style=\"fill:#1f77b4;\"/>\n   </g>\n   <g id=\"patch_4\">\n    <path clip-path=\"url(#p0ce1e6b46c)\" d=\"M 100.982171 224.64 \nL 142.963362 224.64 \nL 142.963362 46.423112 \nL 100.982171 46.423112 \nz\n\" style=\"fill:#1f77b4;\"/>\n   </g>\n   <g id=\"patch_5\">\n    <path clip-path=\"url(#p0ce1e6b46c)\" d=\"M 153.45866 224.64 \nL 195.439851 224.64 \nL 195.439851 51.427042 \nL 153.45866 51.427042 \nz\n\" style=\"fill:#1f77b4;\"/>\n   </g>\n   <g id=\"patch_6\">\n    <path clip-path=\"url(#p0ce1e6b46c)\" d=\"M 205.935149 224.64 \nL 247.91634 224.64 \nL 247.91634 38.724758 \nL 205.935149 38.724758 \nz\n\" style=\"fill:#1f77b4;\"/>\n   </g>\n   <g id=\"patch_7\">\n    <path clip-path=\"url(#p0ce1e6b46c)\" d=\"M 258.411638 224.64 \nL 300.392829 224.64 \nL 300.392829 17.554286 \nL 258.411638 17.554286 \nz\n\" style=\"fill:#1f77b4;\"/>\n   </g>\n   <g id=\"patch_8\">\n    <path clip-path=\"url(#p0ce1e6b46c)\" d=\"M 310.888127 224.64 \nL 352.869318 224.64 \nL 352.869318 17.939203 \nL 310.888127 17.939203 \nz\n\" style=\"fill:#1f77b4;\"/>\n   </g>\n   <g id=\"matplotlib.axis_1\">\n    <g id=\"xtick_1\">\n     <g id=\"line2d_1\">\n      <defs>\n       <path d=\"M 0 0 \nL 0 3.5 \n\" id=\"m88657d3f8d\" style=\"stroke:#000000;stroke-width:0.8;\"/>\n      </defs>\n      <g>\n       <use style=\"stroke:#000000;stroke-width:0.8;\" x=\"69.496277\" xlink:href=\"#m88657d3f8d\" y=\"224.64\"/>\n      </g>\n     </g>\n     <g id=\"text_1\">\n      <!-- 0 -->\n      <g transform=\"translate(66.315027 239.238437)scale(0.1 -0.1)\">\n       <defs>\n        <path d=\"M 31.78125 66.40625 \nQ 24.171875 66.40625 20.328125 58.90625 \nQ 16.5 51.421875 16.5 36.375 \nQ 16.5 21.390625 20.328125 13.890625 \nQ 24.171875 6.390625 31.78125 6.390625 \nQ 39.453125 6.390625 43.28125 13.890625 \nQ 47.125 21.390625 47.125 36.375 \nQ 47.125 51.421875 43.28125 58.90625 \nQ 39.453125 66.40625 31.78125 66.40625 \nz\nM 31.78125 74.21875 \nQ 44.046875 74.21875 50.515625 64.515625 \nQ 56.984375 54.828125 56.984375 36.375 \nQ 56.984375 17.96875 50.515625 8.265625 \nQ 44.046875 -1.421875 31.78125 -1.421875 \nQ 19.53125 -1.421875 13.0625 8.265625 \nQ 6.59375 17.96875 6.59375 36.375 \nQ 6.59375 54.828125 13.0625 64.515625 \nQ 19.53125 74.21875 31.78125 74.21875 \nz\n\" id=\"DejaVuSans-48\"/>\n       </defs>\n       <use xlink:href=\"#DejaVuSans-48\"/>\n      </g>\n     </g>\n    </g>\n    <g id=\"xtick_2\">\n     <g id=\"line2d_2\">\n      <g>\n       <use style=\"stroke:#000000;stroke-width:0.8;\" x=\"121.972766\" xlink:href=\"#m88657d3f8d\" y=\"224.64\"/>\n      </g>\n     </g>\n     <g id=\"text_2\">\n      <!-- 1 -->\n      <g transform=\"translate(118.791516 239.238437)scale(0.1 -0.1)\">\n       <defs>\n        <path d=\"M 12.40625 8.296875 \nL 28.515625 8.296875 \nL 28.515625 63.921875 \nL 10.984375 60.40625 \nL 10.984375 69.390625 \nL 28.421875 72.90625 \nL 38.28125 72.90625 \nL 38.28125 8.296875 \nL 54.390625 8.296875 \nL 54.390625 0 \nL 12.40625 0 \nz\n\" id=\"DejaVuSans-49\"/>\n       </defs>\n       <use xlink:href=\"#DejaVuSans-49\"/>\n      </g>\n     </g>\n    </g>\n    <g id=\"xtick_3\">\n     <g id=\"line2d_3\">\n      <g>\n       <use style=\"stroke:#000000;stroke-width:0.8;\" x=\"174.449255\" xlink:href=\"#m88657d3f8d\" y=\"224.64\"/>\n      </g>\n     </g>\n     <g id=\"text_3\">\n      <!-- 2 -->\n      <g transform=\"translate(171.268005 239.238437)scale(0.1 -0.1)\">\n       <defs>\n        <path d=\"M 19.1875 8.296875 \nL 53.609375 8.296875 \nL 53.609375 0 \nL 7.328125 0 \nL 7.328125 8.296875 \nQ 12.9375 14.109375 22.625 23.890625 \nQ 32.328125 33.6875 34.8125 36.53125 \nQ 39.546875 41.84375 41.421875 45.53125 \nQ 43.3125 49.21875 43.3125 52.78125 \nQ 43.3125 58.59375 39.234375 62.25 \nQ 35.15625 65.921875 28.609375 65.921875 \nQ 23.96875 65.921875 18.8125 64.3125 \nQ 13.671875 62.703125 7.8125 59.421875 \nL 7.8125 69.390625 \nQ 13.765625 71.78125 18.9375 73 \nQ 24.125 74.21875 28.421875 74.21875 \nQ 39.75 74.21875 46.484375 68.546875 \nQ 53.21875 62.890625 53.21875 53.421875 \nQ 53.21875 48.921875 51.53125 44.890625 \nQ 49.859375 40.875 45.40625 35.40625 \nQ 44.1875 33.984375 37.640625 27.21875 \nQ 31.109375 20.453125 19.1875 8.296875 \nz\n\" id=\"DejaVuSans-50\"/>\n       </defs>\n       <use xlink:href=\"#DejaVuSans-50\"/>\n      </g>\n     </g>\n    </g>\n    <g id=\"xtick_4\">\n     <g id=\"line2d_4\">\n      <g>\n       <use style=\"stroke:#000000;stroke-width:0.8;\" x=\"226.925745\" xlink:href=\"#m88657d3f8d\" y=\"224.64\"/>\n      </g>\n     </g>\n     <g id=\"text_4\">\n      <!-- 3 -->\n      <g transform=\"translate(223.744495 239.238437)scale(0.1 -0.1)\">\n       <defs>\n        <path d=\"M 40.578125 39.3125 \nQ 47.65625 37.796875 51.625 33 \nQ 55.609375 28.21875 55.609375 21.1875 \nQ 55.609375 10.40625 48.1875 4.484375 \nQ 40.765625 -1.421875 27.09375 -1.421875 \nQ 22.515625 -1.421875 17.65625 -0.515625 \nQ 12.796875 0.390625 7.625 2.203125 \nL 7.625 11.71875 \nQ 11.71875 9.328125 16.59375 8.109375 \nQ 21.484375 6.890625 26.8125 6.890625 \nQ 36.078125 6.890625 40.9375 10.546875 \nQ 45.796875 14.203125 45.796875 21.1875 \nQ 45.796875 27.640625 41.28125 31.265625 \nQ 36.765625 34.90625 28.71875 34.90625 \nL 20.21875 34.90625 \nL 20.21875 43.015625 \nL 29.109375 43.015625 \nQ 36.375 43.015625 40.234375 45.921875 \nQ 44.09375 48.828125 44.09375 54.296875 \nQ 44.09375 59.90625 40.109375 62.90625 \nQ 36.140625 65.921875 28.71875 65.921875 \nQ 24.65625 65.921875 20.015625 65.03125 \nQ 15.375 64.15625 9.8125 62.3125 \nL 9.8125 71.09375 \nQ 15.4375 72.65625 20.34375 73.4375 \nQ 25.25 74.21875 29.59375 74.21875 \nQ 40.828125 74.21875 47.359375 69.109375 \nQ 53.90625 64.015625 53.90625 55.328125 \nQ 53.90625 49.265625 50.4375 45.09375 \nQ 46.96875 40.921875 40.578125 39.3125 \nz\n\" id=\"DejaVuSans-51\"/>\n       </defs>\n       <use xlink:href=\"#DejaVuSans-51\"/>\n      </g>\n     </g>\n    </g>\n    <g id=\"xtick_5\">\n     <g id=\"line2d_5\">\n      <g>\n       <use style=\"stroke:#000000;stroke-width:0.8;\" x=\"279.402234\" xlink:href=\"#m88657d3f8d\" y=\"224.64\"/>\n      </g>\n     </g>\n     <g id=\"text_5\">\n      <!-- 4 -->\n      <g transform=\"translate(276.220984 239.238437)scale(0.1 -0.1)\">\n       <defs>\n        <path d=\"M 37.796875 64.3125 \nL 12.890625 25.390625 \nL 37.796875 25.390625 \nz\nM 35.203125 72.90625 \nL 47.609375 72.90625 \nL 47.609375 25.390625 \nL 58.015625 25.390625 \nL 58.015625 17.1875 \nL 47.609375 17.1875 \nL 47.609375 0 \nL 37.796875 0 \nL 37.796875 17.1875 \nL 4.890625 17.1875 \nL 4.890625 26.703125 \nz\n\" id=\"DejaVuSans-52\"/>\n       </defs>\n       <use xlink:href=\"#DejaVuSans-52\"/>\n      </g>\n     </g>\n    </g>\n    <g id=\"xtick_6\">\n     <g id=\"line2d_6\">\n      <g>\n       <use style=\"stroke:#000000;stroke-width:0.8;\" x=\"331.878723\" xlink:href=\"#m88657d3f8d\" y=\"224.64\"/>\n      </g>\n     </g>\n     <g id=\"text_6\">\n      <!-- 5 -->\n      <g transform=\"translate(328.697473 239.238437)scale(0.1 -0.1)\">\n       <defs>\n        <path d=\"M 10.796875 72.90625 \nL 49.515625 72.90625 \nL 49.515625 64.59375 \nL 19.828125 64.59375 \nL 19.828125 46.734375 \nQ 21.96875 47.46875 24.109375 47.828125 \nQ 26.265625 48.1875 28.421875 48.1875 \nQ 40.625 48.1875 47.75 41.5 \nQ 54.890625 34.8125 54.890625 23.390625 \nQ 54.890625 11.625 47.5625 5.09375 \nQ 40.234375 -1.421875 26.90625 -1.421875 \nQ 22.3125 -1.421875 17.546875 -0.640625 \nQ 12.796875 0.140625 7.71875 1.703125 \nL 7.71875 11.625 \nQ 12.109375 9.234375 16.796875 8.0625 \nQ 21.484375 6.890625 26.703125 6.890625 \nQ 35.15625 6.890625 40.078125 11.328125 \nQ 45.015625 15.765625 45.015625 23.390625 \nQ 45.015625 31 40.078125 35.4375 \nQ 35.15625 39.890625 26.703125 39.890625 \nQ 22.75 39.890625 18.8125 39.015625 \nQ 14.890625 38.140625 10.796875 36.28125 \nz\n\" id=\"DejaVuSans-53\"/>\n       </defs>\n       <use xlink:href=\"#DejaVuSans-53\"/>\n      </g>\n     </g>\n    </g>\n   </g>\n   <g id=\"matplotlib.axis_2\">\n    <g id=\"ytick_1\">\n     <g id=\"line2d_7\">\n      <defs>\n       <path d=\"M 0 0 \nL -3.5 0 \n\" id=\"mf2b28503a8\" style=\"stroke:#000000;stroke-width:0.8;\"/>\n      </defs>\n      <g>\n       <use style=\"stroke:#000000;stroke-width:0.8;\" x=\"33.2875\" xlink:href=\"#mf2b28503a8\" y=\"224.64\"/>\n      </g>\n     </g>\n     <g id=\"text_7\">\n      <!-- 0 -->\n      <g transform=\"translate(19.925 228.439219)scale(0.1 -0.1)\">\n       <use xlink:href=\"#DejaVuSans-48\"/>\n      </g>\n     </g>\n    </g>\n    <g id=\"ytick_2\">\n     <g id=\"line2d_8\">\n      <g>\n       <use style=\"stroke:#000000;stroke-width:0.8;\" x=\"33.2875\" xlink:href=\"#mf2b28503a8\" y=\"186.148232\"/>\n      </g>\n     </g>\n     <g id=\"text_8\">\n      <!-- 100 -->\n      <g transform=\"translate(7.2 189.94745)scale(0.1 -0.1)\">\n       <use xlink:href=\"#DejaVuSans-49\"/>\n       <use x=\"63.623047\" xlink:href=\"#DejaVuSans-48\"/>\n       <use x=\"127.246094\" xlink:href=\"#DejaVuSans-48\"/>\n      </g>\n     </g>\n    </g>\n    <g id=\"ytick_3\">\n     <g id=\"line2d_9\">\n      <g>\n       <use style=\"stroke:#000000;stroke-width:0.8;\" x=\"33.2875\" xlink:href=\"#mf2b28503a8\" y=\"147.656463\"/>\n      </g>\n     </g>\n     <g id=\"text_9\">\n      <!-- 200 -->\n      <g transform=\"translate(7.2 151.455682)scale(0.1 -0.1)\">\n       <use xlink:href=\"#DejaVuSans-50\"/>\n       <use x=\"63.623047\" xlink:href=\"#DejaVuSans-48\"/>\n       <use x=\"127.246094\" xlink:href=\"#DejaVuSans-48\"/>\n      </g>\n     </g>\n    </g>\n    <g id=\"ytick_4\">\n     <g id=\"line2d_10\">\n      <g>\n       <use style=\"stroke:#000000;stroke-width:0.8;\" x=\"33.2875\" xlink:href=\"#mf2b28503a8\" y=\"109.164695\"/>\n      </g>\n     </g>\n     <g id=\"text_10\">\n      <!-- 300 -->\n      <g transform=\"translate(7.2 112.963913)scale(0.1 -0.1)\">\n       <use xlink:href=\"#DejaVuSans-51\"/>\n       <use x=\"63.623047\" xlink:href=\"#DejaVuSans-48\"/>\n       <use x=\"127.246094\" xlink:href=\"#DejaVuSans-48\"/>\n      </g>\n     </g>\n    </g>\n    <g id=\"ytick_5\">\n     <g id=\"line2d_11\">\n      <g>\n       <use style=\"stroke:#000000;stroke-width:0.8;\" x=\"33.2875\" xlink:href=\"#mf2b28503a8\" y=\"70.672926\"/>\n      </g>\n     </g>\n     <g id=\"text_11\">\n      <!-- 400 -->\n      <g transform=\"translate(7.2 74.472145)scale(0.1 -0.1)\">\n       <use xlink:href=\"#DejaVuSans-52\"/>\n       <use x=\"63.623047\" xlink:href=\"#DejaVuSans-48\"/>\n       <use x=\"127.246094\" xlink:href=\"#DejaVuSans-48\"/>\n      </g>\n     </g>\n    </g>\n    <g id=\"ytick_6\">\n     <g id=\"line2d_12\">\n      <g>\n       <use style=\"stroke:#000000;stroke-width:0.8;\" x=\"33.2875\" xlink:href=\"#mf2b28503a8\" y=\"32.181158\"/>\n      </g>\n     </g>\n     <g id=\"text_12\">\n      <!-- 500 -->\n      <g transform=\"translate(7.2 35.980376)scale(0.1 -0.1)\">\n       <use xlink:href=\"#DejaVuSans-53\"/>\n       <use x=\"63.623047\" xlink:href=\"#DejaVuSans-48\"/>\n       <use x=\"127.246094\" xlink:href=\"#DejaVuSans-48\"/>\n      </g>\n     </g>\n    </g>\n   </g>\n   <g id=\"patch_9\">\n    <path d=\"M 33.2875 224.64 \nL 33.2875 7.2 \n\" style=\"fill:none;stroke:#000000;stroke-linecap:square;stroke-linejoin:miter;stroke-width:0.8;\"/>\n   </g>\n   <g id=\"patch_10\">\n    <path d=\"M 368.0875 224.64 \nL 368.0875 7.2 \n\" style=\"fill:none;stroke:#000000;stroke-linecap:square;stroke-linejoin:miter;stroke-width:0.8;\"/>\n   </g>\n   <g id=\"patch_11\">\n    <path d=\"M 33.2875 224.64 \nL 368.0875 224.64 \n\" style=\"fill:none;stroke:#000000;stroke-linecap:square;stroke-linejoin:miter;stroke-width:0.8;\"/>\n   </g>\n   <g id=\"patch_12\">\n    <path d=\"M 33.2875 7.2 \nL 368.0875 7.2 \n\" style=\"fill:none;stroke:#000000;stroke-linecap:square;stroke-linejoin:miter;stroke-width:0.8;\"/>\n   </g>\n  </g>\n </g>\n <defs>\n  <clipPath id=\"p0ce1e6b46c\">\n   <rect height=\"217.44\" width=\"334.8\" x=\"33.2875\" y=\"7.2\"/>\n  </clipPath>\n </defs>\n</svg>\n",
      "image/png": "[encoded data removed]"
     },
     "metadata": {
      "needs_background": "light"
     }
    }
   ],
   "source": [
    "# plot of star wars fans that watched the movies\n",
    "plt.bar(range(6), star_wars_fan[star_wars_fan.columns[3:9]].sum())"
   ]
  },
  {
   "cell_type": "code",
   "execution_count": 33,
   "metadata": {},
   "outputs": [
    {
     "output_type": "execute_result",
     "data": {
      "text/plain": [
       "seen_1    364\n",
       "seen_2    336\n",
       "seen_3    322\n",
       "seen_4    342\n",
       "seen_5    397\n",
       "seen_6    396\n",
       "dtype: int64"
      ]
     },
     "metadata": {},
     "execution_count": 33
    }
   ],
   "source": [
    "# number of star trek franchise fans who watched the movies\n",
    "star_trek_fan[star_trek_fan.columns[3:9]].sum()"
   ]
  },
  {
   "cell_type": "code",
   "execution_count": 31,
   "metadata": {},
   "outputs": [
    {
     "output_type": "execute_result",
     "data": {
      "text/plain": [
       "<BarContainer object of 6 artists>"
      ]
     },
     "metadata": {},
     "execution_count": 31
    },
    {
     "output_type": "display_data",
     "data": {
      "text/plain": "<Figure size 432x288 with 1 Axes>",
      "image/svg+xml": "<?xml version=\"1.0\" encoding=\"utf-8\" standalone=\"no\"?>\n<!DOCTYPE svg PUBLIC \"-//W3C//DTD SVG 1.1//EN\"\n  \"http://www.w3.org/Graphics/SVG/1.1/DTD/svg11.dtd\">\n<!-- Created with matplotlib (https://matplotlib.org/) -->\n<svg height=\"248.518125pt\" version=\"1.1\" viewBox=\"0 0 375.2875 248.518125\" width=\"375.2875pt\" xmlns=\"http://www.w3.org/2000/svg\" xmlns:xlink=\"http://www.w3.org/1999/xlink\">\n <metadata>\n  <rdf:RDF xmlns:cc=\"http://creativecommons.org/ns#\" xmlns:dc=\"http://purl.org/dc/elements/1.1/\" xmlns:rdf=\"http://www.w3.org/1999/02/22-rdf-syntax-ns#\">\n   <cc:Work>\n    <dc:type rdf:resource=\"http://purl.org/dc/dcmitype/StillImage\"/>\n    <dc:date>2021-01-19T19:00:26.194474</dc:date>\n    <dc:format>image/svg+xml</dc:format>\n    <dc:creator>\n     <cc:Agent>\n      <dc:title>Matplotlib v3.3.1, https://matplotlib.org/</dc:title>\n     </cc:Agent>\n    </dc:creator>\n   </cc:Work>\n  </rdf:RDF>\n </metadata>\n <defs>\n  <style type=\"text/css\">*{stroke-linecap:butt;stroke-linejoin:round;}</style>\n </defs>\n <g id=\"figure_1\">\n  <g id=\"patch_1\">\n   <path d=\"M 0 248.518125 \nL 375.2875 248.518125 \nL 375.2875 0 \nL 0 0 \nz\n\" style=\"fill:none;\"/>\n  </g>\n  <g id=\"axes_1\">\n   <g id=\"patch_2\">\n    <path d=\"M 33.2875 224.64 \nL 368.0875 224.64 \nL 368.0875 7.2 \nL 33.2875 7.2 \nz\n\" style=\"fill:#ffffff;\"/>\n   </g>\n   <g id=\"patch_3\">\n    <path clip-path=\"url(#pa33d8832a3)\" d=\"M 48.505682 224.64 \nL 90.486873 224.64 \nL 90.486873 34.76796 \nL 48.505682 34.76796 \nz\n\" style=\"fill:#1f77b4;\"/>\n   </g>\n   <g id=\"patch_4\">\n    <path clip-path=\"url(#pa33d8832a3)\" d=\"M 100.982171 224.64 \nL 142.963362 224.64 \nL 142.963362 49.373501 \nL 100.982171 49.373501 \nz\n\" style=\"fill:#1f77b4;\"/>\n   </g>\n   <g id=\"patch_5\">\n    <path clip-path=\"url(#pa33d8832a3)\" d=\"M 153.45866 224.64 \nL 195.439851 224.64 \nL 195.439851 56.676272 \nL 153.45866 56.676272 \nz\n\" style=\"fill:#1f77b4;\"/>\n   </g>\n   <g id=\"patch_6\">\n    <path clip-path=\"url(#pa33d8832a3)\" d=\"M 205.935149 224.64 \nL 247.91634 224.64 \nL 247.91634 46.243742 \nL 205.935149 46.243742 \nz\n\" style=\"fill:#1f77b4;\"/>\n   </g>\n   <g id=\"patch_7\">\n    <path clip-path=\"url(#pa33d8832a3)\" d=\"M 258.411638 224.64 \nL 300.392829 224.64 \nL 300.392829 17.554286 \nL 258.411638 17.554286 \nz\n\" style=\"fill:#1f77b4;\"/>\n   </g>\n   <g id=\"patch_8\">\n    <path clip-path=\"url(#pa33d8832a3)\" d=\"M 310.888127 224.64 \nL 352.869318 224.64 \nL 352.869318 18.075912 \nL 310.888127 18.075912 \nz\n\" style=\"fill:#1f77b4;\"/>\n   </g>\n   <g id=\"matplotlib.axis_1\">\n    <g id=\"xtick_1\">\n     <g id=\"line2d_1\">\n      <defs>\n       <path d=\"M 0 0 \nL 0 3.5 \n\" id=\"mb438f0c80d\" style=\"stroke:#000000;stroke-width:0.8;\"/>\n      </defs>\n      <g>\n       <use style=\"stroke:#000000;stroke-width:0.8;\" x=\"69.496277\" xlink:href=\"#mb438f0c80d\" y=\"224.64\"/>\n      </g>\n     </g>\n     <g id=\"text_1\">\n      <!-- 0 -->\n      <g transform=\"translate(66.315027 239.238437)scale(0.1 -0.1)\">\n       <defs>\n        <path d=\"M 31.78125 66.40625 \nQ 24.171875 66.40625 20.328125 58.90625 \nQ 16.5 51.421875 16.5 36.375 \nQ 16.5 21.390625 20.328125 13.890625 \nQ 24.171875 6.390625 31.78125 6.390625 \nQ 39.453125 6.390625 43.28125 13.890625 \nQ 47.125 21.390625 47.125 36.375 \nQ 47.125 51.421875 43.28125 58.90625 \nQ 39.453125 66.40625 31.78125 66.40625 \nz\nM 31.78125 74.21875 \nQ 44.046875 74.21875 50.515625 64.515625 \nQ 56.984375 54.828125 56.984375 36.375 \nQ 56.984375 17.96875 50.515625 8.265625 \nQ 44.046875 -1.421875 31.78125 -1.421875 \nQ 19.53125 -1.421875 13.0625 8.265625 \nQ 6.59375 17.96875 6.59375 36.375 \nQ 6.59375 54.828125 13.0625 64.515625 \nQ 19.53125 74.21875 31.78125 74.21875 \nz\n\" id=\"DejaVuSans-48\"/>\n       </defs>\n       <use xlink:href=\"#DejaVuSans-48\"/>\n      </g>\n     </g>\n    </g>\n    <g id=\"xtick_2\">\n     <g id=\"line2d_2\">\n      <g>\n       <use style=\"stroke:#000000;stroke-width:0.8;\" x=\"121.972766\" xlink:href=\"#mb438f0c80d\" y=\"224.64\"/>\n      </g>\n     </g>\n     <g id=\"text_2\">\n      <!-- 1 -->\n      <g transform=\"translate(118.791516 239.238437)scale(0.1 -0.1)\">\n       <defs>\n        <path d=\"M 12.40625 8.296875 \nL 28.515625 8.296875 \nL 28.515625 63.921875 \nL 10.984375 60.40625 \nL 10.984375 69.390625 \nL 28.421875 72.90625 \nL 38.28125 72.90625 \nL 38.28125 8.296875 \nL 54.390625 8.296875 \nL 54.390625 0 \nL 12.40625 0 \nz\n\" id=\"DejaVuSans-49\"/>\n       </defs>\n       <use xlink:href=\"#DejaVuSans-49\"/>\n      </g>\n     </g>\n    </g>\n    <g id=\"xtick_3\">\n     <g id=\"line2d_3\">\n      <g>\n       <use style=\"stroke:#000000;stroke-width:0.8;\" x=\"174.449255\" xlink:href=\"#mb438f0c80d\" y=\"224.64\"/>\n      </g>\n     </g>\n     <g id=\"text_3\">\n      <!-- 2 -->\n      <g transform=\"translate(171.268005 239.238437)scale(0.1 -0.1)\">\n       <defs>\n        <path d=\"M 19.1875 8.296875 \nL 53.609375 8.296875 \nL 53.609375 0 \nL 7.328125 0 \nL 7.328125 8.296875 \nQ 12.9375 14.109375 22.625 23.890625 \nQ 32.328125 33.6875 34.8125 36.53125 \nQ 39.546875 41.84375 41.421875 45.53125 \nQ 43.3125 49.21875 43.3125 52.78125 \nQ 43.3125 58.59375 39.234375 62.25 \nQ 35.15625 65.921875 28.609375 65.921875 \nQ 23.96875 65.921875 18.8125 64.3125 \nQ 13.671875 62.703125 7.8125 59.421875 \nL 7.8125 69.390625 \nQ 13.765625 71.78125 18.9375 73 \nQ 24.125 74.21875 28.421875 74.21875 \nQ 39.75 74.21875 46.484375 68.546875 \nQ 53.21875 62.890625 53.21875 53.421875 \nQ 53.21875 48.921875 51.53125 44.890625 \nQ 49.859375 40.875 45.40625 35.40625 \nQ 44.1875 33.984375 37.640625 27.21875 \nQ 31.109375 20.453125 19.1875 8.296875 \nz\n\" id=\"DejaVuSans-50\"/>\n       </defs>\n       <use xlink:href=\"#DejaVuSans-50\"/>\n      </g>\n     </g>\n    </g>\n    <g id=\"xtick_4\">\n     <g id=\"line2d_4\">\n      <g>\n       <use style=\"stroke:#000000;stroke-width:0.8;\" x=\"226.925745\" xlink:href=\"#mb438f0c80d\" y=\"224.64\"/>\n      </g>\n     </g>\n     <g id=\"text_4\">\n      <!-- 3 -->\n      <g transform=\"translate(223.744495 239.238437)scale(0.1 -0.1)\">\n       <defs>\n        <path d=\"M 40.578125 39.3125 \nQ 47.65625 37.796875 51.625 33 \nQ 55.609375 28.21875 55.609375 21.1875 \nQ 55.609375 10.40625 48.1875 4.484375 \nQ 40.765625 -1.421875 27.09375 -1.421875 \nQ 22.515625 -1.421875 17.65625 -0.515625 \nQ 12.796875 0.390625 7.625 2.203125 \nL 7.625 11.71875 \nQ 11.71875 9.328125 16.59375 8.109375 \nQ 21.484375 6.890625 26.8125 6.890625 \nQ 36.078125 6.890625 40.9375 10.546875 \nQ 45.796875 14.203125 45.796875 21.1875 \nQ 45.796875 27.640625 41.28125 31.265625 \nQ 36.765625 34.90625 28.71875 34.90625 \nL 20.21875 34.90625 \nL 20.21875 43.015625 \nL 29.109375 43.015625 \nQ 36.375 43.015625 40.234375 45.921875 \nQ 44.09375 48.828125 44.09375 54.296875 \nQ 44.09375 59.90625 40.109375 62.90625 \nQ 36.140625 65.921875 28.71875 65.921875 \nQ 24.65625 65.921875 20.015625 65.03125 \nQ 15.375 64.15625 9.8125 62.3125 \nL 9.8125 71.09375 \nQ 15.4375 72.65625 20.34375 73.4375 \nQ 25.25 74.21875 29.59375 74.21875 \nQ 40.828125 74.21875 47.359375 69.109375 \nQ 53.90625 64.015625 53.90625 55.328125 \nQ 53.90625 49.265625 50.4375 45.09375 \nQ 46.96875 40.921875 40.578125 39.3125 \nz\n\" id=\"DejaVuSans-51\"/>\n       </defs>\n       <use xlink:href=\"#DejaVuSans-51\"/>\n      </g>\n     </g>\n    </g>\n    <g id=\"xtick_5\">\n     <g id=\"line2d_5\">\n      <g>\n       <use style=\"stroke:#000000;stroke-width:0.8;\" x=\"279.402234\" xlink:href=\"#mb438f0c80d\" y=\"224.64\"/>\n      </g>\n     </g>\n     <g id=\"text_5\">\n      <!-- 4 -->\n      <g transform=\"translate(276.220984 239.238437)scale(0.1 -0.1)\">\n       <defs>\n        <path d=\"M 37.796875 64.3125 \nL 12.890625 25.390625 \nL 37.796875 25.390625 \nz\nM 35.203125 72.90625 \nL 47.609375 72.90625 \nL 47.609375 25.390625 \nL 58.015625 25.390625 \nL 58.015625 17.1875 \nL 47.609375 17.1875 \nL 47.609375 0 \nL 37.796875 0 \nL 37.796875 17.1875 \nL 4.890625 17.1875 \nL 4.890625 26.703125 \nz\n\" id=\"DejaVuSans-52\"/>\n       </defs>\n       <use xlink:href=\"#DejaVuSans-52\"/>\n      </g>\n     </g>\n    </g>\n    <g id=\"xtick_6\">\n     <g id=\"line2d_6\">\n      <g>\n       <use style=\"stroke:#000000;stroke-width:0.8;\" x=\"331.878723\" xlink:href=\"#mb438f0c80d\" y=\"224.64\"/>\n      </g>\n     </g>\n     <g id=\"text_6\">\n      <!-- 5 -->\n      <g transform=\"translate(328.697473 239.238437)scale(0.1 -0.1)\">\n       <defs>\n        <path d=\"M 10.796875 72.90625 \nL 49.515625 72.90625 \nL 49.515625 64.59375 \nL 19.828125 64.59375 \nL 19.828125 46.734375 \nQ 21.96875 47.46875 24.109375 47.828125 \nQ 26.265625 48.1875 28.421875 48.1875 \nQ 40.625 48.1875 47.75 41.5 \nQ 54.890625 34.8125 54.890625 23.390625 \nQ 54.890625 11.625 47.5625 5.09375 \nQ 40.234375 -1.421875 26.90625 -1.421875 \nQ 22.3125 -1.421875 17.546875 -0.640625 \nQ 12.796875 0.140625 7.71875 1.703125 \nL 7.71875 11.625 \nQ 12.109375 9.234375 16.796875 8.0625 \nQ 21.484375 6.890625 26.703125 6.890625 \nQ 35.15625 6.890625 40.078125 11.328125 \nQ 45.015625 15.765625 45.015625 23.390625 \nQ 45.015625 31 40.078125 35.4375 \nQ 35.15625 39.890625 26.703125 39.890625 \nQ 22.75 39.890625 18.8125 39.015625 \nQ 14.890625 38.140625 10.796875 36.28125 \nz\n\" id=\"DejaVuSans-53\"/>\n       </defs>\n       <use xlink:href=\"#DejaVuSans-53\"/>\n      </g>\n     </g>\n    </g>\n   </g>\n   <g id=\"matplotlib.axis_2\">\n    <g id=\"ytick_1\">\n     <g id=\"line2d_7\">\n      <defs>\n       <path d=\"M 0 0 \nL -3.5 0 \n\" id=\"mbbba00f34e\" style=\"stroke:#000000;stroke-width:0.8;\"/>\n      </defs>\n      <g>\n       <use style=\"stroke:#000000;stroke-width:0.8;\" x=\"33.2875\" xlink:href=\"#mbbba00f34e\" y=\"224.64\"/>\n      </g>\n     </g>\n     <g id=\"text_7\">\n      <!-- 0 -->\n      <g transform=\"translate(19.925 228.439219)scale(0.1 -0.1)\">\n       <use xlink:href=\"#DejaVuSans-48\"/>\n      </g>\n     </g>\n    </g>\n    <g id=\"ytick_2\">\n     <g id=\"line2d_8\">\n      <g>\n       <use style=\"stroke:#000000;stroke-width:0.8;\" x=\"33.2875\" xlink:href=\"#mbbba00f34e\" y=\"198.558676\"/>\n      </g>\n     </g>\n     <g id=\"text_8\">\n      <!-- 50 -->\n      <g transform=\"translate(13.5625 202.357895)scale(0.1 -0.1)\">\n       <use xlink:href=\"#DejaVuSans-53\"/>\n       <use x=\"63.623047\" xlink:href=\"#DejaVuSans-48\"/>\n      </g>\n     </g>\n    </g>\n    <g id=\"ytick_3\">\n     <g id=\"line2d_9\">\n      <g>\n       <use style=\"stroke:#000000;stroke-width:0.8;\" x=\"33.2875\" xlink:href=\"#mbbba00f34e\" y=\"172.477352\"/>\n      </g>\n     </g>\n     <g id=\"text_9\">\n      <!-- 100 -->\n      <g transform=\"translate(7.2 176.27657)scale(0.1 -0.1)\">\n       <use xlink:href=\"#DejaVuSans-49\"/>\n       <use x=\"63.623047\" xlink:href=\"#DejaVuSans-48\"/>\n       <use x=\"127.246094\" xlink:href=\"#DejaVuSans-48\"/>\n      </g>\n     </g>\n    </g>\n    <g id=\"ytick_4\">\n     <g id=\"line2d_10\">\n      <g>\n       <use style=\"stroke:#000000;stroke-width:0.8;\" x=\"33.2875\" xlink:href=\"#mbbba00f34e\" y=\"146.396027\"/>\n      </g>\n     </g>\n     <g id=\"text_10\">\n      <!-- 150 -->\n      <g transform=\"translate(7.2 150.195246)scale(0.1 -0.1)\">\n       <use xlink:href=\"#DejaVuSans-49\"/>\n       <use x=\"63.623047\" xlink:href=\"#DejaVuSans-53\"/>\n       <use x=\"127.246094\" xlink:href=\"#DejaVuSans-48\"/>\n      </g>\n     </g>\n    </g>\n    <g id=\"ytick_5\">\n     <g id=\"line2d_11\">\n      <g>\n       <use style=\"stroke:#000000;stroke-width:0.8;\" x=\"33.2875\" xlink:href=\"#mbbba00f34e\" y=\"120.314703\"/>\n      </g>\n     </g>\n     <g id=\"text_11\">\n      <!-- 200 -->\n      <g transform=\"translate(7.2 124.113922)scale(0.1 -0.1)\">\n       <use xlink:href=\"#DejaVuSans-50\"/>\n       <use x=\"63.623047\" xlink:href=\"#DejaVuSans-48\"/>\n       <use x=\"127.246094\" xlink:href=\"#DejaVuSans-48\"/>\n      </g>\n     </g>\n    </g>\n    <g id=\"ytick_6\">\n     <g id=\"line2d_12\">\n      <g>\n       <use style=\"stroke:#000000;stroke-width:0.8;\" x=\"33.2875\" xlink:href=\"#mbbba00f34e\" y=\"94.233379\"/>\n      </g>\n     </g>\n     <g id=\"text_12\">\n      <!-- 250 -->\n      <g transform=\"translate(7.2 98.032598)scale(0.1 -0.1)\">\n       <use xlink:href=\"#DejaVuSans-50\"/>\n       <use x=\"63.623047\" xlink:href=\"#DejaVuSans-53\"/>\n       <use x=\"127.246094\" xlink:href=\"#DejaVuSans-48\"/>\n      </g>\n     </g>\n    </g>\n    <g id=\"ytick_7\">\n     <g id=\"line2d_13\">\n      <g>\n       <use style=\"stroke:#000000;stroke-width:0.8;\" x=\"33.2875\" xlink:href=\"#mbbba00f34e\" y=\"68.152055\"/>\n      </g>\n     </g>\n     <g id=\"text_13\">\n      <!-- 300 -->\n      <g transform=\"translate(7.2 71.951273)scale(0.1 -0.1)\">\n       <use xlink:href=\"#DejaVuSans-51\"/>\n       <use x=\"63.623047\" xlink:href=\"#DejaVuSans-48\"/>\n       <use x=\"127.246094\" xlink:href=\"#DejaVuSans-48\"/>\n      </g>\n     </g>\n    </g>\n    <g id=\"ytick_8\">\n     <g id=\"line2d_14\">\n      <g>\n       <use style=\"stroke:#000000;stroke-width:0.8;\" x=\"33.2875\" xlink:href=\"#mbbba00f34e\" y=\"42.07073\"/>\n      </g>\n     </g>\n     <g id=\"text_14\">\n      <!-- 350 -->\n      <g transform=\"translate(7.2 45.869949)scale(0.1 -0.1)\">\n       <use xlink:href=\"#DejaVuSans-51\"/>\n       <use x=\"63.623047\" xlink:href=\"#DejaVuSans-53\"/>\n       <use x=\"127.246094\" xlink:href=\"#DejaVuSans-48\"/>\n      </g>\n     </g>\n    </g>\n    <g id=\"ytick_9\">\n     <g id=\"line2d_15\">\n      <g>\n       <use style=\"stroke:#000000;stroke-width:0.8;\" x=\"33.2875\" xlink:href=\"#mbbba00f34e\" y=\"15.989406\"/>\n      </g>\n     </g>\n     <g id=\"text_15\">\n      <!-- 400 -->\n      <g transform=\"translate(7.2 19.788625)scale(0.1 -0.1)\">\n       <use xlink:href=\"#DejaVuSans-52\"/>\n       <use x=\"63.623047\" xlink:href=\"#DejaVuSans-48\"/>\n       <use x=\"127.246094\" xlink:href=\"#DejaVuSans-48\"/>\n      </g>\n     </g>\n    </g>\n   </g>\n   <g id=\"patch_9\">\n    <path d=\"M 33.2875 224.64 \nL 33.2875 7.2 \n\" style=\"fill:none;stroke:#000000;stroke-linecap:square;stroke-linejoin:miter;stroke-width:0.8;\"/>\n   </g>\n   <g id=\"patch_10\">\n    <path d=\"M 368.0875 224.64 \nL 368.0875 7.2 \n\" style=\"fill:none;stroke:#000000;stroke-linecap:square;stroke-linejoin:miter;stroke-width:0.8;\"/>\n   </g>\n   <g id=\"patch_11\">\n    <path d=\"M 33.2875 224.64 \nL 368.0875 224.64 \n\" style=\"fill:none;stroke:#000000;stroke-linecap:square;stroke-linejoin:miter;stroke-width:0.8;\"/>\n   </g>\n   <g id=\"patch_12\">\n    <path d=\"M 33.2875 7.2 \nL 368.0875 7.2 \n\" style=\"fill:none;stroke:#000000;stroke-linecap:square;stroke-linejoin:miter;stroke-width:0.8;\"/>\n   </g>\n  </g>\n </g>\n <defs>\n  <clipPath id=\"pa33d8832a3\">\n   <rect height=\"217.44\" width=\"334.8\" x=\"33.2875\" y=\"7.2\"/>\n  </clipPath>\n </defs>\n</svg>\n",
      "image/png": "[encoded data removed]"
     },
     "metadata": {
      "needs_background": "light"
     }
    }
   ],
   "source": [
    "# plot of star trek fans that watched the movies\n",
    "plt.bar(range(6), star_trek_fan[star_trek_fan.columns[3:9]].sum())"
   ]
  },
  {
   "source": [
    "## Franchise fan differences in favorite and most seen movies\n",
    "As expected, the more viewers were Star Wars Franchise Fans."
   ],
   "cell_type": "markdown",
   "metadata": {}
  }
 ]
}